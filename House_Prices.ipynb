{
 "cells": [
  {
   "attachments": {},
   "cell_type": "markdown",
   "id": "11b940bb",
   "metadata": {
    "papermill": {
     "duration": 0.018519,
     "end_time": "2023-05-23T22:29:16.168396",
     "exception": false,
     "start_time": "2023-05-23T22:29:16.149877",
     "status": "completed"
    },
    "tags": []
   },
   "source": [
    "# <span style='color:dodgerblue; font-weight:bold;'> House Prices </span>\n",
    "\n",
    "Kaggle | House Prices - Advanced Regression Techniques\n",
    "\n",
    "Ask a home buyer to describe their dream house, and they probably won’t begin with the height of the basement ceiling or the proximity to an east-west railroad. But this playground competition’s dataset proves that much more influences price negotiations than the number of bedrooms or a white-picket fence.\n",
    "\n",
    "With 79 explanatory variables describing (almost) every aspect of residential homes in Ames, Iowa, this competition challenges you to predict the final price of each home."
   ]
  },
  {
   "attachments": {},
   "cell_type": "markdown",
   "id": "d869e869",
   "metadata": {
    "papermill": {
     "duration": 0.016604,
     "end_time": "2023-05-23T22:29:16.202187",
     "exception": false,
     "start_time": "2023-05-23T22:29:16.185583",
     "status": "completed"
    },
    "tags": []
   },
   "source": [
    "### <span style='color:aqua; font-weight:bold;'> Import Packages and Load the data</span> "
   ]
  },
  {
   "cell_type": "code",
   "execution_count": 39,
   "id": "0907b070",
   "metadata": {
    "papermill": {
     "duration": 4.088625,
     "end_time": "2023-05-23T22:29:20.307712",
     "exception": false,
     "start_time": "2023-05-23T22:29:16.219087",
     "status": "completed"
    },
    "tags": []
   },
   "outputs": [],
   "source": [
    "# Essential\n",
    "import numpy as np\n",
    "import pandas as pd\n",
    "\n",
    "# Visualization\n",
    "import seaborn as sns\n",
    "import matplotlib.pyplot as plt\n",
    "import matplotlib.style as style\n",
    "import plotly.graph_objects as go\n",
    "import plotly.express as px\n",
    "%matplotlib inline\n",
    "\n",
    "# Machine learning and statistical\n",
    "import statsmodels.api as sm\n",
    "from sklearn.model_selection import train_test_split, cross_val_predict, cross_val_score\n",
    "from sklearn.impute import SimpleImputer\n",
    "from sklearn.decomposition import PCA\n",
    "from sklearn.preprocessing import StandardScaler\n",
    "from sklearn.metrics import r2_score, mean_absolute_error, mean_squared_error\n",
    "from sklearn.linear_model import LinearRegression\n",
    "from sklearn.tree import DecisionTreeRegressor\n",
    "from sklearn.ensemble import RandomForestRegressor\n",
    "from sklearn.svm import SVR\n",
    "from sklearn.neural_network import MLPRegressor\n",
    "from xgboost import XGBRegressor\n",
    "\n",
    "# Ignore useless warnings\n",
    "import warnings\n",
    "warnings.filterwarnings('ignore')"
   ]
  },
  {
   "cell_type": "code",
   "execution_count": 40,
   "id": "7a914d94",
   "metadata": {
    "papermill": {
     "duration": 0.079339,
     "end_time": "2023-05-23T22:29:20.406164",
     "exception": false,
     "start_time": "2023-05-23T22:29:20.326825",
     "status": "completed"
    },
    "tags": []
   },
   "outputs": [],
   "source": [
    "train = pd.read_csv(\"train.csv\") # read training data."
   ]
  },
  {
   "attachments": {},
   "cell_type": "markdown",
   "id": "f884bee9",
   "metadata": {
    "papermill": {
     "duration": 0.016703,
     "end_time": "2023-05-23T22:29:20.439768",
     "exception": false,
     "start_time": "2023-05-23T22:29:20.423065",
     "status": "completed"
    },
    "tags": []
   },
   "source": [
    "# <span style='color:dodgerblue; font-weight:bold;'> Exploratory Data Analysis</span> "
   ]
  },
  {
   "cell_type": "code",
   "execution_count": 41,
   "id": "0b4e8feb",
   "metadata": {
    "papermill": {
     "duration": 0.032011,
     "end_time": "2023-05-23T22:29:20.489138",
     "exception": false,
     "start_time": "2023-05-23T22:29:20.457127",
     "status": "completed"
    },
    "tags": []
   },
   "outputs": [
    {
     "data": {
      "text/plain": [
       "(1460, 81)"
      ]
     },
     "execution_count": 41,
     "metadata": {},
     "output_type": "execute_result"
    }
   ],
   "source": [
    "train.shape # shape of training."
   ]
  },
  {
   "cell_type": "code",
   "execution_count": 42,
   "id": "c79be2a9",
   "metadata": {
    "papermill": {
     "duration": 0.083847,
     "end_time": "2023-05-23T22:29:20.589953",
     "exception": false,
     "start_time": "2023-05-23T22:29:20.506106",
     "status": "completed"
    },
    "tags": []
   },
   "outputs": [
    {
     "data": {
      "text/html": [
       "<div>\n",
       "<style scoped>\n",
       "    .dataframe tbody tr th:only-of-type {\n",
       "        vertical-align: middle;\n",
       "    }\n",
       "\n",
       "    .dataframe tbody tr th {\n",
       "        vertical-align: top;\n",
       "    }\n",
       "\n",
       "    .dataframe thead th {\n",
       "        text-align: right;\n",
       "    }\n",
       "</style>\n",
       "<table border=\"1\" class=\"dataframe\">\n",
       "  <thead>\n",
       "    <tr style=\"text-align: right;\">\n",
       "      <th></th>\n",
       "      <th>Id</th>\n",
       "      <th>MSSubClass</th>\n",
       "      <th>MSZoning</th>\n",
       "      <th>LotFrontage</th>\n",
       "      <th>LotArea</th>\n",
       "      <th>Street</th>\n",
       "      <th>Alley</th>\n",
       "      <th>LotShape</th>\n",
       "      <th>LandContour</th>\n",
       "      <th>Utilities</th>\n",
       "      <th>...</th>\n",
       "      <th>PoolArea</th>\n",
       "      <th>PoolQC</th>\n",
       "      <th>Fence</th>\n",
       "      <th>MiscFeature</th>\n",
       "      <th>MiscVal</th>\n",
       "      <th>MoSold</th>\n",
       "      <th>YrSold</th>\n",
       "      <th>SaleType</th>\n",
       "      <th>SaleCondition</th>\n",
       "      <th>SalePrice</th>\n",
       "    </tr>\n",
       "  </thead>\n",
       "  <tbody>\n",
       "    <tr>\n",
       "      <th>0</th>\n",
       "      <td>1</td>\n",
       "      <td>60</td>\n",
       "      <td>RL</td>\n",
       "      <td>65.0</td>\n",
       "      <td>8450</td>\n",
       "      <td>Pave</td>\n",
       "      <td>NaN</td>\n",
       "      <td>Reg</td>\n",
       "      <td>Lvl</td>\n",
       "      <td>AllPub</td>\n",
       "      <td>...</td>\n",
       "      <td>0</td>\n",
       "      <td>NaN</td>\n",
       "      <td>NaN</td>\n",
       "      <td>NaN</td>\n",
       "      <td>0</td>\n",
       "      <td>2</td>\n",
       "      <td>2008</td>\n",
       "      <td>WD</td>\n",
       "      <td>Normal</td>\n",
       "      <td>208500</td>\n",
       "    </tr>\n",
       "    <tr>\n",
       "      <th>1</th>\n",
       "      <td>2</td>\n",
       "      <td>20</td>\n",
       "      <td>RL</td>\n",
       "      <td>80.0</td>\n",
       "      <td>9600</td>\n",
       "      <td>Pave</td>\n",
       "      <td>NaN</td>\n",
       "      <td>Reg</td>\n",
       "      <td>Lvl</td>\n",
       "      <td>AllPub</td>\n",
       "      <td>...</td>\n",
       "      <td>0</td>\n",
       "      <td>NaN</td>\n",
       "      <td>NaN</td>\n",
       "      <td>NaN</td>\n",
       "      <td>0</td>\n",
       "      <td>5</td>\n",
       "      <td>2007</td>\n",
       "      <td>WD</td>\n",
       "      <td>Normal</td>\n",
       "      <td>181500</td>\n",
       "    </tr>\n",
       "    <tr>\n",
       "      <th>2</th>\n",
       "      <td>3</td>\n",
       "      <td>60</td>\n",
       "      <td>RL</td>\n",
       "      <td>68.0</td>\n",
       "      <td>11250</td>\n",
       "      <td>Pave</td>\n",
       "      <td>NaN</td>\n",
       "      <td>IR1</td>\n",
       "      <td>Lvl</td>\n",
       "      <td>AllPub</td>\n",
       "      <td>...</td>\n",
       "      <td>0</td>\n",
       "      <td>NaN</td>\n",
       "      <td>NaN</td>\n",
       "      <td>NaN</td>\n",
       "      <td>0</td>\n",
       "      <td>9</td>\n",
       "      <td>2008</td>\n",
       "      <td>WD</td>\n",
       "      <td>Normal</td>\n",
       "      <td>223500</td>\n",
       "    </tr>\n",
       "    <tr>\n",
       "      <th>3</th>\n",
       "      <td>4</td>\n",
       "      <td>70</td>\n",
       "      <td>RL</td>\n",
       "      <td>60.0</td>\n",
       "      <td>9550</td>\n",
       "      <td>Pave</td>\n",
       "      <td>NaN</td>\n",
       "      <td>IR1</td>\n",
       "      <td>Lvl</td>\n",
       "      <td>AllPub</td>\n",
       "      <td>...</td>\n",
       "      <td>0</td>\n",
       "      <td>NaN</td>\n",
       "      <td>NaN</td>\n",
       "      <td>NaN</td>\n",
       "      <td>0</td>\n",
       "      <td>2</td>\n",
       "      <td>2006</td>\n",
       "      <td>WD</td>\n",
       "      <td>Abnorml</td>\n",
       "      <td>140000</td>\n",
       "    </tr>\n",
       "    <tr>\n",
       "      <th>4</th>\n",
       "      <td>5</td>\n",
       "      <td>60</td>\n",
       "      <td>RL</td>\n",
       "      <td>84.0</td>\n",
       "      <td>14260</td>\n",
       "      <td>Pave</td>\n",
       "      <td>NaN</td>\n",
       "      <td>IR1</td>\n",
       "      <td>Lvl</td>\n",
       "      <td>AllPub</td>\n",
       "      <td>...</td>\n",
       "      <td>0</td>\n",
       "      <td>NaN</td>\n",
       "      <td>NaN</td>\n",
       "      <td>NaN</td>\n",
       "      <td>0</td>\n",
       "      <td>12</td>\n",
       "      <td>2008</td>\n",
       "      <td>WD</td>\n",
       "      <td>Normal</td>\n",
       "      <td>250000</td>\n",
       "    </tr>\n",
       "    <tr>\n",
       "      <th>5</th>\n",
       "      <td>6</td>\n",
       "      <td>50</td>\n",
       "      <td>RL</td>\n",
       "      <td>85.0</td>\n",
       "      <td>14115</td>\n",
       "      <td>Pave</td>\n",
       "      <td>NaN</td>\n",
       "      <td>IR1</td>\n",
       "      <td>Lvl</td>\n",
       "      <td>AllPub</td>\n",
       "      <td>...</td>\n",
       "      <td>0</td>\n",
       "      <td>NaN</td>\n",
       "      <td>MnPrv</td>\n",
       "      <td>Shed</td>\n",
       "      <td>700</td>\n",
       "      <td>10</td>\n",
       "      <td>2009</td>\n",
       "      <td>WD</td>\n",
       "      <td>Normal</td>\n",
       "      <td>143000</td>\n",
       "    </tr>\n",
       "    <tr>\n",
       "      <th>6</th>\n",
       "      <td>7</td>\n",
       "      <td>20</td>\n",
       "      <td>RL</td>\n",
       "      <td>75.0</td>\n",
       "      <td>10084</td>\n",
       "      <td>Pave</td>\n",
       "      <td>NaN</td>\n",
       "      <td>Reg</td>\n",
       "      <td>Lvl</td>\n",
       "      <td>AllPub</td>\n",
       "      <td>...</td>\n",
       "      <td>0</td>\n",
       "      <td>NaN</td>\n",
       "      <td>NaN</td>\n",
       "      <td>NaN</td>\n",
       "      <td>0</td>\n",
       "      <td>8</td>\n",
       "      <td>2007</td>\n",
       "      <td>WD</td>\n",
       "      <td>Normal</td>\n",
       "      <td>307000</td>\n",
       "    </tr>\n",
       "    <tr>\n",
       "      <th>7</th>\n",
       "      <td>8</td>\n",
       "      <td>60</td>\n",
       "      <td>RL</td>\n",
       "      <td>NaN</td>\n",
       "      <td>10382</td>\n",
       "      <td>Pave</td>\n",
       "      <td>NaN</td>\n",
       "      <td>IR1</td>\n",
       "      <td>Lvl</td>\n",
       "      <td>AllPub</td>\n",
       "      <td>...</td>\n",
       "      <td>0</td>\n",
       "      <td>NaN</td>\n",
       "      <td>NaN</td>\n",
       "      <td>Shed</td>\n",
       "      <td>350</td>\n",
       "      <td>11</td>\n",
       "      <td>2009</td>\n",
       "      <td>WD</td>\n",
       "      <td>Normal</td>\n",
       "      <td>200000</td>\n",
       "    </tr>\n",
       "    <tr>\n",
       "      <th>8</th>\n",
       "      <td>9</td>\n",
       "      <td>50</td>\n",
       "      <td>RM</td>\n",
       "      <td>51.0</td>\n",
       "      <td>6120</td>\n",
       "      <td>Pave</td>\n",
       "      <td>NaN</td>\n",
       "      <td>Reg</td>\n",
       "      <td>Lvl</td>\n",
       "      <td>AllPub</td>\n",
       "      <td>...</td>\n",
       "      <td>0</td>\n",
       "      <td>NaN</td>\n",
       "      <td>NaN</td>\n",
       "      <td>NaN</td>\n",
       "      <td>0</td>\n",
       "      <td>4</td>\n",
       "      <td>2008</td>\n",
       "      <td>WD</td>\n",
       "      <td>Abnorml</td>\n",
       "      <td>129900</td>\n",
       "    </tr>\n",
       "    <tr>\n",
       "      <th>9</th>\n",
       "      <td>10</td>\n",
       "      <td>190</td>\n",
       "      <td>RL</td>\n",
       "      <td>50.0</td>\n",
       "      <td>7420</td>\n",
       "      <td>Pave</td>\n",
       "      <td>NaN</td>\n",
       "      <td>Reg</td>\n",
       "      <td>Lvl</td>\n",
       "      <td>AllPub</td>\n",
       "      <td>...</td>\n",
       "      <td>0</td>\n",
       "      <td>NaN</td>\n",
       "      <td>NaN</td>\n",
       "      <td>NaN</td>\n",
       "      <td>0</td>\n",
       "      <td>1</td>\n",
       "      <td>2008</td>\n",
       "      <td>WD</td>\n",
       "      <td>Normal</td>\n",
       "      <td>118000</td>\n",
       "    </tr>\n",
       "  </tbody>\n",
       "</table>\n",
       "<p>10 rows × 81 columns</p>\n",
       "</div>"
      ],
      "text/plain": [
       "   Id  MSSubClass MSZoning  LotFrontage  LotArea Street Alley LotShape  \\\n",
       "0   1          60       RL         65.0     8450   Pave   NaN      Reg   \n",
       "1   2          20       RL         80.0     9600   Pave   NaN      Reg   \n",
       "2   3          60       RL         68.0    11250   Pave   NaN      IR1   \n",
       "3   4          70       RL         60.0     9550   Pave   NaN      IR1   \n",
       "4   5          60       RL         84.0    14260   Pave   NaN      IR1   \n",
       "5   6          50       RL         85.0    14115   Pave   NaN      IR1   \n",
       "6   7          20       RL         75.0    10084   Pave   NaN      Reg   \n",
       "7   8          60       RL          NaN    10382   Pave   NaN      IR1   \n",
       "8   9          50       RM         51.0     6120   Pave   NaN      Reg   \n",
       "9  10         190       RL         50.0     7420   Pave   NaN      Reg   \n",
       "\n",
       "  LandContour Utilities  ... PoolArea PoolQC  Fence MiscFeature MiscVal  \\\n",
       "0         Lvl    AllPub  ...        0    NaN    NaN         NaN       0   \n",
       "1         Lvl    AllPub  ...        0    NaN    NaN         NaN       0   \n",
       "2         Lvl    AllPub  ...        0    NaN    NaN         NaN       0   \n",
       "3         Lvl    AllPub  ...        0    NaN    NaN         NaN       0   \n",
       "4         Lvl    AllPub  ...        0    NaN    NaN         NaN       0   \n",
       "5         Lvl    AllPub  ...        0    NaN  MnPrv        Shed     700   \n",
       "6         Lvl    AllPub  ...        0    NaN    NaN         NaN       0   \n",
       "7         Lvl    AllPub  ...        0    NaN    NaN        Shed     350   \n",
       "8         Lvl    AllPub  ...        0    NaN    NaN         NaN       0   \n",
       "9         Lvl    AllPub  ...        0    NaN    NaN         NaN       0   \n",
       "\n",
       "  MoSold YrSold  SaleType  SaleCondition  SalePrice  \n",
       "0      2   2008        WD         Normal     208500  \n",
       "1      5   2007        WD         Normal     181500  \n",
       "2      9   2008        WD         Normal     223500  \n",
       "3      2   2006        WD        Abnorml     140000  \n",
       "4     12   2008        WD         Normal     250000  \n",
       "5     10   2009        WD         Normal     143000  \n",
       "6      8   2007        WD         Normal     307000  \n",
       "7     11   2009        WD         Normal     200000  \n",
       "8      4   2008        WD        Abnorml     129900  \n",
       "9      1   2008        WD         Normal     118000  \n",
       "\n",
       "[10 rows x 81 columns]"
      ]
     },
     "execution_count": 42,
     "metadata": {},
     "output_type": "execute_result"
    }
   ],
   "source": [
    "train.head(10) # head of training."
   ]
  },
  {
   "cell_type": "code",
   "execution_count": 43,
   "id": "e1a20676",
   "metadata": {
    "papermill": {
     "duration": 0.180249,
     "end_time": "2023-05-23T22:29:20.788088",
     "exception": false,
     "start_time": "2023-05-23T22:29:20.607839",
     "status": "completed"
    },
    "tags": []
   },
   "outputs": [
    {
     "data": {
      "text/html": [
       "<div>\n",
       "<style scoped>\n",
       "    .dataframe tbody tr th:only-of-type {\n",
       "        vertical-align: middle;\n",
       "    }\n",
       "\n",
       "    .dataframe tbody tr th {\n",
       "        vertical-align: top;\n",
       "    }\n",
       "\n",
       "    .dataframe thead th {\n",
       "        text-align: right;\n",
       "    }\n",
       "</style>\n",
       "<table border=\"1\" class=\"dataframe\">\n",
       "  <thead>\n",
       "    <tr style=\"text-align: right;\">\n",
       "      <th></th>\n",
       "      <th>count</th>\n",
       "      <th>mean</th>\n",
       "      <th>std</th>\n",
       "      <th>min</th>\n",
       "      <th>25%</th>\n",
       "      <th>50%</th>\n",
       "      <th>75%</th>\n",
       "      <th>max</th>\n",
       "    </tr>\n",
       "  </thead>\n",
       "  <tbody>\n",
       "    <tr>\n",
       "      <th>Id</th>\n",
       "      <td>1460.0</td>\n",
       "      <td>730.500000</td>\n",
       "      <td>421.610009</td>\n",
       "      <td>1.0</td>\n",
       "      <td>365.75</td>\n",
       "      <td>730.5</td>\n",
       "      <td>1095.25</td>\n",
       "      <td>1460.0</td>\n",
       "    </tr>\n",
       "    <tr>\n",
       "      <th>MSSubClass</th>\n",
       "      <td>1460.0</td>\n",
       "      <td>56.897260</td>\n",
       "      <td>42.300571</td>\n",
       "      <td>20.0</td>\n",
       "      <td>20.00</td>\n",
       "      <td>50.0</td>\n",
       "      <td>70.00</td>\n",
       "      <td>190.0</td>\n",
       "    </tr>\n",
       "    <tr>\n",
       "      <th>LotFrontage</th>\n",
       "      <td>1201.0</td>\n",
       "      <td>70.049958</td>\n",
       "      <td>24.284752</td>\n",
       "      <td>21.0</td>\n",
       "      <td>59.00</td>\n",
       "      <td>69.0</td>\n",
       "      <td>80.00</td>\n",
       "      <td>313.0</td>\n",
       "    </tr>\n",
       "    <tr>\n",
       "      <th>LotArea</th>\n",
       "      <td>1460.0</td>\n",
       "      <td>10516.828082</td>\n",
       "      <td>9981.264932</td>\n",
       "      <td>1300.0</td>\n",
       "      <td>7553.50</td>\n",
       "      <td>9478.5</td>\n",
       "      <td>11601.50</td>\n",
       "      <td>215245.0</td>\n",
       "    </tr>\n",
       "    <tr>\n",
       "      <th>OverallQual</th>\n",
       "      <td>1460.0</td>\n",
       "      <td>6.099315</td>\n",
       "      <td>1.382997</td>\n",
       "      <td>1.0</td>\n",
       "      <td>5.00</td>\n",
       "      <td>6.0</td>\n",
       "      <td>7.00</td>\n",
       "      <td>10.0</td>\n",
       "    </tr>\n",
       "    <tr>\n",
       "      <th>OverallCond</th>\n",
       "      <td>1460.0</td>\n",
       "      <td>5.575342</td>\n",
       "      <td>1.112799</td>\n",
       "      <td>1.0</td>\n",
       "      <td>5.00</td>\n",
       "      <td>5.0</td>\n",
       "      <td>6.00</td>\n",
       "      <td>9.0</td>\n",
       "    </tr>\n",
       "    <tr>\n",
       "      <th>YearBuilt</th>\n",
       "      <td>1460.0</td>\n",
       "      <td>1971.267808</td>\n",
       "      <td>30.202904</td>\n",
       "      <td>1872.0</td>\n",
       "      <td>1954.00</td>\n",
       "      <td>1973.0</td>\n",
       "      <td>2000.00</td>\n",
       "      <td>2010.0</td>\n",
       "    </tr>\n",
       "    <tr>\n",
       "      <th>YearRemodAdd</th>\n",
       "      <td>1460.0</td>\n",
       "      <td>1984.865753</td>\n",
       "      <td>20.645407</td>\n",
       "      <td>1950.0</td>\n",
       "      <td>1967.00</td>\n",
       "      <td>1994.0</td>\n",
       "      <td>2004.00</td>\n",
       "      <td>2010.0</td>\n",
       "    </tr>\n",
       "    <tr>\n",
       "      <th>MasVnrArea</th>\n",
       "      <td>1452.0</td>\n",
       "      <td>103.685262</td>\n",
       "      <td>181.066207</td>\n",
       "      <td>0.0</td>\n",
       "      <td>0.00</td>\n",
       "      <td>0.0</td>\n",
       "      <td>166.00</td>\n",
       "      <td>1600.0</td>\n",
       "    </tr>\n",
       "    <tr>\n",
       "      <th>BsmtFinSF1</th>\n",
       "      <td>1460.0</td>\n",
       "      <td>443.639726</td>\n",
       "      <td>456.098091</td>\n",
       "      <td>0.0</td>\n",
       "      <td>0.00</td>\n",
       "      <td>383.5</td>\n",
       "      <td>712.25</td>\n",
       "      <td>5644.0</td>\n",
       "    </tr>\n",
       "    <tr>\n",
       "      <th>BsmtFinSF2</th>\n",
       "      <td>1460.0</td>\n",
       "      <td>46.549315</td>\n",
       "      <td>161.319273</td>\n",
       "      <td>0.0</td>\n",
       "      <td>0.00</td>\n",
       "      <td>0.0</td>\n",
       "      <td>0.00</td>\n",
       "      <td>1474.0</td>\n",
       "    </tr>\n",
       "    <tr>\n",
       "      <th>BsmtUnfSF</th>\n",
       "      <td>1460.0</td>\n",
       "      <td>567.240411</td>\n",
       "      <td>441.866955</td>\n",
       "      <td>0.0</td>\n",
       "      <td>223.00</td>\n",
       "      <td>477.5</td>\n",
       "      <td>808.00</td>\n",
       "      <td>2336.0</td>\n",
       "    </tr>\n",
       "    <tr>\n",
       "      <th>TotalBsmtSF</th>\n",
       "      <td>1460.0</td>\n",
       "      <td>1057.429452</td>\n",
       "      <td>438.705324</td>\n",
       "      <td>0.0</td>\n",
       "      <td>795.75</td>\n",
       "      <td>991.5</td>\n",
       "      <td>1298.25</td>\n",
       "      <td>6110.0</td>\n",
       "    </tr>\n",
       "    <tr>\n",
       "      <th>1stFlrSF</th>\n",
       "      <td>1460.0</td>\n",
       "      <td>1162.626712</td>\n",
       "      <td>386.587738</td>\n",
       "      <td>334.0</td>\n",
       "      <td>882.00</td>\n",
       "      <td>1087.0</td>\n",
       "      <td>1391.25</td>\n",
       "      <td>4692.0</td>\n",
       "    </tr>\n",
       "    <tr>\n",
       "      <th>2ndFlrSF</th>\n",
       "      <td>1460.0</td>\n",
       "      <td>346.992466</td>\n",
       "      <td>436.528436</td>\n",
       "      <td>0.0</td>\n",
       "      <td>0.00</td>\n",
       "      <td>0.0</td>\n",
       "      <td>728.00</td>\n",
       "      <td>2065.0</td>\n",
       "    </tr>\n",
       "    <tr>\n",
       "      <th>LowQualFinSF</th>\n",
       "      <td>1460.0</td>\n",
       "      <td>5.844521</td>\n",
       "      <td>48.623081</td>\n",
       "      <td>0.0</td>\n",
       "      <td>0.00</td>\n",
       "      <td>0.0</td>\n",
       "      <td>0.00</td>\n",
       "      <td>572.0</td>\n",
       "    </tr>\n",
       "    <tr>\n",
       "      <th>GrLivArea</th>\n",
       "      <td>1460.0</td>\n",
       "      <td>1515.463699</td>\n",
       "      <td>525.480383</td>\n",
       "      <td>334.0</td>\n",
       "      <td>1129.50</td>\n",
       "      <td>1464.0</td>\n",
       "      <td>1776.75</td>\n",
       "      <td>5642.0</td>\n",
       "    </tr>\n",
       "    <tr>\n",
       "      <th>BsmtFullBath</th>\n",
       "      <td>1460.0</td>\n",
       "      <td>0.425342</td>\n",
       "      <td>0.518911</td>\n",
       "      <td>0.0</td>\n",
       "      <td>0.00</td>\n",
       "      <td>0.0</td>\n",
       "      <td>1.00</td>\n",
       "      <td>3.0</td>\n",
       "    </tr>\n",
       "    <tr>\n",
       "      <th>BsmtHalfBath</th>\n",
       "      <td>1460.0</td>\n",
       "      <td>0.057534</td>\n",
       "      <td>0.238753</td>\n",
       "      <td>0.0</td>\n",
       "      <td>0.00</td>\n",
       "      <td>0.0</td>\n",
       "      <td>0.00</td>\n",
       "      <td>2.0</td>\n",
       "    </tr>\n",
       "    <tr>\n",
       "      <th>FullBath</th>\n",
       "      <td>1460.0</td>\n",
       "      <td>1.565068</td>\n",
       "      <td>0.550916</td>\n",
       "      <td>0.0</td>\n",
       "      <td>1.00</td>\n",
       "      <td>2.0</td>\n",
       "      <td>2.00</td>\n",
       "      <td>3.0</td>\n",
       "    </tr>\n",
       "    <tr>\n",
       "      <th>HalfBath</th>\n",
       "      <td>1460.0</td>\n",
       "      <td>0.382877</td>\n",
       "      <td>0.502885</td>\n",
       "      <td>0.0</td>\n",
       "      <td>0.00</td>\n",
       "      <td>0.0</td>\n",
       "      <td>1.00</td>\n",
       "      <td>2.0</td>\n",
       "    </tr>\n",
       "    <tr>\n",
       "      <th>BedroomAbvGr</th>\n",
       "      <td>1460.0</td>\n",
       "      <td>2.866438</td>\n",
       "      <td>0.815778</td>\n",
       "      <td>0.0</td>\n",
       "      <td>2.00</td>\n",
       "      <td>3.0</td>\n",
       "      <td>3.00</td>\n",
       "      <td>8.0</td>\n",
       "    </tr>\n",
       "    <tr>\n",
       "      <th>KitchenAbvGr</th>\n",
       "      <td>1460.0</td>\n",
       "      <td>1.046575</td>\n",
       "      <td>0.220338</td>\n",
       "      <td>0.0</td>\n",
       "      <td>1.00</td>\n",
       "      <td>1.0</td>\n",
       "      <td>1.00</td>\n",
       "      <td>3.0</td>\n",
       "    </tr>\n",
       "    <tr>\n",
       "      <th>TotRmsAbvGrd</th>\n",
       "      <td>1460.0</td>\n",
       "      <td>6.517808</td>\n",
       "      <td>1.625393</td>\n",
       "      <td>2.0</td>\n",
       "      <td>5.00</td>\n",
       "      <td>6.0</td>\n",
       "      <td>7.00</td>\n",
       "      <td>14.0</td>\n",
       "    </tr>\n",
       "    <tr>\n",
       "      <th>Fireplaces</th>\n",
       "      <td>1460.0</td>\n",
       "      <td>0.613014</td>\n",
       "      <td>0.644666</td>\n",
       "      <td>0.0</td>\n",
       "      <td>0.00</td>\n",
       "      <td>1.0</td>\n",
       "      <td>1.00</td>\n",
       "      <td>3.0</td>\n",
       "    </tr>\n",
       "    <tr>\n",
       "      <th>GarageYrBlt</th>\n",
       "      <td>1379.0</td>\n",
       "      <td>1978.506164</td>\n",
       "      <td>24.689725</td>\n",
       "      <td>1900.0</td>\n",
       "      <td>1961.00</td>\n",
       "      <td>1980.0</td>\n",
       "      <td>2002.00</td>\n",
       "      <td>2010.0</td>\n",
       "    </tr>\n",
       "    <tr>\n",
       "      <th>GarageCars</th>\n",
       "      <td>1460.0</td>\n",
       "      <td>1.767123</td>\n",
       "      <td>0.747315</td>\n",
       "      <td>0.0</td>\n",
       "      <td>1.00</td>\n",
       "      <td>2.0</td>\n",
       "      <td>2.00</td>\n",
       "      <td>4.0</td>\n",
       "    </tr>\n",
       "    <tr>\n",
       "      <th>GarageArea</th>\n",
       "      <td>1460.0</td>\n",
       "      <td>472.980137</td>\n",
       "      <td>213.804841</td>\n",
       "      <td>0.0</td>\n",
       "      <td>334.50</td>\n",
       "      <td>480.0</td>\n",
       "      <td>576.00</td>\n",
       "      <td>1418.0</td>\n",
       "    </tr>\n",
       "    <tr>\n",
       "      <th>WoodDeckSF</th>\n",
       "      <td>1460.0</td>\n",
       "      <td>94.244521</td>\n",
       "      <td>125.338794</td>\n",
       "      <td>0.0</td>\n",
       "      <td>0.00</td>\n",
       "      <td>0.0</td>\n",
       "      <td>168.00</td>\n",
       "      <td>857.0</td>\n",
       "    </tr>\n",
       "    <tr>\n",
       "      <th>OpenPorchSF</th>\n",
       "      <td>1460.0</td>\n",
       "      <td>46.660274</td>\n",
       "      <td>66.256028</td>\n",
       "      <td>0.0</td>\n",
       "      <td>0.00</td>\n",
       "      <td>25.0</td>\n",
       "      <td>68.00</td>\n",
       "      <td>547.0</td>\n",
       "    </tr>\n",
       "    <tr>\n",
       "      <th>EnclosedPorch</th>\n",
       "      <td>1460.0</td>\n",
       "      <td>21.954110</td>\n",
       "      <td>61.119149</td>\n",
       "      <td>0.0</td>\n",
       "      <td>0.00</td>\n",
       "      <td>0.0</td>\n",
       "      <td>0.00</td>\n",
       "      <td>552.0</td>\n",
       "    </tr>\n",
       "    <tr>\n",
       "      <th>3SsnPorch</th>\n",
       "      <td>1460.0</td>\n",
       "      <td>3.409589</td>\n",
       "      <td>29.317331</td>\n",
       "      <td>0.0</td>\n",
       "      <td>0.00</td>\n",
       "      <td>0.0</td>\n",
       "      <td>0.00</td>\n",
       "      <td>508.0</td>\n",
       "    </tr>\n",
       "    <tr>\n",
       "      <th>ScreenPorch</th>\n",
       "      <td>1460.0</td>\n",
       "      <td>15.060959</td>\n",
       "      <td>55.757415</td>\n",
       "      <td>0.0</td>\n",
       "      <td>0.00</td>\n",
       "      <td>0.0</td>\n",
       "      <td>0.00</td>\n",
       "      <td>480.0</td>\n",
       "    </tr>\n",
       "    <tr>\n",
       "      <th>PoolArea</th>\n",
       "      <td>1460.0</td>\n",
       "      <td>2.758904</td>\n",
       "      <td>40.177307</td>\n",
       "      <td>0.0</td>\n",
       "      <td>0.00</td>\n",
       "      <td>0.0</td>\n",
       "      <td>0.00</td>\n",
       "      <td>738.0</td>\n",
       "    </tr>\n",
       "    <tr>\n",
       "      <th>MiscVal</th>\n",
       "      <td>1460.0</td>\n",
       "      <td>43.489041</td>\n",
       "      <td>496.123024</td>\n",
       "      <td>0.0</td>\n",
       "      <td>0.00</td>\n",
       "      <td>0.0</td>\n",
       "      <td>0.00</td>\n",
       "      <td>15500.0</td>\n",
       "    </tr>\n",
       "    <tr>\n",
       "      <th>MoSold</th>\n",
       "      <td>1460.0</td>\n",
       "      <td>6.321918</td>\n",
       "      <td>2.703626</td>\n",
       "      <td>1.0</td>\n",
       "      <td>5.00</td>\n",
       "      <td>6.0</td>\n",
       "      <td>8.00</td>\n",
       "      <td>12.0</td>\n",
       "    </tr>\n",
       "    <tr>\n",
       "      <th>YrSold</th>\n",
       "      <td>1460.0</td>\n",
       "      <td>2007.815753</td>\n",
       "      <td>1.328095</td>\n",
       "      <td>2006.0</td>\n",
       "      <td>2007.00</td>\n",
       "      <td>2008.0</td>\n",
       "      <td>2009.00</td>\n",
       "      <td>2010.0</td>\n",
       "    </tr>\n",
       "    <tr>\n",
       "      <th>SalePrice</th>\n",
       "      <td>1460.0</td>\n",
       "      <td>180921.195890</td>\n",
       "      <td>79442.502883</td>\n",
       "      <td>34900.0</td>\n",
       "      <td>129975.00</td>\n",
       "      <td>163000.0</td>\n",
       "      <td>214000.00</td>\n",
       "      <td>755000.0</td>\n",
       "    </tr>\n",
       "  </tbody>\n",
       "</table>\n",
       "</div>"
      ],
      "text/plain": [
       "                count           mean           std      min        25%  \\\n",
       "Id             1460.0     730.500000    421.610009      1.0     365.75   \n",
       "MSSubClass     1460.0      56.897260     42.300571     20.0      20.00   \n",
       "LotFrontage    1201.0      70.049958     24.284752     21.0      59.00   \n",
       "LotArea        1460.0   10516.828082   9981.264932   1300.0    7553.50   \n",
       "OverallQual    1460.0       6.099315      1.382997      1.0       5.00   \n",
       "OverallCond    1460.0       5.575342      1.112799      1.0       5.00   \n",
       "YearBuilt      1460.0    1971.267808     30.202904   1872.0    1954.00   \n",
       "YearRemodAdd   1460.0    1984.865753     20.645407   1950.0    1967.00   \n",
       "MasVnrArea     1452.0     103.685262    181.066207      0.0       0.00   \n",
       "BsmtFinSF1     1460.0     443.639726    456.098091      0.0       0.00   \n",
       "BsmtFinSF2     1460.0      46.549315    161.319273      0.0       0.00   \n",
       "BsmtUnfSF      1460.0     567.240411    441.866955      0.0     223.00   \n",
       "TotalBsmtSF    1460.0    1057.429452    438.705324      0.0     795.75   \n",
       "1stFlrSF       1460.0    1162.626712    386.587738    334.0     882.00   \n",
       "2ndFlrSF       1460.0     346.992466    436.528436      0.0       0.00   \n",
       "LowQualFinSF   1460.0       5.844521     48.623081      0.0       0.00   \n",
       "GrLivArea      1460.0    1515.463699    525.480383    334.0    1129.50   \n",
       "BsmtFullBath   1460.0       0.425342      0.518911      0.0       0.00   \n",
       "BsmtHalfBath   1460.0       0.057534      0.238753      0.0       0.00   \n",
       "FullBath       1460.0       1.565068      0.550916      0.0       1.00   \n",
       "HalfBath       1460.0       0.382877      0.502885      0.0       0.00   \n",
       "BedroomAbvGr   1460.0       2.866438      0.815778      0.0       2.00   \n",
       "KitchenAbvGr   1460.0       1.046575      0.220338      0.0       1.00   \n",
       "TotRmsAbvGrd   1460.0       6.517808      1.625393      2.0       5.00   \n",
       "Fireplaces     1460.0       0.613014      0.644666      0.0       0.00   \n",
       "GarageYrBlt    1379.0    1978.506164     24.689725   1900.0    1961.00   \n",
       "GarageCars     1460.0       1.767123      0.747315      0.0       1.00   \n",
       "GarageArea     1460.0     472.980137    213.804841      0.0     334.50   \n",
       "WoodDeckSF     1460.0      94.244521    125.338794      0.0       0.00   \n",
       "OpenPorchSF    1460.0      46.660274     66.256028      0.0       0.00   \n",
       "EnclosedPorch  1460.0      21.954110     61.119149      0.0       0.00   \n",
       "3SsnPorch      1460.0       3.409589     29.317331      0.0       0.00   \n",
       "ScreenPorch    1460.0      15.060959     55.757415      0.0       0.00   \n",
       "PoolArea       1460.0       2.758904     40.177307      0.0       0.00   \n",
       "MiscVal        1460.0      43.489041    496.123024      0.0       0.00   \n",
       "MoSold         1460.0       6.321918      2.703626      1.0       5.00   \n",
       "YrSold         1460.0    2007.815753      1.328095   2006.0    2007.00   \n",
       "SalePrice      1460.0  180921.195890  79442.502883  34900.0  129975.00   \n",
       "\n",
       "                    50%        75%       max  \n",
       "Id                730.5    1095.25    1460.0  \n",
       "MSSubClass         50.0      70.00     190.0  \n",
       "LotFrontage        69.0      80.00     313.0  \n",
       "LotArea          9478.5   11601.50  215245.0  \n",
       "OverallQual         6.0       7.00      10.0  \n",
       "OverallCond         5.0       6.00       9.0  \n",
       "YearBuilt        1973.0    2000.00    2010.0  \n",
       "YearRemodAdd     1994.0    2004.00    2010.0  \n",
       "MasVnrArea          0.0     166.00    1600.0  \n",
       "BsmtFinSF1        383.5     712.25    5644.0  \n",
       "BsmtFinSF2          0.0       0.00    1474.0  \n",
       "BsmtUnfSF         477.5     808.00    2336.0  \n",
       "TotalBsmtSF       991.5    1298.25    6110.0  \n",
       "1stFlrSF         1087.0    1391.25    4692.0  \n",
       "2ndFlrSF            0.0     728.00    2065.0  \n",
       "LowQualFinSF        0.0       0.00     572.0  \n",
       "GrLivArea        1464.0    1776.75    5642.0  \n",
       "BsmtFullBath        0.0       1.00       3.0  \n",
       "BsmtHalfBath        0.0       0.00       2.0  \n",
       "FullBath            2.0       2.00       3.0  \n",
       "HalfBath            0.0       1.00       2.0  \n",
       "BedroomAbvGr        3.0       3.00       8.0  \n",
       "KitchenAbvGr        1.0       1.00       3.0  \n",
       "TotRmsAbvGrd        6.0       7.00      14.0  \n",
       "Fireplaces          1.0       1.00       3.0  \n",
       "GarageYrBlt      1980.0    2002.00    2010.0  \n",
       "GarageCars          2.0       2.00       4.0  \n",
       "GarageArea        480.0     576.00    1418.0  \n",
       "WoodDeckSF          0.0     168.00     857.0  \n",
       "OpenPorchSF        25.0      68.00     547.0  \n",
       "EnclosedPorch       0.0       0.00     552.0  \n",
       "3SsnPorch           0.0       0.00     508.0  \n",
       "ScreenPorch         0.0       0.00     480.0  \n",
       "PoolArea            0.0       0.00     738.0  \n",
       "MiscVal             0.0       0.00   15500.0  \n",
       "MoSold              6.0       8.00      12.0  \n",
       "YrSold           2008.0    2009.00    2010.0  \n",
       "SalePrice      163000.0  214000.00  755000.0  "
      ]
     },
     "execution_count": 43,
     "metadata": {},
     "output_type": "execute_result"
    }
   ],
   "source": [
    "train.describe().T # Description of the dataset"
   ]
  },
  {
   "cell_type": "code",
   "execution_count": 44,
   "id": "58340528",
   "metadata": {
    "papermill": {
     "duration": 0.057925,
     "end_time": "2023-05-23T22:29:20.865864",
     "exception": false,
     "start_time": "2023-05-23T22:29:20.807939",
     "status": "completed"
    },
    "tags": []
   },
   "outputs": [
    {
     "name": "stdout",
     "output_type": "stream",
     "text": [
      "<class 'pandas.core.frame.DataFrame'>\n",
      "RangeIndex: 1460 entries, 0 to 1459\n",
      "Data columns (total 81 columns):\n",
      " #   Column         Non-Null Count  Dtype  \n",
      "---  ------         --------------  -----  \n",
      " 0   Id             1460 non-null   int64  \n",
      " 1   MSSubClass     1460 non-null   int64  \n",
      " 2   MSZoning       1460 non-null   object \n",
      " 3   LotFrontage    1201 non-null   float64\n",
      " 4   LotArea        1460 non-null   int64  \n",
      " 5   Street         1460 non-null   object \n",
      " 6   Alley          91 non-null     object \n",
      " 7   LotShape       1460 non-null   object \n",
      " 8   LandContour    1460 non-null   object \n",
      " 9   Utilities      1460 non-null   object \n",
      " 10  LotConfig      1460 non-null   object \n",
      " 11  LandSlope      1460 non-null   object \n",
      " 12  Neighborhood   1460 non-null   object \n",
      " 13  Condition1     1460 non-null   object \n",
      " 14  Condition2     1460 non-null   object \n",
      " 15  BldgType       1460 non-null   object \n",
      " 16  HouseStyle     1460 non-null   object \n",
      " 17  OverallQual    1460 non-null   int64  \n",
      " 18  OverallCond    1460 non-null   int64  \n",
      " 19  YearBuilt      1460 non-null   int64  \n",
      " 20  YearRemodAdd   1460 non-null   int64  \n",
      " 21  RoofStyle      1460 non-null   object \n",
      " 22  RoofMatl       1460 non-null   object \n",
      " 23  Exterior1st    1460 non-null   object \n",
      " 24  Exterior2nd    1460 non-null   object \n",
      " 25  MasVnrType     1452 non-null   object \n",
      " 26  MasVnrArea     1452 non-null   float64\n",
      " 27  ExterQual      1460 non-null   object \n",
      " 28  ExterCond      1460 non-null   object \n",
      " 29  Foundation     1460 non-null   object \n",
      " 30  BsmtQual       1423 non-null   object \n",
      " 31  BsmtCond       1423 non-null   object \n",
      " 32  BsmtExposure   1422 non-null   object \n",
      " 33  BsmtFinType1   1423 non-null   object \n",
      " 34  BsmtFinSF1     1460 non-null   int64  \n",
      " 35  BsmtFinType2   1422 non-null   object \n",
      " 36  BsmtFinSF2     1460 non-null   int64  \n",
      " 37  BsmtUnfSF      1460 non-null   int64  \n",
      " 38  TotalBsmtSF    1460 non-null   int64  \n",
      " 39  Heating        1460 non-null   object \n",
      " 40  HeatingQC      1460 non-null   object \n",
      " 41  CentralAir     1460 non-null   object \n",
      " 42  Electrical     1459 non-null   object \n",
      " 43  1stFlrSF       1460 non-null   int64  \n",
      " 44  2ndFlrSF       1460 non-null   int64  \n",
      " 45  LowQualFinSF   1460 non-null   int64  \n",
      " 46  GrLivArea      1460 non-null   int64  \n",
      " 47  BsmtFullBath   1460 non-null   int64  \n",
      " 48  BsmtHalfBath   1460 non-null   int64  \n",
      " 49  FullBath       1460 non-null   int64  \n",
      " 50  HalfBath       1460 non-null   int64  \n",
      " 51  BedroomAbvGr   1460 non-null   int64  \n",
      " 52  KitchenAbvGr   1460 non-null   int64  \n",
      " 53  KitchenQual    1460 non-null   object \n",
      " 54  TotRmsAbvGrd   1460 non-null   int64  \n",
      " 55  Functional     1460 non-null   object \n",
      " 56  Fireplaces     1460 non-null   int64  \n",
      " 57  FireplaceQu    770 non-null    object \n",
      " 58  GarageType     1379 non-null   object \n",
      " 59  GarageYrBlt    1379 non-null   float64\n",
      " 60  GarageFinish   1379 non-null   object \n",
      " 61  GarageCars     1460 non-null   int64  \n",
      " 62  GarageArea     1460 non-null   int64  \n",
      " 63  GarageQual     1379 non-null   object \n",
      " 64  GarageCond     1379 non-null   object \n",
      " 65  PavedDrive     1460 non-null   object \n",
      " 66  WoodDeckSF     1460 non-null   int64  \n",
      " 67  OpenPorchSF    1460 non-null   int64  \n",
      " 68  EnclosedPorch  1460 non-null   int64  \n",
      " 69  3SsnPorch      1460 non-null   int64  \n",
      " 70  ScreenPorch    1460 non-null   int64  \n",
      " 71  PoolArea       1460 non-null   int64  \n",
      " 72  PoolQC         7 non-null      object \n",
      " 73  Fence          281 non-null    object \n",
      " 74  MiscFeature    54 non-null     object \n",
      " 75  MiscVal        1460 non-null   int64  \n",
      " 76  MoSold         1460 non-null   int64  \n",
      " 77  YrSold         1460 non-null   int64  \n",
      " 78  SaleType       1460 non-null   object \n",
      " 79  SaleCondition  1460 non-null   object \n",
      " 80  SalePrice      1460 non-null   int64  \n",
      "dtypes: float64(3), int64(35), object(43)\n",
      "memory usage: 924.0+ KB\n"
     ]
    }
   ],
   "source": [
    "train.info() # information about the training data."
   ]
  },
  {
   "cell_type": "code",
   "execution_count": 45,
   "id": "a459faac",
   "metadata": {
    "papermill": {
     "duration": 0.038069,
     "end_time": "2023-05-23T22:29:20.923077",
     "exception": false,
     "start_time": "2023-05-23T22:29:20.885008",
     "status": "completed"
    },
    "tags": []
   },
   "outputs": [
    {
     "data": {
      "text/plain": [
       "object     43\n",
       "int64      35\n",
       "float64     3\n",
       "dtype: int64"
      ]
     },
     "execution_count": 45,
     "metadata": {},
     "output_type": "execute_result"
    }
   ],
   "source": [
    "train.dtypes.value_counts() # data type count of the training dataset."
   ]
  },
  {
   "cell_type": "code",
   "execution_count": 46,
   "id": "e6435027",
   "metadata": {
    "papermill": {
     "duration": 0.039163,
     "end_time": "2023-05-23T22:29:20.981325",
     "exception": false,
     "start_time": "2023-05-23T22:29:20.942162",
     "status": "completed"
    },
    "tags": []
   },
   "outputs": [
    {
     "name": "stdout",
     "output_type": "stream",
     "text": [
      "Qualitative Columns: \n",
      "['MSZoning', 'Street', 'Alley', 'LotShape', 'LandContour', 'Utilities', 'LotConfig', 'LandSlope', 'Neighborhood', 'Condition1', 'Condition2', 'BldgType', 'HouseStyle', 'RoofStyle', 'RoofMatl', 'Exterior1st', 'Exterior2nd', 'MasVnrType', 'ExterQual', 'ExterCond', 'Foundation', 'BsmtQual', 'BsmtCond', 'BsmtExposure', 'BsmtFinType1', 'BsmtFinType2', 'Heating', 'HeatingQC', 'CentralAir', 'Electrical', 'KitchenQual', 'Functional', 'FireplaceQu', 'GarageType', 'GarageFinish', 'GarageQual', 'GarageCond', 'PavedDrive', 'PoolQC', 'Fence', 'MiscFeature', 'SaleType', 'SaleCondition']\n",
      "Quantitative Columns: \n",
      "['Id', 'MSSubClass', 'LotFrontage', 'LotArea', 'OverallQual', 'OverallCond', 'YearBuilt', 'YearRemodAdd', 'MasVnrArea', 'BsmtFinSF1', 'BsmtFinSF2', 'BsmtUnfSF', 'TotalBsmtSF', '1stFlrSF', '2ndFlrSF', 'LowQualFinSF', 'GrLivArea', 'BsmtFullBath', 'BsmtHalfBath', 'FullBath', 'HalfBath', 'BedroomAbvGr', 'KitchenAbvGr', 'TotRmsAbvGrd', 'Fireplaces', 'GarageYrBlt', 'GarageCars', 'GarageArea', 'WoodDeckSF', 'OpenPorchSF', 'EnclosedPorch', '3SsnPorch', 'ScreenPorch', 'PoolArea', 'MiscVal', 'MoSold', 'YrSold', 'SalePrice']\n"
     ]
    }
   ],
   "source": [
    "# Sort the train data attributes to quantitative and qualitative categories.\n",
    "quantitative_cols = []\n",
    "qualitative_cols = []\n",
    "for col in train.columns:\n",
    "    if pd.api.types.is_numeric_dtype(train[col]):\n",
    "            quantitative_cols.append(col)\n",
    "    else:\n",
    "        qualitative_cols.append(col)\n",
    "\n",
    "print(\"Qualitative Columns: \") # Categorical\n",
    "print(qualitative_cols)\n",
    "\n",
    "print(\"Quantitative Columns: \") # Numarical\n",
    "print(quantitative_cols)"
   ]
  },
  {
   "attachments": {},
   "cell_type": "markdown",
   "id": "df89b1aa",
   "metadata": {
    "papermill": {
     "duration": 0.020163,
     "end_time": "2023-05-23T22:29:21.021994",
     "exception": false,
     "start_time": "2023-05-23T22:29:21.001831",
     "status": "completed"
    },
    "tags": []
   },
   "source": [
    "### <span style='color:aqua; font-weight:bold;'>Correlation</span> "
   ]
  },
  {
   "cell_type": "code",
   "execution_count": 47,
   "id": "b7844a31",
   "metadata": {
    "papermill": {
     "duration": 1.004626,
     "end_time": "2023-05-23T22:29:22.045596",
     "exception": false,
     "start_time": "2023-05-23T22:29:21.040970",
     "status": "completed"
    },
    "tags": []
   },
   "outputs": [
    {
     "data": {
      "image/png": "[encoded data removed]",
      "text/plain": [
       "<Figure size 1500x600 with 2 Axes>"
      ]
     },
     "metadata": {},
     "output_type": "display_data"
    }
   ],
   "source": [
    "corr = train.corr()\n",
    "plt.figure(figsize=(15,6)) #plot the heatmap for the correlation\n",
    "sns.heatmap(corr,fmt=\".5f\", linewidth=.5, cmap=\"BuPu\") \n",
    "plt.show() #the more darker color the more stronger correlation."
   ]
  },
  {
   "attachments": {},
   "cell_type": "markdown",
   "id": "d81e2a7f",
   "metadata": {
    "papermill": {
     "duration": 0.026062,
     "end_time": "2023-05-23T22:29:22.095958",
     "exception": false,
     "start_time": "2023-05-23T22:29:22.069896",
     "status": "completed"
    },
    "tags": []
   },
   "source": [
    "# <span style='color:dodgerblue; font-weight:bold;'>Data Cleaning</span> "
   ]
  },
  {
   "cell_type": "code",
   "execution_count": 48,
   "id": "02a3e63e",
   "metadata": {
    "papermill": {
     "duration": 0.034447,
     "end_time": "2023-05-23T22:29:22.166631",
     "exception": false,
     "start_time": "2023-05-23T22:29:22.132184",
     "status": "completed"
    },
    "tags": []
   },
   "outputs": [],
   "source": [
    "train.drop(['Id'], axis=1, inplace=True)"
   ]
  },
  {
   "attachments": {},
   "cell_type": "markdown",
   "id": "1650a974-79d5-4214-92d3-72020ea76a18",
   "metadata": {},
   "source": [
    "### <span style='color:aqua; font-weight:bold;'>Data Consistency</span> \n",
    "\n",
    "We need to ensure that the data values make sense by following these guidelines:\n",
    "\n",
    "* Any features representing years should not exceed 2018.\n",
    "* Areas, distances, and prices should be non-negative values.\n",
    "* The values for months should fall within the range of 1 to 12."
   ]
  },
  {
   "cell_type": "code",
   "execution_count": 49,
   "id": "464b8e7f-ad97-41d0-b0dc-0284b18d5592",
   "metadata": {},
   "outputs": [],
   "source": [
    "years = ['YearBuilt', 'YearRemodAdd', 'GarageYrBlt', 'YrSold']\n",
    "metrics = ['LotFrontage', 'LotArea', 'MasVnrArea', 'BsmtFinSF1', 'BsmtFinSF2', 'BsmtUnfSF',\n",
    "           'TotalBsmtSF', '1stFlrSF', '2ndFlrSF', 'LowQualFinSF', 'GrLivArea', 'GarageArea',\n",
    "           'WoodDeckSF', 'OpenPorchSF', 'EnclosedPorch', '3SsnPorch', 'ScreenPorch', 'PoolArea', 'MiscVal']"
   ]
  },
  {
   "cell_type": "code",
   "execution_count": 50,
   "id": "a35692c6-48b0-4292-9fc2-8376c5818235",
   "metadata": {},
   "outputs": [
    {
     "data": {
      "text/html": [
       "<div>\n",
       "<style scoped>\n",
       "    .dataframe tbody tr th:only-of-type {\n",
       "        vertical-align: middle;\n",
       "    }\n",
       "\n",
       "    .dataframe tbody tr th {\n",
       "        vertical-align: top;\n",
       "    }\n",
       "\n",
       "    .dataframe thead th {\n",
       "        text-align: right;\n",
       "    }\n",
       "</style>\n",
       "<table border=\"1\" class=\"dataframe\">\n",
       "  <thead>\n",
       "    <tr style=\"text-align: right;\">\n",
       "      <th></th>\n",
       "      <th>MSSubClass</th>\n",
       "      <th>MSZoning</th>\n",
       "      <th>LotFrontage</th>\n",
       "      <th>LotArea</th>\n",
       "      <th>Street</th>\n",
       "      <th>Alley</th>\n",
       "      <th>LotShape</th>\n",
       "      <th>LandContour</th>\n",
       "      <th>Utilities</th>\n",
       "      <th>LotConfig</th>\n",
       "      <th>...</th>\n",
       "      <th>PoolArea</th>\n",
       "      <th>PoolQC</th>\n",
       "      <th>Fence</th>\n",
       "      <th>MiscFeature</th>\n",
       "      <th>MiscVal</th>\n",
       "      <th>MoSold</th>\n",
       "      <th>YrSold</th>\n",
       "      <th>SaleType</th>\n",
       "      <th>SaleCondition</th>\n",
       "      <th>SalePrice</th>\n",
       "    </tr>\n",
       "  </thead>\n",
       "  <tbody>\n",
       "  </tbody>\n",
       "</table>\n",
       "<p>0 rows × 80 columns</p>\n",
       "</div>"
      ],
      "text/plain": [
       "Empty DataFrame\n",
       "Columns: [MSSubClass, MSZoning, LotFrontage, LotArea, Street, Alley, LotShape, LandContour, Utilities, LotConfig, LandSlope, Neighborhood, Condition1, Condition2, BldgType, HouseStyle, OverallQual, OverallCond, YearBuilt, YearRemodAdd, RoofStyle, RoofMatl, Exterior1st, Exterior2nd, MasVnrType, MasVnrArea, ExterQual, ExterCond, Foundation, BsmtQual, BsmtCond, BsmtExposure, BsmtFinType1, BsmtFinSF1, BsmtFinType2, BsmtFinSF2, BsmtUnfSF, TotalBsmtSF, Heating, HeatingQC, CentralAir, Electrical, 1stFlrSF, 2ndFlrSF, LowQualFinSF, GrLivArea, BsmtFullBath, BsmtHalfBath, FullBath, HalfBath, BedroomAbvGr, KitchenAbvGr, KitchenQual, TotRmsAbvGrd, Functional, Fireplaces, FireplaceQu, GarageType, GarageYrBlt, GarageFinish, GarageCars, GarageArea, GarageQual, GarageCond, PavedDrive, WoodDeckSF, OpenPorchSF, EnclosedPorch, 3SsnPorch, ScreenPorch, PoolArea, PoolQC, Fence, MiscFeature, MiscVal, MoSold, YrSold, SaleType, SaleCondition, SalePrice]\n",
       "Index: []\n",
       "\n",
       "[0 rows x 80 columns]"
      ]
     },
     "execution_count": 50,
     "metadata": {},
     "output_type": "execute_result"
    }
   ],
   "source": [
    "mask = (train[years] > 2018).any(axis=1) # take any index with a twisted year value\n",
    "train[mask]"
   ]
  },
  {
   "cell_type": "code",
   "execution_count": 51,
   "id": "c617026f-baba-42d1-86d5-5334d52fe1ea",
   "metadata": {},
   "outputs": [
    {
     "data": {
      "text/html": [
       "<div>\n",
       "<style scoped>\n",
       "    .dataframe tbody tr th:only-of-type {\n",
       "        vertical-align: middle;\n",
       "    }\n",
       "\n",
       "    .dataframe tbody tr th {\n",
       "        vertical-align: top;\n",
       "    }\n",
       "\n",
       "    .dataframe thead th {\n",
       "        text-align: right;\n",
       "    }\n",
       "</style>\n",
       "<table border=\"1\" class=\"dataframe\">\n",
       "  <thead>\n",
       "    <tr style=\"text-align: right;\">\n",
       "      <th></th>\n",
       "      <th>MSSubClass</th>\n",
       "      <th>MSZoning</th>\n",
       "      <th>LotFrontage</th>\n",
       "      <th>LotArea</th>\n",
       "      <th>Street</th>\n",
       "      <th>Alley</th>\n",
       "      <th>LotShape</th>\n",
       "      <th>LandContour</th>\n",
       "      <th>Utilities</th>\n",
       "      <th>LotConfig</th>\n",
       "      <th>...</th>\n",
       "      <th>PoolArea</th>\n",
       "      <th>PoolQC</th>\n",
       "      <th>Fence</th>\n",
       "      <th>MiscFeature</th>\n",
       "      <th>MiscVal</th>\n",
       "      <th>MoSold</th>\n",
       "      <th>YrSold</th>\n",
       "      <th>SaleType</th>\n",
       "      <th>SaleCondition</th>\n",
       "      <th>SalePrice</th>\n",
       "    </tr>\n",
       "  </thead>\n",
       "  <tbody>\n",
       "  </tbody>\n",
       "</table>\n",
       "<p>0 rows × 80 columns</p>\n",
       "</div>"
      ],
      "text/plain": [
       "Empty DataFrame\n",
       "Columns: [MSSubClass, MSZoning, LotFrontage, LotArea, Street, Alley, LotShape, LandContour, Utilities, LotConfig, LandSlope, Neighborhood, Condition1, Condition2, BldgType, HouseStyle, OverallQual, OverallCond, YearBuilt, YearRemodAdd, RoofStyle, RoofMatl, Exterior1st, Exterior2nd, MasVnrType, MasVnrArea, ExterQual, ExterCond, Foundation, BsmtQual, BsmtCond, BsmtExposure, BsmtFinType1, BsmtFinSF1, BsmtFinType2, BsmtFinSF2, BsmtUnfSF, TotalBsmtSF, Heating, HeatingQC, CentralAir, Electrical, 1stFlrSF, 2ndFlrSF, LowQualFinSF, GrLivArea, BsmtFullBath, BsmtHalfBath, FullBath, HalfBath, BedroomAbvGr, KitchenAbvGr, KitchenQual, TotRmsAbvGrd, Functional, Fireplaces, FireplaceQu, GarageType, GarageYrBlt, GarageFinish, GarageCars, GarageArea, GarageQual, GarageCond, PavedDrive, WoodDeckSF, OpenPorchSF, EnclosedPorch, 3SsnPorch, ScreenPorch, PoolArea, PoolQC, Fence, MiscFeature, MiscVal, MoSold, YrSold, SaleType, SaleCondition, SalePrice]\n",
       "Index: []\n",
       "\n",
       "[0 rows x 80 columns]"
      ]
     },
     "execution_count": 51,
     "metadata": {},
     "output_type": "execute_result"
    }
   ],
   "source": [
    "mask = (train[metrics] < 0).any(axis=1)\n",
    "train[mask]"
   ]
  },
  {
   "cell_type": "code",
   "execution_count": 52,
   "id": "324d8ff9-db7e-484b-8938-0ada9ab7ce7f",
   "metadata": {},
   "outputs": [
    {
     "data": {
      "text/html": [
       "<div>\n",
       "<style scoped>\n",
       "    .dataframe tbody tr th:only-of-type {\n",
       "        vertical-align: middle;\n",
       "    }\n",
       "\n",
       "    .dataframe tbody tr th {\n",
       "        vertical-align: top;\n",
       "    }\n",
       "\n",
       "    .dataframe thead th {\n",
       "        text-align: right;\n",
       "    }\n",
       "</style>\n",
       "<table border=\"1\" class=\"dataframe\">\n",
       "  <thead>\n",
       "    <tr style=\"text-align: right;\">\n",
       "      <th></th>\n",
       "      <th>MSSubClass</th>\n",
       "      <th>MSZoning</th>\n",
       "      <th>LotFrontage</th>\n",
       "      <th>LotArea</th>\n",
       "      <th>Street</th>\n",
       "      <th>Alley</th>\n",
       "      <th>LotShape</th>\n",
       "      <th>LandContour</th>\n",
       "      <th>Utilities</th>\n",
       "      <th>LotConfig</th>\n",
       "      <th>...</th>\n",
       "      <th>PoolArea</th>\n",
       "      <th>PoolQC</th>\n",
       "      <th>Fence</th>\n",
       "      <th>MiscFeature</th>\n",
       "      <th>MiscVal</th>\n",
       "      <th>MoSold</th>\n",
       "      <th>YrSold</th>\n",
       "      <th>SaleType</th>\n",
       "      <th>SaleCondition</th>\n",
       "      <th>SalePrice</th>\n",
       "    </tr>\n",
       "  </thead>\n",
       "  <tbody>\n",
       "  </tbody>\n",
       "</table>\n",
       "<p>0 rows × 80 columns</p>\n",
       "</div>"
      ],
      "text/plain": [
       "Empty DataFrame\n",
       "Columns: [MSSubClass, MSZoning, LotFrontage, LotArea, Street, Alley, LotShape, LandContour, Utilities, LotConfig, LandSlope, Neighborhood, Condition1, Condition2, BldgType, HouseStyle, OverallQual, OverallCond, YearBuilt, YearRemodAdd, RoofStyle, RoofMatl, Exterior1st, Exterior2nd, MasVnrType, MasVnrArea, ExterQual, ExterCond, Foundation, BsmtQual, BsmtCond, BsmtExposure, BsmtFinType1, BsmtFinSF1, BsmtFinType2, BsmtFinSF2, BsmtUnfSF, TotalBsmtSF, Heating, HeatingQC, CentralAir, Electrical, 1stFlrSF, 2ndFlrSF, LowQualFinSF, GrLivArea, BsmtFullBath, BsmtHalfBath, FullBath, HalfBath, BedroomAbvGr, KitchenAbvGr, KitchenQual, TotRmsAbvGrd, Functional, Fireplaces, FireplaceQu, GarageType, GarageYrBlt, GarageFinish, GarageCars, GarageArea, GarageQual, GarageCond, PavedDrive, WoodDeckSF, OpenPorchSF, EnclosedPorch, 3SsnPorch, ScreenPorch, PoolArea, PoolQC, Fence, MiscFeature, MiscVal, MoSold, YrSold, SaleType, SaleCondition, SalePrice]\n",
       "Index: []\n",
       "\n",
       "[0 rows x 80 columns]"
      ]
     },
     "execution_count": 52,
     "metadata": {},
     "output_type": "execute_result"
    }
   ],
   "source": [
    "mask = ((train['MoSold'] > 12) | (train['MoSold'] < 1))\n",
    "train[mask]"
   ]
  },
  {
   "attachments": {},
   "cell_type": "markdown",
   "id": "3dd2e838",
   "metadata": {
    "papermill": {
     "duration": 0.021476,
     "end_time": "2023-05-23T22:29:22.213104",
     "exception": false,
     "start_time": "2023-05-23T22:29:22.191628",
     "status": "completed"
    },
    "tags": []
   },
   "source": [
    "### <span style='color:aqua; font-weight:bold;'>Data Redundancy</span> "
   ]
  },
  {
   "cell_type": "code",
   "execution_count": 53,
   "id": "8624a97d",
   "metadata": {
    "papermill": {
     "duration": 0.080973,
     "end_time": "2023-05-23T22:29:22.320741",
     "exception": false,
     "start_time": "2023-05-23T22:29:22.239768",
     "status": "completed"
    },
    "tags": []
   },
   "outputs": [
    {
     "name": "stdout",
     "output_type": "stream",
     "text": [
      "Number of duplicated instances: 0\n",
      "Empty DataFrame\n",
      "Columns: [MSSubClass, MSZoning, LotFrontage, LotArea, Street, Alley, LotShape, LandContour, Utilities, LotConfig, LandSlope, Neighborhood, Condition1, Condition2, BldgType, HouseStyle, OverallQual, OverallCond, YearBuilt, YearRemodAdd, RoofStyle, RoofMatl, Exterior1st, Exterior2nd, MasVnrType, MasVnrArea, ExterQual, ExterCond, Foundation, BsmtQual, BsmtCond, BsmtExposure, BsmtFinType1, BsmtFinSF1, BsmtFinType2, BsmtFinSF2, BsmtUnfSF, TotalBsmtSF, Heating, HeatingQC, CentralAir, Electrical, 1stFlrSF, 2ndFlrSF, LowQualFinSF, GrLivArea, BsmtFullBath, BsmtHalfBath, FullBath, HalfBath, BedroomAbvGr, KitchenAbvGr, KitchenQual, TotRmsAbvGrd, Functional, Fireplaces, FireplaceQu, GarageType, GarageYrBlt, GarageFinish, GarageCars, GarageArea, GarageQual, GarageCond, PavedDrive, WoodDeckSF, OpenPorchSF, EnclosedPorch, 3SsnPorch, ScreenPorch, PoolArea, PoolQC, Fence, MiscFeature, MiscVal, MoSold, YrSold, SaleType, SaleCondition, SalePrice]\n",
      "Index: []\n",
      "\n",
      "[0 rows x 80 columns]\n"
     ]
    }
   ],
   "source": [
    "# Check for duplicates across all columns\n",
    "duplicated = train.duplicated()\n",
    "\n",
    "# Print the number of duplicated instances\n",
    "print(\"Number of duplicated instances:\", duplicated.sum())\n",
    "\n",
    "# Print the duplicated instances\n",
    "print(train[duplicated])"
   ]
  },
  {
   "attachments": {},
   "cell_type": "markdown",
   "id": "564c1ad7",
   "metadata": {
    "papermill": {
     "duration": 0.028512,
     "end_time": "2023-05-23T22:29:22.371213",
     "exception": false,
     "start_time": "2023-05-23T22:29:22.342701",
     "status": "completed"
    },
    "tags": []
   },
   "source": [
    "### <span style='color:aqua; font-weight:bold;'>Missing Values</span> "
   ]
  },
  {
   "cell_type": "code",
   "execution_count": 54,
   "id": "02ff3554",
   "metadata": {
    "papermill": {
     "duration": 0.118886,
     "end_time": "2023-05-23T22:29:22.514330",
     "exception": false,
     "start_time": "2023-05-23T22:29:22.395444",
     "status": "completed"
    },
    "tags": []
   },
   "outputs": [
    {
     "name": "stdout",
     "output_type": "stream",
     "text": [
      "              Total Percent\n",
      "PoolQC         1453  99.52%\n",
      "MiscFeature    1406  96.30%\n",
      "Alley          1369  93.77%\n",
      "Fence          1179  80.75%\n",
      "FireplaceQu     690  47.26%\n",
      "LotFrontage     259  17.74%\n",
      "GarageYrBlt      81   5.55%\n",
      "GarageCond       81   5.55%\n",
      "GarageType       81   5.55%\n",
      "GarageFinish     81   5.55%\n",
      "GarageQual       81   5.55%\n",
      "BsmtExposure     38   2.60%\n",
      "BsmtFinType2     38   2.60%\n",
      "BsmtCond         37   2.53%\n",
      "BsmtQual         37   2.53%\n",
      "BsmtFinType1     37   2.53%\n",
      "MasVnrArea        8   0.55%\n",
      "MasVnrType        8   0.55%\n",
      "Electrical        1   0.07%\n"
     ]
    }
   ],
   "source": [
    "# print the percentage of missing values for instances.\n",
    "total = train.isnull().sum().sort_values(ascending=False)[train.isnull().sum().sort_values(ascending=False) != 0]\n",
    "percent = ((train.isnull().sum() / train.isnull().count()).sort_values(ascending=False)[(train.isnull().sum() / train.isnull().count()).sort_values(ascending=False) != 0]) * 100\n",
    "missing = pd.concat([total, percent], axis=1, keys=['Total', 'Percent'])\n",
    "missing['Percent'] = missing['Percent'].apply(lambda x: \"%.2f%%\" % x)\n",
    "print(missing)"
   ]
  },
  {
   "cell_type": "code",
   "execution_count": 55,
   "id": "5e4037e6",
   "metadata": {
    "papermill": {
     "duration": 0.652304,
     "end_time": "2023-05-23T22:29:23.191322",
     "exception": false,
     "start_time": "2023-05-23T22:29:22.539018",
     "status": "completed"
    },
    "tags": []
   },
   "outputs": [
    {
     "data": {
      "image/png": "[encoded data removed]",
      "text/plain": [
       "<Figure size 640x480 with 1 Axes>"
      ]
     },
     "metadata": {},
     "output_type": "display_data"
    }
   ],
   "source": [
    "# Plot the most null columns.\n",
    "missing = train.isnull().sum()\n",
    "missing = missing[missing > 0]\n",
    "style.use('seaborn-darkgrid')\n",
    "missing.sort_values(inplace=True)\n",
    "missing.plot.bar();"
   ]
  },
  {
   "attachments": {},
   "cell_type": "markdown",
   "id": "8ad1f589",
   "metadata": {
    "papermill": {
     "duration": 0.021647,
     "end_time": "2023-05-23T22:29:23.235117",
     "exception": false,
     "start_time": "2023-05-23T22:29:23.213470",
     "status": "completed"
    },
    "tags": []
   },
   "source": [
    "Missing values exist in 19 attributes, most of the time, NA denotes a lack of a subject described by an attribute, such as a missing pool, fence, garage, or basement."
   ]
  },
  {
   "attachments": {},
   "cell_type": "markdown",
   "id": "e555a5ff",
   "metadata": {
    "papermill": {
     "duration": 0.022168,
     "end_time": "2023-05-23T22:29:23.279750",
     "exception": false,
     "start_time": "2023-05-23T22:29:23.257582",
     "status": "completed"
    },
    "tags": []
   },
   "source": [
    "Handling missing values for features that NA has a meaning."
   ]
  },
  {
   "cell_type": "code",
   "execution_count": 56,
   "id": "58e62242",
   "metadata": {
    "papermill": {
     "duration": 0.046519,
     "end_time": "2023-05-23T22:29:23.349215",
     "exception": false,
     "start_time": "2023-05-23T22:29:23.302696",
     "status": "completed"
    },
    "tags": []
   },
   "outputs": [],
   "source": [
    "columns_to_fill = ['PoolQC', 'MiscFeature', 'Alley', 'Fence', 'FireplaceQu',\n",
    "                   'GarageCond', 'GarageType', 'GarageFinish', 'GarageQual',\n",
    "                   'BsmtExposure', 'BsmtFinType2', 'BsmtFinType1', 'BsmtCond',\n",
    "                   'BsmtQual']\n",
    "\n",
    "default_values = ['No Pool', 'None', 'No alley access', 'No Fence', 'No Fireplace',\n",
    "                  'No Garage', 'No Garage', 'No Garage', 'No Garage', 'No Basement',\n",
    "                  'No Basement', 'No Basement', 'No Basement', 'No Basement']\n",
    "\n",
    "for column, default_value in zip(columns_to_fill, default_values):\n",
    "    train[column] = train[column].fillna(default_value)"
   ]
  },
  {
   "attachments": {},
   "cell_type": "markdown",
   "id": "c02765a1",
   "metadata": {
    "papermill": {
     "duration": 0.021475,
     "end_time": "2023-05-23T22:29:23.392701",
     "exception": false,
     "start_time": "2023-05-23T22:29:23.371226",
     "status": "completed"
    },
    "tags": []
   },
   "source": [
    "Handling missing values for features that NA doesn't have a meaning."
   ]
  },
  {
   "cell_type": "code",
   "execution_count": 57,
   "id": "20ef2f27",
   "metadata": {
    "papermill": {
     "duration": 0.040732,
     "end_time": "2023-05-23T22:29:23.455372",
     "exception": false,
     "start_time": "2023-05-23T22:29:23.414640",
     "status": "completed"
    },
    "tags": []
   },
   "outputs": [],
   "source": [
    "# Handling categorical missing values using SimpleImputer\n",
    "imputer = SimpleImputer(missing_values=np.nan, strategy='most_frequent')\n",
    "imputer.fit(train[['MasVnrType', 'Electrical']])\n",
    "train[['MasVnrType', 'Electrical']]=imputer.transform(train[['MasVnrType', 'Electrical']])"
   ]
  },
  {
   "cell_type": "code",
   "execution_count": 58,
   "id": "4b474dbc",
   "metadata": {
    "papermill": {
     "duration": 0.041964,
     "end_time": "2023-05-23T22:29:23.520122",
     "exception": false,
     "start_time": "2023-05-23T22:29:23.478158",
     "status": "completed"
    },
    "tags": []
   },
   "outputs": [],
   "source": [
    "# Handling numarical missing values using SimpleImputer\n",
    "imputer = SimpleImputer(missing_values=np.nan, strategy='mean')\n",
    "imputer.fit(train[['LotFrontage', 'MasVnrArea', 'GarageYrBlt']])\n",
    "train[['LotFrontage', 'MasVnrArea', 'GarageYrBlt']]=imputer.transform(train[['LotFrontage', 'MasVnrArea', 'GarageYrBlt']])"
   ]
  },
  {
   "cell_type": "code",
   "execution_count": 59,
   "id": "d5953eb0",
   "metadata": {
    "papermill": {
     "duration": 0.049339,
     "end_time": "2023-05-23T22:29:23.591398",
     "exception": false,
     "start_time": "2023-05-23T22:29:23.542059",
     "status": "completed"
    },
    "tags": []
   },
   "outputs": [
    {
     "data": {
      "text/plain": [
       "0"
      ]
     },
     "execution_count": 59,
     "metadata": {},
     "output_type": "execute_result"
    }
   ],
   "source": [
    "train.isnull().sum().sum() # Checking if there is any missing values"
   ]
  },
  {
   "attachments": {},
   "cell_type": "markdown",
   "id": "f9f0fc90",
   "metadata": {
    "papermill": {
     "duration": 0.021884,
     "end_time": "2023-05-23T22:29:23.635823",
     "exception": false,
     "start_time": "2023-05-23T22:29:23.613939",
     "status": "completed"
    },
    "tags": []
   },
   "source": [
    "### <span style='color:aqua; font-weight:bold;'>One-hot Encoder</span> "
   ]
  },
  {
   "cell_type": "code",
   "execution_count": 60,
   "id": "87e7b398",
   "metadata": {
    "papermill": {
     "duration": 0.116239,
     "end_time": "2023-05-23T22:29:23.775422",
     "exception": false,
     "start_time": "2023-05-23T22:29:23.659183",
     "status": "completed"
    },
    "tags": []
   },
   "outputs": [
    {
     "data": {
      "text/html": [
       "<div>\n",
       "<style scoped>\n",
       "    .dataframe tbody tr th:only-of-type {\n",
       "        vertical-align: middle;\n",
       "    }\n",
       "\n",
       "    .dataframe tbody tr th {\n",
       "        vertical-align: top;\n",
       "    }\n",
       "\n",
       "    .dataframe thead th {\n",
       "        text-align: right;\n",
       "    }\n",
       "</style>\n",
       "<table border=\"1\" class=\"dataframe\">\n",
       "  <thead>\n",
       "    <tr style=\"text-align: right;\">\n",
       "      <th></th>\n",
       "      <th>MSSubClass</th>\n",
       "      <th>LotFrontage</th>\n",
       "      <th>LotArea</th>\n",
       "      <th>OverallQual</th>\n",
       "      <th>OverallCond</th>\n",
       "      <th>YearBuilt</th>\n",
       "      <th>YearRemodAdd</th>\n",
       "      <th>MasVnrArea</th>\n",
       "      <th>BsmtFinSF1</th>\n",
       "      <th>BsmtFinSF2</th>\n",
       "      <th>...</th>\n",
       "      <th>SaleType_ConLI</th>\n",
       "      <th>SaleType_ConLw</th>\n",
       "      <th>SaleType_New</th>\n",
       "      <th>SaleType_Oth</th>\n",
       "      <th>SaleType_WD</th>\n",
       "      <th>SaleCondition_AdjLand</th>\n",
       "      <th>SaleCondition_Alloca</th>\n",
       "      <th>SaleCondition_Family</th>\n",
       "      <th>SaleCondition_Normal</th>\n",
       "      <th>SaleCondition_Partial</th>\n",
       "    </tr>\n",
       "  </thead>\n",
       "  <tbody>\n",
       "    <tr>\n",
       "      <th>0</th>\n",
       "      <td>60</td>\n",
       "      <td>65.0</td>\n",
       "      <td>8450</td>\n",
       "      <td>7</td>\n",
       "      <td>5</td>\n",
       "      <td>2003</td>\n",
       "      <td>2003</td>\n",
       "      <td>196.0</td>\n",
       "      <td>706</td>\n",
       "      <td>0</td>\n",
       "      <td>...</td>\n",
       "      <td>0</td>\n",
       "      <td>0</td>\n",
       "      <td>0</td>\n",
       "      <td>0</td>\n",
       "      <td>1</td>\n",
       "      <td>0</td>\n",
       "      <td>0</td>\n",
       "      <td>0</td>\n",
       "      <td>1</td>\n",
       "      <td>0</td>\n",
       "    </tr>\n",
       "    <tr>\n",
       "      <th>1</th>\n",
       "      <td>20</td>\n",
       "      <td>80.0</td>\n",
       "      <td>9600</td>\n",
       "      <td>6</td>\n",
       "      <td>8</td>\n",
       "      <td>1976</td>\n",
       "      <td>1976</td>\n",
       "      <td>0.0</td>\n",
       "      <td>978</td>\n",
       "      <td>0</td>\n",
       "      <td>...</td>\n",
       "      <td>0</td>\n",
       "      <td>0</td>\n",
       "      <td>0</td>\n",
       "      <td>0</td>\n",
       "      <td>1</td>\n",
       "      <td>0</td>\n",
       "      <td>0</td>\n",
       "      <td>0</td>\n",
       "      <td>1</td>\n",
       "      <td>0</td>\n",
       "    </tr>\n",
       "    <tr>\n",
       "      <th>2</th>\n",
       "      <td>60</td>\n",
       "      <td>68.0</td>\n",
       "      <td>11250</td>\n",
       "      <td>7</td>\n",
       "      <td>5</td>\n",
       "      <td>2001</td>\n",
       "      <td>2002</td>\n",
       "      <td>162.0</td>\n",
       "      <td>486</td>\n",
       "      <td>0</td>\n",
       "      <td>...</td>\n",
       "      <td>0</td>\n",
       "      <td>0</td>\n",
       "      <td>0</td>\n",
       "      <td>0</td>\n",
       "      <td>1</td>\n",
       "      <td>0</td>\n",
       "      <td>0</td>\n",
       "      <td>0</td>\n",
       "      <td>1</td>\n",
       "      <td>0</td>\n",
       "    </tr>\n",
       "    <tr>\n",
       "      <th>3</th>\n",
       "      <td>70</td>\n",
       "      <td>60.0</td>\n",
       "      <td>9550</td>\n",
       "      <td>7</td>\n",
       "      <td>5</td>\n",
       "      <td>1915</td>\n",
       "      <td>1970</td>\n",
       "      <td>0.0</td>\n",
       "      <td>216</td>\n",
       "      <td>0</td>\n",
       "      <td>...</td>\n",
       "      <td>0</td>\n",
       "      <td>0</td>\n",
       "      <td>0</td>\n",
       "      <td>0</td>\n",
       "      <td>1</td>\n",
       "      <td>0</td>\n",
       "      <td>0</td>\n",
       "      <td>0</td>\n",
       "      <td>0</td>\n",
       "      <td>0</td>\n",
       "    </tr>\n",
       "    <tr>\n",
       "      <th>4</th>\n",
       "      <td>60</td>\n",
       "      <td>84.0</td>\n",
       "      <td>14260</td>\n",
       "      <td>8</td>\n",
       "      <td>5</td>\n",
       "      <td>2000</td>\n",
       "      <td>2000</td>\n",
       "      <td>350.0</td>\n",
       "      <td>655</td>\n",
       "      <td>0</td>\n",
       "      <td>...</td>\n",
       "      <td>0</td>\n",
       "      <td>0</td>\n",
       "      <td>0</td>\n",
       "      <td>0</td>\n",
       "      <td>1</td>\n",
       "      <td>0</td>\n",
       "      <td>0</td>\n",
       "      <td>0</td>\n",
       "      <td>1</td>\n",
       "      <td>0</td>\n",
       "    </tr>\n",
       "  </tbody>\n",
       "</table>\n",
       "<p>5 rows × 260 columns</p>\n",
       "</div>"
      ],
      "text/plain": [
       "   MSSubClass  LotFrontage  LotArea  OverallQual  OverallCond  YearBuilt  \\\n",
       "0          60         65.0     8450            7            5       2003   \n",
       "1          20         80.0     9600            6            8       1976   \n",
       "2          60         68.0    11250            7            5       2001   \n",
       "3          70         60.0     9550            7            5       1915   \n",
       "4          60         84.0    14260            8            5       2000   \n",
       "\n",
       "   YearRemodAdd  MasVnrArea  BsmtFinSF1  BsmtFinSF2  ...  SaleType_ConLI  \\\n",
       "0          2003       196.0         706           0  ...               0   \n",
       "1          1976         0.0         978           0  ...               0   \n",
       "2          2002       162.0         486           0  ...               0   \n",
       "3          1970         0.0         216           0  ...               0   \n",
       "4          2000       350.0         655           0  ...               0   \n",
       "\n",
       "   SaleType_ConLw  SaleType_New  SaleType_Oth  SaleType_WD  \\\n",
       "0               0             0             0            1   \n",
       "1               0             0             0            1   \n",
       "2               0             0             0            1   \n",
       "3               0             0             0            1   \n",
       "4               0             0             0            1   \n",
       "\n",
       "   SaleCondition_AdjLand  SaleCondition_Alloca  SaleCondition_Family  \\\n",
       "0                      0                     0                     0   \n",
       "1                      0                     0                     0   \n",
       "2                      0                     0                     0   \n",
       "3                      0                     0                     0   \n",
       "4                      0                     0                     0   \n",
       "\n",
       "   SaleCondition_Normal  SaleCondition_Partial  \n",
       "0                     1                      0  \n",
       "1                     1                      0  \n",
       "2                     1                      0  \n",
       "3                     0                      0  \n",
       "4                     1                      0  \n",
       "\n",
       "[5 rows x 260 columns]"
      ]
     },
     "execution_count": 60,
     "metadata": {},
     "output_type": "execute_result"
    }
   ],
   "source": [
    "# Select the columns to encode\n",
    "cols = ['MSZoning', 'Street', 'Alley', 'LotShape', 'LandContour', 'Utilities',\n",
    "        'LotConfig', 'LandSlope', 'Neighborhood', 'Condition1', 'Condition2',\n",
    "        'BldgType', 'HouseStyle', 'RoofStyle', 'RoofMatl', 'Exterior1st',\n",
    "        'Exterior2nd', 'MasVnrType', 'ExterQual', 'ExterCond', 'Foundation',\n",
    "        'BsmtQual', 'BsmtCond', 'BsmtExposure', 'BsmtFinType1', 'BsmtFinType2',\n",
    "        'Heating', 'HeatingQC', 'CentralAir', 'Electrical', 'KitchenQual', 'Functional',\n",
    "        'FireplaceQu', 'GarageType', 'GarageFinish', 'GarageQual', 'GarageCond', 'PavedDrive',\n",
    "        'PoolQC', 'Fence', 'MiscFeature', 'SaleType', 'SaleCondition']\n",
    "\n",
    "# Encode the selected columns\n",
    "dummies = pd.get_dummies(train[cols], drop_first=True)\n",
    "\n",
    "# Concatenate the encoded columns with the original dataset\n",
    "train = pd.concat([train, dummies], axis=1)\n",
    "\n",
    "# Drop the original columns that have been encoded\n",
    "train.drop(cols, axis=1, inplace=True)\n",
    "\n",
    "# Output the modified dataset\n",
    "train.head()"
   ]
  },
  {
   "attachments": {},
   "cell_type": "markdown",
   "id": "298ca5e8",
   "metadata": {
    "papermill": {
     "duration": 0.022867,
     "end_time": "2023-05-23T22:29:23.821152",
     "exception": false,
     "start_time": "2023-05-23T22:29:23.798285",
     "status": "completed"
    },
    "tags": []
   },
   "source": [
    "# <span style='color:dodgerblue; font-weight:bold;'>Plot relationship between variables </span> "
   ]
  },
  {
   "cell_type": "code",
   "execution_count": 61,
   "id": "05be61d2",
   "metadata": {
    "papermill": {
     "duration": 0.033324,
     "end_time": "2023-05-23T22:29:23.876848",
     "exception": false,
     "start_time": "2023-05-23T22:29:23.843524",
     "status": "completed"
    },
    "tags": []
   },
   "outputs": [],
   "source": [
    "def customized_scatterplot(y, x): # customized scatterplot design.\n",
    "    style.use('seaborn-darkgrid')\n",
    "    plt.subplots(figsize = (12, 8))\n",
    "    sns.scatterplot(y = y, x = x)"
   ]
  },
  {
   "attachments": {},
   "cell_type": "markdown",
   "id": "c7bdd3ee",
   "metadata": {
    "papermill": {
     "duration": 0.022625,
     "end_time": "2023-05-23T22:29:23.921846",
     "exception": false,
     "start_time": "2023-05-23T22:29:23.899221",
     "status": "completed"
    },
    "tags": []
   },
   "source": [
    "The response variable: SalePrice\n",
    "\n",
    "As you can see, the sale prices are right skewed. This was expected as few people can afford very expensive houses."
   ]
  },
  {
   "cell_type": "code",
   "execution_count": 62,
   "id": "ea4704b3",
   "metadata": {
    "papermill": {
     "duration": 0.418802,
     "end_time": "2023-05-23T22:29:24.363090",
     "exception": false,
     "start_time": "2023-05-23T22:29:23.944288",
     "status": "completed"
    },
    "tags": []
   },
   "outputs": [
    {
     "data": {
      "image/png": "[encoded data removed]",
      "text/plain": [
       "<Figure size 640x480 with 1 Axes>"
      ]
     },
     "metadata": {},
     "output_type": "display_data"
    }
   ],
   "source": [
    "sns.distplot(train['SalePrice']);"
   ]
  },
  {
   "attachments": {},
   "cell_type": "markdown",
   "id": "50dad950",
   "metadata": {
    "papermill": {
     "duration": 0.022608,
     "end_time": "2023-05-23T22:29:24.409181",
     "exception": false,
     "start_time": "2023-05-23T22:29:24.386573",
     "status": "completed"
    },
    "tags": []
   },
   "source": [
    "SalePrice vs OverallQual"
   ]
  },
  {
   "cell_type": "code",
   "execution_count": 63,
   "id": "7fb26daa",
   "metadata": {
    "papermill": {
     "duration": 0.681826,
     "end_time": "2023-05-23T22:29:25.114185",
     "exception": false,
     "start_time": "2023-05-23T22:29:24.432359",
     "status": "completed"
    },
    "tags": []
   },
   "outputs": [
    {
     "data": {
      "text/plain": [
       "<AxesSubplot:xlabel='OverallQual', ylabel='SalePrice'>"
      ]
     },
     "execution_count": 63,
     "metadata": {},
     "output_type": "execute_result"
    },
    {
     "data": {
      "image/png": "[encoded data removed]",
      "text/plain": [
       "<Figure size 640x480 with 1 Axes>"
      ]
     },
     "metadata": {},
     "output_type": "display_data"
    }
   ],
   "source": [
    "# Sale Price vs Rates the overall material and finish of the house\n",
    "sns.barplot(x=train.OverallQual, y=train.SalePrice)"
   ]
  },
  {
   "attachments": {},
   "cell_type": "markdown",
   "id": "ba7b4d95",
   "metadata": {
    "papermill": {
     "duration": 0.024207,
     "end_time": "2023-05-23T22:29:25.163886",
     "exception": false,
     "start_time": "2023-05-23T22:29:25.139679",
     "status": "completed"
    },
    "tags": []
   },
   "source": [
    "SalePrice vs OverallCond"
   ]
  },
  {
   "cell_type": "code",
   "execution_count": 64,
   "id": "3435465f",
   "metadata": {
    "papermill": {
     "duration": 0.591654,
     "end_time": "2023-05-23T22:29:25.779817",
     "exception": false,
     "start_time": "2023-05-23T22:29:25.188163",
     "status": "completed"
    },
    "tags": []
   },
   "outputs": [
    {
     "data": {
      "text/plain": [
       "<AxesSubplot:xlabel='OverallCond', ylabel='SalePrice'>"
      ]
     },
     "execution_count": 64,
     "metadata": {},
     "output_type": "execute_result"
    },
    {
     "data": {
      "image/png": "[encoded data removed]",
      "text/plain": [
       "<Figure size 640x480 with 1 Axes>"
      ]
     },
     "metadata": {},
     "output_type": "display_data"
    }
   ],
   "source": [
    "# Sale Price vs Rates the overall condition of the house.\n",
    "sns.barplot(x=train.OverallCond, y=train.SalePrice)"
   ]
  },
  {
   "attachments": {},
   "cell_type": "markdown",
   "id": "d0273972",
   "metadata": {
    "papermill": {
     "duration": 0.024317,
     "end_time": "2023-05-23T22:29:25.830703",
     "exception": false,
     "start_time": "2023-05-23T22:29:25.806386",
     "status": "completed"
    },
    "tags": []
   },
   "source": [
    "SalePrice vs GrLivArea"
   ]
  },
  {
   "cell_type": "code",
   "execution_count": 65,
   "id": "4049c320",
   "metadata": {
    "papermill": {
     "duration": 0.371125,
     "end_time": "2023-05-23T22:29:26.226576",
     "exception": false,
     "start_time": "2023-05-23T22:29:25.855451",
     "status": "completed"
    },
    "tags": []
   },
   "outputs": [
    {
     "data": {
      "image/png": "[encoded data removed]",
      "text/plain": [
       "<Figure size 1200x800 with 1 Axes>"
      ]
     },
     "metadata": {},
     "output_type": "display_data"
    }
   ],
   "source": [
    "# Sale Price vs Above grade (ground) living area square feet.\n",
    "customized_scatterplot(x=train.SalePrice, y=train.GrLivArea)"
   ]
  },
  {
   "attachments": {},
   "cell_type": "markdown",
   "id": "7decad1d",
   "metadata": {
    "papermill": {
     "duration": 0.025717,
     "end_time": "2023-05-23T22:29:26.278348",
     "exception": false,
     "start_time": "2023-05-23T22:29:26.252631",
     "status": "completed"
    },
    "tags": []
   },
   "source": [
    "SalePrice vs GarageArea"
   ]
  },
  {
   "cell_type": "code",
   "execution_count": 66,
   "id": "d83f5c5b",
   "metadata": {
    "papermill": {
     "duration": 0.377903,
     "end_time": "2023-05-23T22:29:26.682146",
     "exception": false,
     "start_time": "2023-05-23T22:29:26.304243",
     "status": "completed"
    },
    "tags": []
   },
   "outputs": [
    {
     "data": {
      "image/png": "[encoded data removed]",
      "text/plain": [
       "<Figure size 1200x800 with 1 Axes>"
      ]
     },
     "metadata": {},
     "output_type": "display_data"
    }
   ],
   "source": [
    "# Sale Price vs Size of garage in square feet.\n",
    "customized_scatterplot(x=train.SalePrice, y=train.GarageArea)"
   ]
  },
  {
   "attachments": {},
   "cell_type": "markdown",
   "id": "e40106c9",
   "metadata": {
    "papermill": {
     "duration": 0.028461,
     "end_time": "2023-05-23T22:29:26.738004",
     "exception": false,
     "start_time": "2023-05-23T22:29:26.709543",
     "status": "completed"
    },
    "tags": []
   },
   "source": [
    "SalePrice vs TotalBsmtSF"
   ]
  },
  {
   "cell_type": "code",
   "execution_count": 67,
   "id": "bc3c4c63",
   "metadata": {
    "papermill": {
     "duration": 0.310036,
     "end_time": "2023-05-23T22:29:27.076199",
     "exception": false,
     "start_time": "2023-05-23T22:29:26.766163",
     "status": "completed"
    },
    "tags": []
   },
   "outputs": [
    {
     "data": {
      "image/png": "[encoded data removed]",
      "text/plain": [
       "<Figure size 1200x800 with 1 Axes>"
      ]
     },
     "metadata": {},
     "output_type": "display_data"
    }
   ],
   "source": [
    "# Sale Price vs Total square feet of basement area.\n",
    "customized_scatterplot(x=train.SalePrice, y=train.TotalBsmtSF)"
   ]
  },
  {
   "attachments": {},
   "cell_type": "markdown",
   "id": "2cccb880",
   "metadata": {
    "papermill": {
     "duration": 0.030708,
     "end_time": "2023-05-23T22:29:27.139017",
     "exception": false,
     "start_time": "2023-05-23T22:29:27.108309",
     "status": "completed"
    },
    "tags": []
   },
   "source": [
    "SalePrice vs MasVnrArea"
   ]
  },
  {
   "cell_type": "code",
   "execution_count": 68,
   "id": "c9f7cc22",
   "metadata": {
    "papermill": {
     "duration": 0.327928,
     "end_time": "2023-05-23T22:29:27.496323",
     "exception": false,
     "start_time": "2023-05-23T22:29:27.168395",
     "status": "completed"
    },
    "tags": []
   },
   "outputs": [
    {
     "data": {
      "image/png": "[encoded data removed]",
      "text/plain": [
       "<Figure size 1200x800 with 1 Axes>"
      ]
     },
     "metadata": {},
     "output_type": "display_data"
    }
   ],
   "source": [
    "# Sale Price vs Masonry veneer area in square feet.\n",
    "customized_scatterplot(x=train.SalePrice, y=train.MasVnrArea)"
   ]
  },
  {
   "attachments": {},
   "cell_type": "markdown",
   "id": "8ab4543a",
   "metadata": {
    "papermill": {
     "duration": 0.031344,
     "end_time": "2023-05-23T22:29:27.559442",
     "exception": false,
     "start_time": "2023-05-23T22:29:27.528098",
     "status": "completed"
    },
    "tags": []
   },
   "source": [
    "# <span style='color:dodgerblue; font-weight:bold;'>Machine Learning</span> \n",
    "\n",
    "### <span style='color:aqua; font-weight:bold;'>Pre-processing Steps for Machine Learning</span> "
   ]
  },
  {
   "cell_type": "code",
   "execution_count": 69,
   "id": "8c7e7447",
   "metadata": {
    "papermill": {
     "duration": 0.044184,
     "end_time": "2023-05-23T22:29:27.635947",
     "exception": false,
     "start_time": "2023-05-23T22:29:27.591763",
     "status": "completed"
    },
    "tags": []
   },
   "outputs": [],
   "source": [
    "# Extract the features (X) and target variable (y)\n",
    "X = train.drop('SalePrice', axis=1)\n",
    "y = train['SalePrice']"
   ]
  },
  {
   "attachments": {},
   "cell_type": "markdown",
   "id": "0230b923",
   "metadata": {},
   "source": [
    "### <span style='color:aqua; font-weight:bold;'>Splitting the data</span> "
   ]
  },
  {
   "cell_type": "code",
   "execution_count": 70,
   "id": "a0edee87",
   "metadata": {
    "papermill": {
     "duration": 0.044907,
     "end_time": "2023-05-23T22:29:28.159232",
     "exception": false,
     "start_time": "2023-05-23T22:29:28.114325",
     "status": "completed"
    },
    "tags": []
   },
   "outputs": [],
   "source": [
    "# Split the data into training and testing sets\n",
    "X_train, X_test, y_train, y_test = train_test_split(X, y, test_size=0.2, random_state=42)"
   ]
  },
  {
   "attachments": {},
   "cell_type": "markdown",
   "id": "c19fac67",
   "metadata": {
    "papermill": {
     "duration": 0.031395,
     "end_time": "2023-05-23T22:29:27.698779",
     "exception": false,
     "start_time": "2023-05-23T22:29:27.667384",
     "status": "completed"
    },
    "tags": []
   },
   "source": [
    "### <span style='color:aqua; font-weight:bold;'>Normalization</span> "
   ]
  },
  {
   "cell_type": "code",
   "execution_count": 71,
   "id": "895fdf2d",
   "metadata": {
    "papermill": {
     "duration": 0.058781,
     "end_time": "2023-05-23T22:29:27.788390",
     "exception": false,
     "start_time": "2023-05-23T22:29:27.729609",
     "status": "completed"
    },
    "tags": []
   },
   "outputs": [],
   "source": [
    "# Standardize the features\n",
    "sc = StandardScaler()\n",
    "X_train = sc.fit_transform(X_train)\n",
    "X_test = sc.transform(X_test)"
   ]
  },
  {
   "attachments": {},
   "cell_type": "markdown",
   "id": "81a091a5",
   "metadata": {
    "papermill": {
     "duration": 0.03104,
     "end_time": "2023-05-23T22:29:27.850274",
     "exception": false,
     "start_time": "2023-05-23T22:29:27.819234",
     "status": "completed"
    },
    "tags": []
   },
   "source": [
    "### <span style='color:aqua; font-weight:bold;'>Dimension Reduction</span> "
   ]
  },
  {
   "cell_type": "code",
   "execution_count": 72,
   "id": "65143184",
   "metadata": {},
   "outputs": [
    {
     "data": {
      "application/vnd.plotly.v1+json": {
       "config": {
        "plotlyServerURL": "https://plot.ly"
       },
       "data": [
        {
         "mode": "lines+markers",
         "name": "Explained Variance",
         "type": "scatter",
         "x": [
          1,
          2,
          3,
          4,
          5,
          6,
          7,
          8,
          9,
          10,
          11,
          12,
          13,
          14,
          15,
          16,
          17,
          18,
          19,
          20,
          21,
          22,
          23,
          24,
          25,
          26,
          27,
          28,
          29,
          30,
          31,
          32,
          33,
          34,
          35,
          36,
          37,
          38,
          39,
          40,
          41,
          42,
          43,
          44,
          45,
          46,
          47,
          48,
          49,
          50,
          51,
          52,
          53,
          54,
          55,
          56,
          57,
          58,
          59,
          60,
          61,
          62,
          63,
          64,
          65,
          66,
          67,
          68,
          69,
          70,
          71,
          72,
          73,
          74,
          75,
          76,
          77,
          78,
          79,
          80,
          81,
          82,
          83,
          84,
          85,
          86,
          87,
          88,
          89,
          90,
          91,
          92,
          93,
          94,
          95,
          96,
          97,
          98,
          99,
          100,
          101,
          102,
          103,
          104,
          105,
          106,
          107,
          108,
          109,
          110,
          111,
          112,
          113,
          114,
          115,
          116,
          117,
          118,
          119,
          120,
          121,
          122,
          123,
          124,
          125,
          126,
          127,
          128,
          129,
          130,
          131,
          132,
          133,
          134,
          135,
          136,
          137,
          138,
          139,
          140,
          141,
          142,
          143,
          144,
          145,
          146,
          147,
          148,
          149,
          150,
          151,
          152,
          153,
          154,
          155,
          156,
          157,
          158,
          159,
          160,
          161,
          162,
          163,
          164,
          165,
          166,
          167,
          168,
          169,
          170,
          171,
          172,
          173,
          174,
          175,
          176,
          177,
          178,
          179,
          180,
          181,
          182,
          183,
          184,
          185,
          186,
          187,
          188,
          189,
          190,
          191,
          192,
          193,
          194,
          195,
          196,
          197,
          198,
          199,
          200,
          201,
          202,
          203,
          204,
          205,
          206,
          207,
          208,
          209,
          210,
          211,
          212,
          213,
          214,
          215,
          216,
          217,
          218,
          219,
          220,
          221,
          222,
          223,
          224,
          225,
          226,
          227,
          228,
          229,
          230,
          231,
          232,
          233,
          234,
          235,
          236,
          237,
          238,
          239,
          240,
          241,
          242,
          243,
          244,
          245,
          246,
          247,
          248,
          249,
          250,
          251,
          252,
          253,
          254,
          255,
          256,
          257,
          258,
          259
         ],
         "y": [
          0.06633377162386837,
          0.09897258882257104,
          0.12745171629521435,
          0.15172592907056687,
          0.17339935209589494,
          0.19198382223749452,
          0.20775058443391234,
          0.22287182095343244,
          0.2363829909739354,
          0.2491881114357151,
          0.2614061599080448,
          0.27320665610636335,
          0.28464337194495204,
          0.2954177111007079,
          0.306102715365772,
          0.31643491373887184,
          0.3266271697625513,
          0.33655232854008227,
          0.3463907928385486,
          0.3558914298319754,
          0.36522244578048246,
          0.37443572788424445,
          0.38330508331345314,
          0.3920336826083491,
          0.4004464298754955,
          0.40877302852951397,
          0.41699576485181994,
          0.4250112402100457,
          0.4328988054856105,
          0.4405679458886777,
          0.44820524277501067,
          0.4558293855883507,
          0.46329251769267127,
          0.47063250575152016,
          0.4778137172130113,
          0.48496633288034,
          0.4919797983919019,
          0.4989099935300411,
          0.5057975416742173,
          0.5125579468282874,
          0.5192781453702896,
          0.5257917487346363,
          0.532291403382492,
          0.5386449416547001,
          0.5449510128857881,
          0.5511633069814778,
          0.5572396492663073,
          0.563288990936222,
          0.5691993720199331,
          0.575039735312514,
          0.5808164036655183,
          0.5865207695624408,
          0.5921384363190593,
          0.5977139010478417,
          0.6032163507266799,
          0.608642539449992,
          0.6139467951596993,
          0.6192070431905337,
          0.6244193054099539,
          0.6296064141876969,
          0.6347409848283828,
          0.6397891453380173,
          0.6448006100467728,
          0.6498002463507205,
          0.6547208283977274,
          0.6596189452632166,
          0.6644538414186012,
          0.6692625382604652,
          0.6740190510429622,
          0.678725552244764,
          0.6833668738999825,
          0.6879490211804826,
          0.6924872363924847,
          0.6969943323108873,
          0.701459781105594,
          0.7059103462920541,
          0.7103136011312016,
          0.7146957620425594,
          0.7190411371527173,
          0.7233444165085057,
          0.727618786721278,
          0.7318573310244244,
          0.7360395181310495,
          0.7401481020421832,
          0.7441695777499635,
          0.7481610512525304,
          0.7521388421278006,
          0.7560795093775703,
          0.7599730104704052,
          0.7638476588149835,
          0.7676658218309679,
          0.7714739759528012,
          0.7752741341979914,
          0.7790390315006287,
          0.7827435758344873,
          0.7864189971387097,
          0.7900709015773861,
          0.7936559539039145,
          0.7972003218483089,
          0.8007343085722914,
          0.8042243251797706,
          0.807674185770111,
          0.8110466794116147,
          0.8144007896226362,
          0.8177213394109845,
          0.8209991804688562,
          0.8242602635770664,
          0.8274728040793399,
          0.8306214067119487,
          0.8337305693251467,
          0.8368143809121964,
          0.8398815027690207,
          0.8429406636297215,
          0.8459406746039957,
          0.8489109517947172,
          0.8518685886508245,
          0.8547522476586942,
          0.8576164654836403,
          0.8604305200077368,
          0.8632354896432859,
          0.8660138538028095,
          0.8687435897999154,
          0.8714198047095945,
          0.8740912237624087,
          0.876724202847055,
          0.8793106494139102,
          0.8818768067914409,
          0.884400536449191,
          0.886901814894095,
          0.8893665772193414,
          0.8917975857589423,
          0.8941855535928983,
          0.8965552904185687,
          0.8988909538647436,
          0.901206344680533,
          0.9034971794217389,
          0.9057591958205831,
          0.9079937942434727,
          0.9101461638926558,
          0.9122873820533834,
          0.9143978793882691,
          0.9164806284902269,
          0.9185463243937037,
          0.9205851342443564,
          0.9225771981721217,
          0.9245316581684305,
          0.926457066898382,
          0.9283654743179628,
          0.9302572538369862,
          0.9321098027850097,
          0.9339500941608113,
          0.9357591823649487,
          0.9375609275428729,
          0.9393286298888098,
          0.9410614034941545,
          0.9427780110850614,
          0.9444255820648882,
          0.9460548930371376,
          0.9476720492895766,
          0.9492276977773945,
          0.9507656496428947,
          0.9522744784536281,
          0.9537673441975217,
          0.9552500549598589,
          0.9566936404528947,
          0.9580927549358088,
          0.9594786205146326,
          0.9608561399382431,
          0.9622068689423333,
          0.9635234799077675,
          0.9648202341693632,
          0.9660688286481814,
          0.9672655981701245,
          0.9684292172232779,
          0.9695688307145758,
          0.970689277276598,
          0.9717889045825465,
          0.9728547751755534,
          0.9738818338053246,
          0.9748924738982312,
          0.9758921151127742,
          0.9768623907127483,
          0.9778010201148688,
          0.9787134492682604,
          0.9796108065853162,
          0.9804708533196799,
          0.9813123912738906,
          0.9821360182442955,
          0.9829248024941807,
          0.9836957819725975,
          0.9844488062489329,
          0.985170273761908,
          0.9858875123704789,
          0.9865837421415161,
          0.987252149210113,
          0.9878996351862152,
          0.9885339759597862,
          0.9891570944943777,
          0.9897633677669126,
          0.9903572043396485,
          0.9909079863850969,
          0.9914486145118543,
          0.991954747791084,
          0.9924561188887366,
          0.9929446619034066,
          0.9934109197181995,
          0.9938476673005893,
          0.9942715343433836,
          0.9946850246860441,
          0.9950762750598008,
          0.9954395872019839,
          0.9957896018850821,
          0.9961255664137445,
          0.9964520137152485,
          0.9967633145543733,
          0.9970631638328149,
          0.9973314246693578,
          0.99759243458746,
          0.9978442508830649,
          0.9980728226714367,
          0.9982718360670101,
          0.9984476912198684,
          0.9986147906646204,
          0.9987775289229768,
          0.9989255984694659,
          0.999065336742071,
          0.9991924678553058,
          0.999295364049931,
          0.9993874082101237,
          0.9994669946366098,
          0.9995415353205319,
          0.999615549640772,
          0.9996828603073938,
          0.9997410093249188,
          0.9997900581466823,
          0.9998283153301905,
          0.9998642905058833,
          0.9998922766168545,
          0.9999174628260208,
          0.99994185727664,
          0.9999633708546102,
          0.9999789468378936,
          0.9999858713300276,
          0.9999916905599335,
          0.9999974267979995,
          0.9999996594983261,
          1.0000000000000009,
          1.0000000000000009,
          1.0000000000000009,
          1.0000000000000009,
          1.0000000000000009,
          1.0000000000000009,
          1.0000000000000009,
          1.0000000000000009,
          1.0000000000000009,
          1.0000000000000009,
          1.0000000000000009,
          1.0000000000000009,
          1.0000000000000009
         ]
        }
       ],
       "layout": {
        "hovermode": "closest",
        "legend": {
         "bgcolor": "rgba(0,0,0,0)",
         "x": 0.5,
         "y": 0.85
        },
        "plot_bgcolor": "white",
        "shapes": [
         {
          "line": {
           "color": "red",
           "dash": "dash",
           "width": 2
          },
          "name": "95% Cut-off Threshold",
          "type": "line",
          "x0": 1,
          "x1": 260,
          "y0": 0.95,
          "y1": 0.95
         }
        ],
        "showlegend": true,
        "template": {
         "data": {
          "bar": [
           {
            "error_x": {
             "color": "#2a3f5f"
            },
            "error_y": {
             "color": "#2a3f5f"
            },
            "marker": {
             "line": {
              "color": "#E5ECF6",
              "width": 0.5
             },
             "pattern": {
              "fillmode": "overlay",
              "size": 10,
              "solidity": 0.2
             }
            },
            "type": "bar"
           }
          ],
          "barpolar": [
           {
            "marker": {
             "line": {
              "color": "#E5ECF6",
              "width": 0.5
             },
             "pattern": {
              "fillmode": "overlay",
              "size": 10,
              "solidity": 0.2
             }
            },
            "type": "barpolar"
           }
          ],
          "carpet": [
           {
            "aaxis": {
             "endlinecolor": "#2a3f5f",
             "gridcolor": "white",
             "linecolor": "white",
             "minorgridcolor": "white",
             "startlinecolor": "#2a3f5f"
            },
            "baxis": {
             "endlinecolor": "#2a3f5f",
             "gridcolor": "white",
             "linecolor": "white",
             "minorgridcolor": "white",
             "startlinecolor": "#2a3f5f"
            },
            "type": "carpet"
           }
          ],
          "choropleth": [
           {
            "colorbar": {
             "outlinewidth": 0,
             "ticks": ""
            },
            "type": "choropleth"
           }
          ],
          "contour": [
           {
            "colorbar": {
             "outlinewidth": 0,
             "ticks": ""
            },
            "colorscale": [
             [
              0,
              "#0d0887"
             ],
             [
              0.1111111111111111,
              "#46039f"
             ],
             [
              0.2222222222222222,
              "#7201a8"
             ],
             [
              0.3333333333333333,
              "#9c179e"
             ],
             [
              0.4444444444444444,
              "#bd3786"
             ],
             [
              0.5555555555555556,
              "#d8576b"
             ],
             [
              0.6666666666666666,
              "#ed7953"
             ],
             [
              0.7777777777777778,
              "#fb9f3a"
             ],
             [
              0.8888888888888888,
              "#fdca26"
             ],
             [
              1,
              "#f0f921"
             ]
            ],
            "type": "contour"
           }
          ],
          "contourcarpet": [
           {
            "colorbar": {
             "outlinewidth": 0,
             "ticks": ""
            },
            "type": "contourcarpet"
           }
          ],
          "heatmap": [
           {
            "colorbar": {
             "outlinewidth": 0,
             "ticks": ""
            },
            "colorscale": [
             [
              0,
              "#0d0887"
             ],
             [
              0.1111111111111111,
              "#46039f"
             ],
             [
              0.2222222222222222,
              "#7201a8"
             ],
             [
              0.3333333333333333,
              "#9c179e"
             ],
             [
              0.4444444444444444,
              "#bd3786"
             ],
             [
              0.5555555555555556,
              "#d8576b"
             ],
             [
              0.6666666666666666,
              "#ed7953"
             ],
             [
              0.7777777777777778,
              "#fb9f3a"
             ],
             [
              0.8888888888888888,
              "#fdca26"
             ],
             [
              1,
              "#f0f921"
             ]
            ],
            "type": "heatmap"
           }
          ],
          "heatmapgl": [
           {
            "colorbar": {
             "outlinewidth": 0,
             "ticks": ""
            },
            "colorscale": [
             [
              0,
              "#0d0887"
             ],
             [
              0.1111111111111111,
              "#46039f"
             ],
             [
              0.2222222222222222,
              "#7201a8"
             ],
             [
              0.3333333333333333,
              "#9c179e"
             ],
             [
              0.4444444444444444,
              "#bd3786"
             ],
             [
              0.5555555555555556,
              "#d8576b"
             ],
             [
              0.6666666666666666,
              "#ed7953"
             ],
             [
              0.7777777777777778,
              "#fb9f3a"
             ],
             [
              0.8888888888888888,
              "#fdca26"
             ],
             [
              1,
              "#f0f921"
             ]
            ],
            "type": "heatmapgl"
           }
          ],
          "histogram": [
           {
            "marker": {
             "pattern": {
              "fillmode": "overlay",
              "size": 10,
              "solidity": 0.2
             }
            },
            "type": "histogram"
           }
          ],
          "histogram2d": [
           {
            "colorbar": {
             "outlinewidth": 0,
             "ticks": ""
            },
            "colorscale": [
             [
              0,
              "#0d0887"
             ],
             [
              0.1111111111111111,
              "#46039f"
             ],
             [
              0.2222222222222222,
              "#7201a8"
             ],
             [
              0.3333333333333333,
              "#9c179e"
             ],
             [
              0.4444444444444444,
              "#bd3786"
             ],
             [
              0.5555555555555556,
              "#d8576b"
             ],
             [
              0.6666666666666666,
              "#ed7953"
             ],
             [
              0.7777777777777778,
              "#fb9f3a"
             ],
             [
              0.8888888888888888,
              "#fdca26"
             ],
             [
              1,
              "#f0f921"
             ]
            ],
            "type": "histogram2d"
           }
          ],
          "histogram2dcontour": [
           {
            "colorbar": {
             "outlinewidth": 0,
             "ticks": ""
            },
            "colorscale": [
             [
              0,
              "#0d0887"
             ],
             [
              0.1111111111111111,
              "#46039f"
             ],
             [
              0.2222222222222222,
              "#7201a8"
             ],
             [
              0.3333333333333333,
              "#9c179e"
             ],
             [
              0.4444444444444444,
              "#bd3786"
             ],
             [
              0.5555555555555556,
              "#d8576b"
             ],
             [
              0.6666666666666666,
              "#ed7953"
             ],
             [
              0.7777777777777778,
              "#fb9f3a"
             ],
             [
              0.8888888888888888,
              "#fdca26"
             ],
             [
              1,
              "#f0f921"
             ]
            ],
            "type": "histogram2dcontour"
           }
          ],
          "mesh3d": [
           {
            "colorbar": {
             "outlinewidth": 0,
             "ticks": ""
            },
            "type": "mesh3d"
           }
          ],
          "parcoords": [
           {
            "line": {
             "colorbar": {
              "outlinewidth": 0,
              "ticks": ""
             }
            },
            "type": "parcoords"
           }
          ],
          "pie": [
           {
            "automargin": true,
            "type": "pie"
           }
          ],
          "scatter": [
           {
            "fillpattern": {
             "fillmode": "overlay",
             "size": 10,
             "solidity": 0.2
            },
            "type": "scatter"
           }
          ],
          "scatter3d": [
           {
            "line": {
             "colorbar": {
              "outlinewidth": 0,
              "ticks": ""
             }
            },
            "marker": {
             "colorbar": {
              "outlinewidth": 0,
              "ticks": ""
             }
            },
            "type": "scatter3d"
           }
          ],
          "scattercarpet": [
           {
            "marker": {
             "colorbar": {
              "outlinewidth": 0,
              "ticks": ""
             }
            },
            "type": "scattercarpet"
           }
          ],
          "scattergeo": [
           {
            "marker": {
             "colorbar": {
              "outlinewidth": 0,
              "ticks": ""
             }
            },
            "type": "scattergeo"
           }
          ],
          "scattergl": [
           {
            "marker": {
             "colorbar": {
              "outlinewidth": 0,
              "ticks": ""
             }
            },
            "type": "scattergl"
           }
          ],
          "scattermapbox": [
           {
            "marker": {
             "colorbar": {
              "outlinewidth": 0,
              "ticks": ""
             }
            },
            "type": "scattermapbox"
           }
          ],
          "scatterpolar": [
           {
            "marker": {
             "colorbar": {
              "outlinewidth": 0,
              "ticks": ""
             }
            },
            "type": "scatterpolar"
           }
          ],
          "scatterpolargl": [
           {
            "marker": {
             "colorbar": {
              "outlinewidth": 0,
              "ticks": ""
             }
            },
            "type": "scatterpolargl"
           }
          ],
          "scatterternary": [
           {
            "marker": {
             "colorbar": {
              "outlinewidth": 0,
              "ticks": ""
             }
            },
            "type": "scatterternary"
           }
          ],
          "surface": [
           {
            "colorbar": {
             "outlinewidth": 0,
             "ticks": ""
            },
            "colorscale": [
             [
              0,
              "#0d0887"
             ],
             [
              0.1111111111111111,
              "#46039f"
             ],
             [
              0.2222222222222222,
              "#7201a8"
             ],
             [
              0.3333333333333333,
              "#9c179e"
             ],
             [
              0.4444444444444444,
              "#bd3786"
             ],
             [
              0.5555555555555556,
              "#d8576b"
             ],
             [
              0.6666666666666666,
              "#ed7953"
             ],
             [
              0.7777777777777778,
              "#fb9f3a"
             ],
             [
              0.8888888888888888,
              "#fdca26"
             ],
             [
              1,
              "#f0f921"
             ]
            ],
            "type": "surface"
           }
          ],
          "table": [
           {
            "cells": {
             "fill": {
              "color": "#EBF0F8"
             },
             "line": {
              "color": "white"
             }
            },
            "header": {
             "fill": {
              "color": "#C8D4E3"
             },
             "line": {
              "color": "white"
             }
            },
            "type": "table"
           }
          ]
         },
         "layout": {
          "annotationdefaults": {
           "arrowcolor": "#2a3f5f",
           "arrowhead": 0,
           "arrowwidth": 1
          },
          "autotypenumbers": "strict",
          "coloraxis": {
           "colorbar": {
            "outlinewidth": 0,
            "ticks": ""
           }
          },
          "colorscale": {
           "diverging": [
            [
             0,
             "#8e0152"
            ],
            [
             0.1,
             "#c51b7d"
            ],
            [
             0.2,
             "#de77ae"
            ],
            [
             0.3,
             "#f1b6da"
            ],
            [
             0.4,
             "#fde0ef"
            ],
            [
             0.5,
             "#f7f7f7"
            ],
            [
             0.6,
             "#e6f5d0"
            ],
            [
             0.7,
             "#b8e186"
            ],
            [
             0.8,
             "#7fbc41"
            ],
            [
             0.9,
             "#4d9221"
            ],
            [
             1,
             "#276419"
            ]
           ],
           "sequential": [
            [
             0,
             "#0d0887"
            ],
            [
             0.1111111111111111,
             "#46039f"
            ],
            [
             0.2222222222222222,
             "#7201a8"
            ],
            [
             0.3333333333333333,
             "#9c179e"
            ],
            [
             0.4444444444444444,
             "#bd3786"
            ],
            [
             0.5555555555555556,
             "#d8576b"
            ],
            [
             0.6666666666666666,
             "#ed7953"
            ],
            [
             0.7777777777777778,
             "#fb9f3a"
            ],
            [
             0.8888888888888888,
             "#fdca26"
            ],
            [
             1,
             "#f0f921"
            ]
           ],
           "sequentialminus": [
            [
             0,
             "#0d0887"
            ],
            [
             0.1111111111111111,
             "#46039f"
            ],
            [
             0.2222222222222222,
             "#7201a8"
            ],
            [
             0.3333333333333333,
             "#9c179e"
            ],
            [
             0.4444444444444444,
             "#bd3786"
            ],
            [
             0.5555555555555556,
             "#d8576b"
            ],
            [
             0.6666666666666666,
             "#ed7953"
            ],
            [
             0.7777777777777778,
             "#fb9f3a"
            ],
            [
             0.8888888888888888,
             "#fdca26"
            ],
            [
             1,
             "#f0f921"
            ]
           ]
          },
          "colorway": [
           "#636efa",
           "#EF553B",
           "#00cc96",
           "#ab63fa",
           "#FFA15A",
           "#19d3f3",
           "#FF6692",
           "#B6E880",
           "#FF97FF",
           "#FECB52"
          ],
          "font": {
           "color": "#2a3f5f"
          },
          "geo": {
           "bgcolor": "white",
           "lakecolor": "white",
           "landcolor": "#E5ECF6",
           "showlakes": true,
           "showland": true,
           "subunitcolor": "white"
          },
          "hoverlabel": {
           "align": "left"
          },
          "hovermode": "closest",
          "mapbox": {
           "style": "light"
          },
          "paper_bgcolor": "white",
          "plot_bgcolor": "#E5ECF6",
          "polar": {
           "angularaxis": {
            "gridcolor": "white",
            "linecolor": "white",
            "ticks": ""
           },
           "bgcolor": "#E5ECF6",
           "radialaxis": {
            "gridcolor": "white",
            "linecolor": "white",
            "ticks": ""
           }
          },
          "scene": {
           "xaxis": {
            "backgroundcolor": "#E5ECF6",
            "gridcolor": "white",
            "gridwidth": 2,
            "linecolor": "white",
            "showbackground": true,
            "ticks": "",
            "zerolinecolor": "white"
           },
           "yaxis": {
            "backgroundcolor": "#E5ECF6",
            "gridcolor": "white",
            "gridwidth": 2,
            "linecolor": "white",
            "showbackground": true,
            "ticks": "",
            "zerolinecolor": "white"
           },
           "zaxis": {
            "backgroundcolor": "#E5ECF6",
            "gridcolor": "white",
            "gridwidth": 2,
            "linecolor": "white",
            "showbackground": true,
            "ticks": "",
            "zerolinecolor": "white"
           }
          },
          "shapedefaults": {
           "line": {
            "color": "#2a3f5f"
           }
          },
          "ternary": {
           "aaxis": {
            "gridcolor": "white",
            "linecolor": "white",
            "ticks": ""
           },
           "baxis": {
            "gridcolor": "white",
            "linecolor": "white",
            "ticks": ""
           },
           "bgcolor": "#E5ECF6",
           "caxis": {
            "gridcolor": "white",
            "linecolor": "white",
            "ticks": ""
           }
          },
          "title": {
           "x": 0.05
          },
          "xaxis": {
           "automargin": true,
           "gridcolor": "white",
           "linecolor": "white",
           "ticks": "",
           "title": {
            "standoff": 15
           },
           "zerolinecolor": "white",
           "zerolinewidth": 2
          },
          "yaxis": {
           "automargin": true,
           "gridcolor": "white",
           "linecolor": "white",
           "ticks": "",
           "title": {
            "standoff": 15
           },
           "zerolinecolor": "white",
           "zerolinewidth": 2
          }
         }
        },
        "title": {
         "text": "The Number of Components Needed to Explain Variance"
        },
        "xaxis": {
         "dtick": 20,
         "tick0": 0,
         "tickmode": "linear",
         "title": {
          "text": "Number of Components"
         }
        },
        "yaxis": {
         "range": [
          0,
          1.1
         ],
         "title": {
          "text": "Cumulative Variance (%)"
         }
        }
       }
      }
     },
     "metadata": {},
     "output_type": "display_data"
    }
   ],
   "source": [
    "pca = PCA().fit(X_train)\n",
    "\n",
    "fig = go.Figure()\n",
    "\n",
    "xi = np.arange(1, 260, step=1)\n",
    "y = np.cumsum(pca.explained_variance_ratio_)\n",
    "\n",
    "fig.add_trace(go.Scatter(x=xi, y=y, mode='lines+markers', name='Explained Variance'))\n",
    "\n",
    "# 95% Cut-off Threshold\n",
    "fig.add_shape(type=\"line\", x0=1, y0=0.95, x1=260, y1=0.95,\n",
    "              line=dict(color='red', width=2, dash='dash'), name='95% Cut-off Threshold')\n",
    "\n",
    "fig.update_layout(\n",
    "    title='The Number of Components Needed to Explain Variance',\n",
    "    xaxis_title='Number of Components',\n",
    "    yaxis_title='Cumulative Variance (%)',\n",
    "    xaxis=dict(tickmode='linear', tick0=0, dtick=20),\n",
    "    yaxis=dict(range=[0, 1.1]),\n",
    "    showlegend=True,\n",
    "    legend=dict(x=0.5, y=0.85, bgcolor='rgba(0,0,0,0)'),\n",
    "    hovermode='closest',\n",
    "    plot_bgcolor='white'\n",
    ")\n",
    "\n",
    "fig.show()"
   ]
  },
  {
   "cell_type": "code",
   "execution_count": 73,
   "id": "ba71442c",
   "metadata": {
    "papermill": {
     "duration": 0.087202,
     "end_time": "2023-05-23T22:29:27.968468",
     "exception": false,
     "start_time": "2023-05-23T22:29:27.881266",
     "status": "completed"
    },
    "tags": []
   },
   "outputs": [],
   "source": [
    "pca = PCA(n_components = 150)\n",
    "X_train = pca.fit_transform(X_train)\n",
    "X_test = pca.transform(X_test)"
   ]
  },
  {
   "attachments": {},
   "cell_type": "markdown",
   "id": "75a8587d",
   "metadata": {
    "papermill": {
     "duration": 0.030771,
     "end_time": "2023-05-23T22:29:28.221239",
     "exception": false,
     "start_time": "2023-05-23T22:29:28.190468",
     "status": "completed"
    },
    "tags": []
   },
   "source": [
    "### <span style='color:aqua; font-weight:bold;'>Model Selection</span> "
   ]
  },
  {
   "cell_type": "code",
   "execution_count": 74,
   "id": "1d1961c8",
   "metadata": {
    "papermill": {
     "duration": 4.314383,
     "end_time": "2023-05-23T22:29:32.566684",
     "exception": false,
     "start_time": "2023-05-23T22:29:28.252301",
     "status": "completed"
    },
    "tags": []
   },
   "outputs": [
    {
     "name": "stdout",
     "output_type": "stream",
     "text": [
      "LinearRegression\n",
      "R-squared: 0.8303\n",
      "Mean Absolute Error (MAE): 22890.4974\n",
      "Mean Squared Error (MSE): 1301400581.3554\n",
      "Root Mean Squared Error (RMSE): 36074.9301\n",
      "\n",
      "\n",
      "DecisionTreeRegressor\n",
      "R-squared: 0.7358\n",
      "Mean Absolute Error (MAE): 29642.0308\n",
      "Mean Squared Error (MSE): 2026326107.3733\n",
      "Root Mean Squared Error (RMSE): 45014.7321\n",
      "\n",
      "\n",
      "RandomForestRegressor\n",
      "R-squared: 0.8585\n",
      "Mean Absolute Error (MAE): 20619.7638\n",
      "Mean Squared Error (MSE): 1085503969.0322\n",
      "Root Mean Squared Error (RMSE): 32946.9873\n",
      "\n",
      "\n",
      "SVR\n",
      "R-squared: -0.0245\n",
      "Mean Absolute Error (MAE): 59538.5045\n",
      "Mean Squared Error (MSE): 7857875493.6096\n",
      "Root Mean Squared Error (RMSE): 88644.6586\n",
      "\n",
      "\n",
      "MLPRegressor\n",
      "R-squared: -4.0831\n",
      "Mean Absolute Error (MAE): 177575.2252\n",
      "Mean Squared Error (MSE): 38988802198.5752\n",
      "Root Mean Squared Error (RMSE): 197455.8234\n",
      "\n",
      "\n",
      "XGBRegressor\n",
      "R-squared: 0.8681\n",
      "Mean Absolute Error (MAE): 20738.6696\n",
      "Mean Squared Error (MSE): 1011445768.3455\n",
      "Root Mean Squared Error (RMSE): 31803.2352\n",
      "\n",
      "\n"
     ]
    }
   ],
   "source": [
    "# Define the regression models\n",
    "models = [\n",
    "    LinearRegression(),\n",
    "    DecisionTreeRegressor(),\n",
    "    RandomForestRegressor(),\n",
    "    SVR(),\n",
    "    MLPRegressor(),\n",
    "    XGBRegressor()\n",
    "]\n",
    "\n",
    "# Train and evaluate each model\n",
    "for model in models:\n",
    "    model.fit(X_train, y_train)\n",
    "    y_pred = model.predict(X_test)\n",
    "    \n",
    "    y_train_pred = model.fit(X_train, y_train)\n",
    "    \n",
    "    r2 = r2_score(y_test, y_pred)\n",
    "    mae = mean_absolute_error(y_test, y_pred)\n",
    "    mse = mean_squared_error(y_test, y_pred)\n",
    "    rmse = mean_squared_error(y_test, y_pred, squared=False)\n",
    "    \n",
    "    print(type(model).__name__)\n",
    "    print(\"R-squared:\", round(r2, 4))\n",
    "    print(\"Mean Absolute Error (MAE):\", round(mae, 4))\n",
    "    print(\"Mean Squared Error (MSE):\", round(mse, 4))\n",
    "    print(\"Root Mean Squared Error (RMSE):\", round(rmse, 4))\n",
    "    print(\"\\n\")"
   ]
  },
  {
   "attachments": {},
   "cell_type": "markdown",
   "id": "f077f479",
   "metadata": {
    "papermill": {
     "duration": 0.030835,
     "end_time": "2023-05-23T22:29:32.632274",
     "exception": false,
     "start_time": "2023-05-23T22:29:32.601439",
     "status": "completed"
    },
    "tags": []
   },
   "source": [
    "### <span style='color:aqua; font-weight:bold;'>Model Performance</span> "
   ]
  },
  {
   "cell_type": "code",
   "execution_count": 75,
   "id": "9a14654a",
   "metadata": {
    "papermill": {
     "duration": 44.513814,
     "end_time": "2023-05-23T22:30:17.177358",
     "exception": false,
     "start_time": "2023-05-23T22:29:32.663544",
     "status": "completed"
    },
    "tags": []
   },
   "outputs": [
    {
     "data": {
      "application/vnd.plotly.v1+json": {
       "config": {
        "plotlyServerURL": "https://plot.ly"
       },
       "data": [
        {
         "marker": {
          "opacity": 0.5,
          "size": 8
         },
         "mode": "markers",
         "name": "LinearRegression",
         "type": "scatter",
         "x": [
          154500,
          325000,
          115000,
          159000,
          315500,
          75500,
          311500,
          146000,
          84500,
          135500,
          145000,
          130000,
          81000,
          214000,
          181000,
          134500,
          183500,
          135000,
          118400,
          226000,
          155000,
          210000,
          173500,
          129000,
          192000,
          153900,
          181134,
          141000,
          181000,
          208900,
          127000,
          284000,
          200500,
          135750,
          255000,
          140000,
          138000,
          219500,
          310000,
          97000,
          114500,
          205000,
          119500,
          253293,
          128500,
          117500,
          115000,
          127000,
          451950,
          144000,
          119000,
          196000,
          115000,
          287000,
          144500,
          260000,
          213000,
          175000,
          107000,
          107500,
          68500,
          154000,
          317000,
          264132,
          283463,
          243000,
          109000,
          305000,
          93500,
          176000,
          118858,
          134000,
          109008,
          93500,
          611657,
          173000,
          348000,
          341000,
          141000,
          124900,
          118000,
          67000,
          113000,
          91300,
          149500,
          133000,
          266000,
          190000,
          155900,
          155835,
          153500,
          152000,
          124500,
          301000,
          136500,
          169990,
          205000,
          183900,
          204900,
          260000,
          163500,
          224900,
          244000,
          132000,
          194000,
          156500,
          156000,
          275000,
          145000,
          135000,
          60000,
          124000,
          127000,
          137500,
          213500,
          119000,
          107900,
          123000,
          112000,
          284000,
          133000,
          149000,
          169000,
          207000,
          175000,
          137000,
          236000,
          79500,
          144000,
          162900,
          185900,
          369900,
          197900,
          104000,
          35311,
          337500,
          367294,
          130250,
          230000,
          755000,
          403000,
          132000,
          178000,
          136500,
          145000,
          123000,
          250000,
          187100,
          133900,
          67000,
          137500,
          155000,
          200624,
          154300,
          91000,
          136000,
          108959,
          140000,
          86000,
          131400,
          179900,
          144000,
          293077,
          144500,
          118500,
          141000,
          239000,
          276000,
          556581,
          244400,
          360000,
          103200,
          102000,
          151000,
          285000,
          134432,
          113000,
          187500,
          125500,
          177500,
          179900,
          55993,
          132500,
          135000,
          255000,
          140000,
          271000,
          246578,
          202500,
          75000,
          122500,
          108480,
          160000,
          171000,
          196000,
          225000,
          197000,
          40000,
          172500,
          154900,
          280000,
          175000,
          147000,
          315000,
          185000,
          135500,
          239500,
          139000,
          140000,
          110000,
          225000,
          143500,
          128950,
          172500,
          241500,
          262500,
          194201,
          143000,
          130000,
          126000,
          142500,
          254000,
          217500,
          66500,
          201000,
          155000,
          68400,
          64500,
          173000,
          102776,
          84900,
          165600,
          120000,
          135000,
          220000,
          153575,
          195400,
          147000,
          277000,
          143000,
          105900,
          242000,
          194500,
          438780,
          185000,
          107500,
          165000,
          176000,
          129900,
          115000,
          192140,
          160000,
          145000,
          86000,
          158000,
          127500,
          115000,
          119500,
          175900,
          240000,
          395000,
          165000,
          128200,
          275000,
          311872,
          214000,
          153500,
          144000,
          115000,
          180000,
          465000,
          180000,
          253000,
          85000,
          101800,
          148500,
          137500,
          318061,
          143000,
          140000,
          192500,
          92000,
          197000,
          109500,
          297000,
          185750,
          230000,
          89471,
          260000,
          189000,
          108000,
          124500
         ],
         "y": [
          170738.6546837434,
          356108.771053915,
          127454.78755878341,
          146740.26660090394,
          310171.41555268504,
          -30445.938794898917,
          256384.33084165186,
          -74555.69291083625,
          -20877.543970017694,
          120530.95025051247,
          142425.4883927118,
          78135.77640779523,
          648080.2445141812,
          255815.45180056462,
          134342.90919252057,
          163683.9707525573,
          177788.63823691092,
          326571.51708269306,
          127432.66809259559,
          212731.4178336361,
          186869.79858025513,
          187480.9794193699,
          170714.1620705984,
          126942.93402713691,
          192667.50207740517,
          171789.24751079225,
          224560.95991381604,
          152420.50413432205,
          178194.73118460388,
          191142.44043959712,
          151708.60360121937,
          296313.11927113857,
          335800.50061824557,
          108179.89622473244,
          243202.40505398752,
          132213.26389023318,
          223276.88339321656,
          161972.28339539064,
          264740.46013957437,
          160023.07285014968,
          95851.05072724183,
          266463.0468035028,
          120531.8812763759,
          371937.3987939819,
          118876.19455718869,
          227870.4933462736,
          97624.47256517493,
          134118.59274210423,
          -766117.2693210684,
          157645.2364512847,
          119970.05371890594,
          208712.6448288922,
          118685.1913262747,
          -40951.112258798064,
          911752.4163863317,
          246551.26304514846,
          196480.33576062997,
          143592.74875479625,
          158070.84606890302,
          349207.42818274326,
          -1548145.7147240913,
          96745.05707366206,
          318509.0618560352,
          270044.8196266839,
          262638.581412447,
          208226.15436420785,
          142291.47120399703,
          324863.202748517,
          -2844564.088768729,
          191827.29729142494,
          53360.7229065359,
          115787.93643243184,
          115713.00186703535,
          125874.33678762868,
          417368.5262602102,
          119377.42731650018,
          320379.60316776467,
          382289.1759527273,
          175655.36158538933,
          138747.65476697442,
          111737.32162691418,
          141817.8927536285,
          68650.14866135939,
          105578.40545554679,
          162561.3674500821,
          117196.17817070405,
          285395.6712829671,
          138206.6010443843,
          116342.83119901008,
          173297.2873419266,
          158092.8448506141,
          -49748.17145830428,
          182709.31095984287,
          284833.39345708286,
          116288.17061632178,
          151450.36077900967,
          217832.81986965373,
          -324810.2488110639,
          232925.42294342286,
          296663.8560721377,
          169484.17442827928,
          197871.42499178927,
          343848.81418687897,
          153905.0238807927,
          129228.72774671022,
          152260.44381972819,
          161849.05221812832,
          289588.4272392052,
          124621.86009079237,
          321559.87583863596,
          385328.22958742233,
          44423.858283547364,
          133695.32606395654,
          139291.4357615861,
          214481.39661007264,
          60961.79428043967,
          90039.03942805642,
          124018.17996983623,
          653814.7191433064,
          333300.59617965197,
          246345.1471197969,
          154018.80100616647,
          173535.2875519402,
          270417.38249178324,
          205545.62489695993,
          180159.2877537788,
          220785.66920080147,
          163718.41214461534,
          136081.90640910144,
          257204.93394173117,
          196771.80253024754,
          365738.01967280766,
          190724.31222494147,
          -198014.39125741806,
          12689.586331728817,
          397553.8268526719,
          411735.7982158322,
          185404.15560632813,
          265661.79749020655,
          673713.9858609339,
          377961.15367828193,
          130079.01398475203,
          150341.33871089556,
          171154.31235577055,
          55685.56130211573,
          165727.82105985936,
          295559.42935685354,
          160159.78414888756,
          -82975.74015082917,
          65798.25684512834,
          191435.97525015674,
          121392.45366570858,
          213435.96732416915,
          186781.76520769633,
          43605.38255226944,
          152659.71589141528,
          145701.66204418262,
          129994.45384654519,
          37555.096095208515,
          193423.7635900635,
          219504.3271156457,
          233310.61519252261,
          313115.41414638725,
          69786.26682808797,
          155909.53083191792,
          160431.4351450066,
          285822.4461249763,
          277749.7329652698,
          355814.270001816,
          187293.318476033,
          384077.2072875516,
          79940.80752863808,
          -27432.306246470485,
          -4677728.500000272,
          327890.62120952556,
          -238802.84067122362,
          110848.29246693979,
          146185.4012140794,
          141171.06520799277,
          202963.0457339593,
          145434.2731134061,
          296460.2755039792,
          182091.13286922075,
          176403.53414171014,
          249220.35664214919,
          118226.76622435958,
          233028.51653283316,
          270021.63335322554,
          249866.58747198436,
          89554.62663638173,
          73392.81453932734,
          148801.45549690071,
          142173.1989989621,
          -671454.39256109,
          256727.43337712274,
          221447.21636802028,
          205164.8216352911,
          5517.397729790653,
          225868.83954877136,
          170619.53199680737,
          433673.01529064303,
          192741.73325561418,
          146883.57838646515,
          337580.57150844333,
          177761.2514586689,
          158652.90995571058,
          247559.5370924229,
          120059.96895873772,
          179157.97952551828,
          77684.53664090835,
          278681.20207337383,
          115238.74735960895,
          163037.9854208612,
          200078.75010189263,
          179667.29760405433,
          246845.97856473073,
          288240.0840532909,
          138830.48878130922,
          105782.52682407499,
          147878.0511649871,
          119662.44897539742,
          247556.94604473177,
          208235.74199960096,
          93912.01725626475,
          183512.91561719397,
          165716.295626863,
          79680.14020981948,
          101979.9903500354,
          202944.44030460325,
          -295682.1642889084,
          6109.402621676971,
          144014.5514452452,
          145994.5538028497,
          109970.18137891374,
          249855.54989518272,
          179790.8655954738,
          192295.74071170908,
          161345.49779937766,
          233181.93983631127,
          99564.97426832002,
          130544.6516741052,
          189815.8504968391,
          4350614.589248742,
          527347.8083524305,
          83946.7496566663,
          116047.49023858897,
          -152089.92221564325,
          176774.92477589787,
          110316.0990516808,
          119919.50890819248,
          248806.29121312388,
          106422.98956446693,
          129898.42092021932,
          24015.96442601792,
          115015.97409496155,
          7866.3056419162895,
          51261.0530053308,
          130714.82045455914,
          187637.69403961452,
          237258.42394711374,
          308721.7415245634,
          231986.51692113964,
          182649.79348521263,
          234482.38595833018,
          338762.1279148013,
          257432.77871716028,
          241656.15598193507,
          149463.09481533073,
          34189.92719354929,
          211471.01151411023,
          443893.3485696076,
          289474.8302169538,
          271794.0018701836,
          94091.16035406044,
          72570.37626834218,
          148966.48137250973,
          71736.86446954664,
          273433.5197517391,
          19779.66131461726,
          107836.6723916292,
          194627.20792418293,
          75129.20917501193,
          208879.23672028826,
          85495.9041770745,
          324320.99123954,
          152006.75430483388,
          208650.592726968,
          160487.36716490585,
          409232.2552647306,
          201442.88162892393,
          1137390.5755366378,
          101727.35746311377
         ]
        },
        {
         "marker": {
          "opacity": 0.5,
          "size": 8
         },
         "mode": "markers",
         "name": "DecisionTreeRegressor",
         "type": "scatter",
         "x": [
          154500,
          325000,
          115000,
          159000,
          315500,
          75500,
          311500,
          146000,
          84500,
          135500,
          145000,
          130000,
          81000,
          214000,
          181000,
          134500,
          183500,
          135000,
          118400,
          226000,
          155000,
          210000,
          173500,
          129000,
          192000,
          153900,
          181134,
          141000,
          181000,
          208900,
          127000,
          284000,
          200500,
          135750,
          255000,
          140000,
          138000,
          219500,
          310000,
          97000,
          114500,
          205000,
          119500,
          253293,
          128500,
          117500,
          115000,
          127000,
          451950,
          144000,
          119000,
          196000,
          115000,
          287000,
          144500,
          260000,
          213000,
          175000,
          107000,
          107500,
          68500,
          154000,
          317000,
          264132,
          283463,
          243000,
          109000,
          305000,
          93500,
          176000,
          118858,
          134000,
          109008,
          93500,
          611657,
          173000,
          348000,
          341000,
          141000,
          124900,
          118000,
          67000,
          113000,
          91300,
          149500,
          133000,
          266000,
          190000,
          155900,
          155835,
          153500,
          152000,
          124500,
          301000,
          136500,
          169990,
          205000,
          183900,
          204900,
          260000,
          163500,
          224900,
          244000,
          132000,
          194000,
          156500,
          156000,
          275000,
          145000,
          135000,
          60000,
          124000,
          127000,
          137500,
          213500,
          119000,
          107900,
          123000,
          112000,
          284000,
          133000,
          149000,
          169000,
          207000,
          175000,
          137000,
          236000,
          79500,
          144000,
          162900,
          185900,
          369900,
          197900,
          104000,
          35311,
          337500,
          367294,
          130250,
          230000,
          755000,
          403000,
          132000,
          178000,
          136500,
          145000,
          123000,
          250000,
          187100,
          133900,
          67000,
          137500,
          155000,
          200624,
          154300,
          91000,
          136000,
          108959,
          140000,
          86000,
          131400,
          179900,
          144000,
          293077,
          144500,
          118500,
          141000,
          239000,
          276000,
          556581,
          244400,
          360000,
          103200,
          102000,
          151000,
          285000,
          134432,
          113000,
          187500,
          125500,
          177500,
          179900,
          55993,
          132500,
          135000,
          255000,
          140000,
          271000,
          246578,
          202500,
          75000,
          122500,
          108480,
          160000,
          171000,
          196000,
          225000,
          197000,
          40000,
          172500,
          154900,
          280000,
          175000,
          147000,
          315000,
          185000,
          135500,
          239500,
          139000,
          140000,
          110000,
          225000,
          143500,
          128950,
          172500,
          241500,
          262500,
          194201,
          143000,
          130000,
          126000,
          142500,
          254000,
          217500,
          66500,
          201000,
          155000,
          68400,
          64500,
          173000,
          102776,
          84900,
          165600,
          120000,
          135000,
          220000,
          153575,
          195400,
          147000,
          277000,
          143000,
          105900,
          242000,
          194500,
          438780,
          185000,
          107500,
          165000,
          176000,
          129900,
          115000,
          192140,
          160000,
          145000,
          86000,
          158000,
          127500,
          115000,
          119500,
          175900,
          240000,
          395000,
          165000,
          128200,
          275000,
          311872,
          214000,
          153500,
          144000,
          115000,
          180000,
          465000,
          180000,
          253000,
          85000,
          101800,
          148500,
          137500,
          318061,
          143000,
          140000,
          192500,
          92000,
          197000,
          109500,
          297000,
          185750,
          230000,
          89471,
          260000,
          189000,
          108000,
          124500
         ],
         "y": [
          133000,
          367294,
          102776,
          126000,
          305000,
          84900,
          236000,
          135500,
          104000,
          113000,
          140000,
          118500,
          66500,
          213500,
          260000,
          124500,
          236000,
          109008,
          147000,
          213500,
          260000,
          192500,
          179900,
          118500,
          185000,
          144000,
          155835,
          118500,
          243000,
          204900,
          160000,
          297000,
          140000,
          118500,
          264132,
          155000,
          155000,
          214000,
          239500,
          86000,
          140000,
          214000,
          134000,
          318061,
          109000,
          126000,
          134000,
          139000,
          276000,
          207000,
          139000,
          197000,
          129900,
          242000,
          137500,
          195400,
          178000,
          194500,
          68400,
          103200,
          84900,
          115000,
          255000,
          325000,
          297000,
          140000,
          135000,
          297000,
          108959,
          217500,
          120000,
          128200,
          129000,
          91000,
          284000,
          177500,
          315000,
          451950,
          133900,
          132500,
          115000,
          79500,
          136000,
          68400,
          136000,
          114500,
          276000,
          197900,
          153900,
          196000,
          68400,
          124500,
          130250,
          241500,
          86000,
          192000,
          160000,
          217500,
          195400,
          143000,
          155000,
          226000,
          162900,
          125500,
          165000,
          122500,
          133900,
          213000,
          144000,
          185000,
          115000,
          154900,
          141000,
          86000,
          192000,
          154900,
          115000,
          120000,
          200500,
          202500,
          163500,
          144000,
          173000,
          113000,
          175000,
          118858,
          230000,
          135750,
          181000,
          172500,
          230000,
          611657,
          213500,
          115000,
          75500,
          311872,
          318061,
          114500,
          254000,
          611657,
          348000,
          110000,
          175000,
          135500,
          68400,
          135000,
          156500,
          253000,
          113000,
          115000,
          140000,
          152000,
          311500,
          120000,
          64500,
          136500,
          102776,
          156500,
          84500,
          130000,
          210000,
          123000,
          611657,
          165000,
          110000,
          145000,
          253000,
          271000,
          451950,
          172500,
          325000,
          108000,
          101800,
          127500,
          187500,
          144000,
          159000,
          213000,
          118400,
          197900,
          213000,
          119000,
          133000,
          207000,
          255000,
          207000,
          348000,
          305000,
          305000,
          92000,
          118000,
          109000,
          153500,
          154300,
          192000,
          158000,
          149000,
          35311,
          197900,
          112000,
          244000,
          163500,
          109500,
          325000,
          260000,
          156000,
          230000,
          107000,
          138000,
          123000,
          285000,
          163500,
          136500,
          197900,
          244000,
          266000,
          260000,
          115000,
          138000,
          132000,
          158000,
          192000,
          181000,
          109008,
          205000,
          137000,
          118500,
          91000,
          213000,
          137500,
          103200,
          213000,
          155000,
          141000,
          226000,
          139000,
          246578,
          145000,
          225000,
          120000,
          91300,
          225000,
          213000,
          556581,
          280000,
          84900,
          144000,
          217500,
          155000,
          107000,
          311500,
          179900,
          109008,
          64500,
          134000,
          144000,
          103200,
          75000,
          187500,
          253293,
          253293,
          144000,
          128950,
          217500,
          369900,
          310000,
          169000,
          153900,
          119500,
          217500,
          253293,
          175000,
          210000,
          134500,
          68500,
          133000,
          213000,
          317000,
          244000,
          138000,
          187100,
          110000,
          210000,
          141000,
          305000,
          260000,
          213500,
          140000,
          226000,
          213000,
          68500,
          144500
         ]
        },
        {
         "marker": {
          "opacity": 0.5,
          "size": 8
         },
         "mode": "markers",
         "name": "RandomForestRegressor",
         "type": "scatter",
         "x": [
          154500,
          325000,
          115000,
          159000,
          315500,
          75500,
          311500,
          146000,
          84500,
          135500,
          145000,
          130000,
          81000,
          214000,
          181000,
          134500,
          183500,
          135000,
          118400,
          226000,
          155000,
          210000,
          173500,
          129000,
          192000,
          153900,
          181134,
          141000,
          181000,
          208900,
          127000,
          284000,
          200500,
          135750,
          255000,
          140000,
          138000,
          219500,
          310000,
          97000,
          114500,
          205000,
          119500,
          253293,
          128500,
          117500,
          115000,
          127000,
          451950,
          144000,
          119000,
          196000,
          115000,
          287000,
          144500,
          260000,
          213000,
          175000,
          107000,
          107500,
          68500,
          154000,
          317000,
          264132,
          283463,
          243000,
          109000,
          305000,
          93500,
          176000,
          118858,
          134000,
          109008,
          93500,
          611657,
          173000,
          348000,
          341000,
          141000,
          124900,
          118000,
          67000,
          113000,
          91300,
          149500,
          133000,
          266000,
          190000,
          155900,
          155835,
          153500,
          152000,
          124500,
          301000,
          136500,
          169990,
          205000,
          183900,
          204900,
          260000,
          163500,
          224900,
          244000,
          132000,
          194000,
          156500,
          156000,
          275000,
          145000,
          135000,
          60000,
          124000,
          127000,
          137500,
          213500,
          119000,
          107900,
          123000,
          112000,
          284000,
          133000,
          149000,
          169000,
          207000,
          175000,
          137000,
          236000,
          79500,
          144000,
          162900,
          185900,
          369900,
          197900,
          104000,
          35311,
          337500,
          367294,
          130250,
          230000,
          755000,
          403000,
          132000,
          178000,
          136500,
          145000,
          123000,
          250000,
          187100,
          133900,
          67000,
          137500,
          155000,
          200624,
          154300,
          91000,
          136000,
          108959,
          140000,
          86000,
          131400,
          179900,
          144000,
          293077,
          144500,
          118500,
          141000,
          239000,
          276000,
          556581,
          244400,
          360000,
          103200,
          102000,
          151000,
          285000,
          134432,
          113000,
          187500,
          125500,
          177500,
          179900,
          55993,
          132500,
          135000,
          255000,
          140000,
          271000,
          246578,
          202500,
          75000,
          122500,
          108480,
          160000,
          171000,
          196000,
          225000,
          197000,
          40000,
          172500,
          154900,
          280000,
          175000,
          147000,
          315000,
          185000,
          135500,
          239500,
          139000,
          140000,
          110000,
          225000,
          143500,
          128950,
          172500,
          241500,
          262500,
          194201,
          143000,
          130000,
          126000,
          142500,
          254000,
          217500,
          66500,
          201000,
          155000,
          68400,
          64500,
          173000,
          102776,
          84900,
          165600,
          120000,
          135000,
          220000,
          153575,
          195400,
          147000,
          277000,
          143000,
          105900,
          242000,
          194500,
          438780,
          185000,
          107500,
          165000,
          176000,
          129900,
          115000,
          192140,
          160000,
          145000,
          86000,
          158000,
          127500,
          115000,
          119500,
          175900,
          240000,
          395000,
          165000,
          128200,
          275000,
          311872,
          214000,
          153500,
          144000,
          115000,
          180000,
          465000,
          180000,
          253000,
          85000,
          101800,
          148500,
          137500,
          318061,
          143000,
          140000,
          192500,
          92000,
          197000,
          109500,
          297000,
          185750,
          230000,
          89471,
          260000,
          189000,
          108000,
          124500
         ],
         "y": [
          130123.2,
          315598.6,
          107354.41,
          135151.69,
          319868.23,
          87038.59,
          188091.5,
          161595.88,
          90256.86,
          139300.48,
          139660.27,
          128671.51,
          124699.27,
          203823.36,
          186351.23,
          131606.45,
          201766.76,
          130661.55,
          118949.44,
          204190.94,
          157750,
          205239.25,
          198331.85,
          127157.57,
          193566.9,
          177406.89,
          185665.75,
          123499.78,
          175846.45,
          200979.66,
          135090.8,
          313008.51,
          139194.6,
          129564.02,
          286123.27,
          142870.15,
          135583.65,
          204097.49,
          216525.21,
          87264.24,
          133409.77,
          230025.75,
          128102.73,
          353785.27,
          130757.27,
          119711.75,
          128026.69,
          134000.09,
          396243.14,
          131796.59,
          124276.3,
          203047.14,
          154989.21,
          217676.62,
          187286.66,
          204864.92,
          206725.5,
          166978,
          131717.46,
          113181.86,
          91985.98,
          146050.78,
          313095.13,
          264394.04,
          322965.84,
          160607.9,
          113969.51,
          312996,
          114879.37,
          179339.54,
          113439.25,
          132082.24,
          131480.73,
          88466.31,
          336741.46,
          189809.11,
          318944.7,
          347087.56,
          131655.01,
          130538.33,
          128969.43,
          79839.73,
          133685.5,
          108444.92,
          150749,
          131833.07,
          279924.45,
          211931.74,
          168515,
          214106.66,
          121612.67,
          159620.95,
          131777.26,
          216345.08,
          109582.22,
          221560.46,
          139208.32,
          197386.54,
          212216.68,
          230416.23,
          190920.92,
          220588.13,
          216383.24,
          123494.66,
          182938.9,
          152442.72,
          141888.26,
          226729.76,
          164442.64,
          207797.82,
          94818.73,
          126042.33,
          132237.91,
          109065.9,
          204061.84,
          132214.01,
          110148.27,
          124906.15,
          129328.14,
          285621.87,
          160194.5,
          180098.05,
          178491.59,
          140015.68,
          188194.9,
          129468.37,
          210128.08,
          116812.06,
          170706.4,
          176406.8,
          202868.25,
          345779.07,
          189020.05,
          93574.28,
          96519.35,
          339575.38,
          322139.45,
          139308.08,
          228956.74,
          420831.77,
          320364.66,
          129698.52,
          178362.21,
          139283.97,
          127276.92,
          132550.58,
          176463.9,
          212126.58,
          131859.43,
          95600.45,
          111126.57,
          170156.4,
          216557.51,
          132719.04,
          91871.64,
          127440.53,
          121495.41,
          152357.01,
          99506.93,
          126977,
          195090.21,
          124648.35,
          350391.35,
          159130.79,
          122606.24,
          115673.14,
          217385.64,
          336723.68,
          399807.78,
          164524.8,
          319347.91,
          95559.17,
          95064.05,
          168882.25,
          247474.47,
          115277.64,
          130592.49,
          203748.56,
          129121.56,
          178433,
          190055.54,
          108332.38,
          132865.49,
          149857.32,
          278968.32,
          157698.17,
          349025.09,
          338159.65,
          326104.73,
          118867.74,
          133483.59,
          121301.21,
          141147.39,
          190198.91,
          214617.6,
          142120.83,
          184093.43,
          93149.1,
          193591,
          127418,
          214351.36,
          173319.18,
          114906.7,
          332480.41,
          210644.24,
          155626.43,
          214714.4,
          132891.96,
          138538.88,
          133941.91,
          216615.38,
          163753,
          111891.85,
          174722.99,
          200677.04,
          272865.45,
          221421.19,
          138836.68,
          144158.57,
          122621.83,
          136541.08,
          204016.3,
          190246.64,
          119115.46,
          221199.9,
          132480.43,
          123985.92,
          108819.65,
          168146.24,
          122161.42,
          108146.19,
          176704.12,
          139619.58,
          132376.91,
          218278.59,
          137286.42,
          257307.39,
          178303.74,
          233802.52,
          145884.8,
          123289.97,
          237581.28,
          202158.24,
          499272.31,
          212344.11,
          90713.74,
          203245.17,
          175539.96,
          176255.48,
          121483.14,
          216908.63,
          176314.59,
          126127.56,
          79268.03,
          154993.57,
          180424.58,
          92819.06,
          124006.31,
          196439.7,
          273402.72,
          302361.29,
          190426.26,
          130556.88,
          188446.62,
          316812.18,
          249257.6,
          185204,
          177973.34,
          128177.22,
          182749.06,
          321008.14,
          198577.67,
          208972.72,
          126484.05,
          82427.59,
          127168.18,
          199659.92,
          294071.69,
          223715.79,
          132072.56,
          206744.52,
          114544.76,
          207641.32,
          127868.9,
          328669.37,
          221882.7,
          200631.95,
          137197.84,
          240695.82,
          198185.93,
          82881.5,
          126906.56
         ]
        },
        {
         "marker": {
          "opacity": 0.5,
          "size": 8
         },
         "mode": "markers",
         "name": "SVR",
         "type": "scatter",
         "x": [
          154500,
          325000,
          115000,
          159000,
          315500,
          75500,
          311500,
          146000,
          84500,
          135500,
          145000,
          130000,
          81000,
          214000,
          181000,
          134500,
          183500,
          135000,
          118400,
          226000,
          155000,
          210000,
          173500,
          129000,
          192000,
          153900,
          181134,
          141000,
          181000,
          208900,
          127000,
          284000,
          200500,
          135750,
          255000,
          140000,
          138000,
          219500,
          310000,
          97000,
          114500,
          205000,
          119500,
          253293,
          128500,
          117500,
          115000,
          127000,
          451950,
          144000,
          119000,
          196000,
          115000,
          287000,
          144500,
          260000,
          213000,
          175000,
          107000,
          107500,
          68500,
          154000,
          317000,
          264132,
          283463,
          243000,
          109000,
          305000,
          93500,
          176000,
          118858,
          134000,
          109008,
          93500,
          611657,
          173000,
          348000,
          341000,
          141000,
          124900,
          118000,
          67000,
          113000,
          91300,
          149500,
          133000,
          266000,
          190000,
          155900,
          155835,
          153500,
          152000,
          124500,
          301000,
          136500,
          169990,
          205000,
          183900,
          204900,
          260000,
          163500,
          224900,
          244000,
          132000,
          194000,
          156500,
          156000,
          275000,
          145000,
          135000,
          60000,
          124000,
          127000,
          137500,
          213500,
          119000,
          107900,
          123000,
          112000,
          284000,
          133000,
          149000,
          169000,
          207000,
          175000,
          137000,
          236000,
          79500,
          144000,
          162900,
          185900,
          369900,
          197900,
          104000,
          35311,
          337500,
          367294,
          130250,
          230000,
          755000,
          403000,
          132000,
          178000,
          136500,
          145000,
          123000,
          250000,
          187100,
          133900,
          67000,
          137500,
          155000,
          200624,
          154300,
          91000,
          136000,
          108959,
          140000,
          86000,
          131400,
          179900,
          144000,
          293077,
          144500,
          118500,
          141000,
          239000,
          276000,
          556581,
          244400,
          360000,
          103200,
          102000,
          151000,
          285000,
          134432,
          113000,
          187500,
          125500,
          177500,
          179900,
          55993,
          132500,
          135000,
          255000,
          140000,
          271000,
          246578,
          202500,
          75000,
          122500,
          108480,
          160000,
          171000,
          196000,
          225000,
          197000,
          40000,
          172500,
          154900,
          280000,
          175000,
          147000,
          315000,
          185000,
          135500,
          239500,
          139000,
          140000,
          110000,
          225000,
          143500,
          128950,
          172500,
          241500,
          262500,
          194201,
          143000,
          130000,
          126000,
          142500,
          254000,
          217500,
          66500,
          201000,
          155000,
          68400,
          64500,
          173000,
          102776,
          84900,
          165600,
          120000,
          135000,
          220000,
          153575,
          195400,
          147000,
          277000,
          143000,
          105900,
          242000,
          194500,
          438780,
          185000,
          107500,
          165000,
          176000,
          129900,
          115000,
          192140,
          160000,
          145000,
          86000,
          158000,
          127500,
          115000,
          119500,
          175900,
          240000,
          395000,
          165000,
          128200,
          275000,
          311872,
          214000,
          153500,
          144000,
          115000,
          180000,
          465000,
          180000,
          253000,
          85000,
          101800,
          148500,
          137500,
          318061,
          143000,
          140000,
          192500,
          92000,
          197000,
          109500,
          297000,
          185750,
          230000,
          89471,
          260000,
          189000,
          108000,
          124500
         ],
         "y": [
          154298.7965611516,
          154318.63992438637,
          154295.89504851945,
          154299.8061114702,
          154315.19781064676,
          154297.90209564395,
          154307.943007645,
          154300.64627847215,
          154297.9697145739,
          154299.19070222753,
          154298.8615675144,
          154297.5410227949,
          154299.6691331979,
          154317.19629903385,
          154313.58093844482,
          154299.06635192293,
          154317.32350145353,
          154299.27218186957,
          154296.85609980053,
          154318.99921639537,
          154301.10950962937,
          154315.19107922664,
          154314.30965404533,
          154296.85540799762,
          154316.93881965295,
          154310.78024278124,
          154316.85033914764,
          154297.70157067847,
          154312.88662335792,
          154310.10731285237,
          154299.10696045688,
          154320.23841998566,
          154299.34694338482,
          154295.15903230922,
          154321.3024354195,
          154300.74252237796,
          154297.70209326787,
          154316.55454441492,
          154313.97168063486,
          154297.3406310843,
          154297.6011995764,
          154315.7903904628,
          154295.77298819443,
          154317.85224704162,
          154297.5036837102,
          154298.7600473875,
          154296.84533339352,
          154296.1712759144,
          154304.40834583406,
          154298.75816941407,
          154295.07954709075,
          154304.3723291887,
          154300.47386612484,
          154299.95980879504,
          154306.55388254137,
          154317.33029904746,
          154315.13471523338,
          154307.39357644538,
          154298.88666386207,
          154499.22615134178,
          154500.26235018793,
          154500.27259820537,
          154520.6383522629,
          154518.92935108504,
          154515.83143282015,
          154502.89490157116,
          154493.50795215563,
          154520.54088110133,
          154500.18077571952,
          154506.3415542771,
          154499.52155738312,
          154499.224754591,
          154494.81744603213,
          154499.4161333548,
          154517.11884085034,
          154508.15744690422,
          154521.68630750832,
          154509.454094803,
          154497.2582597727,
          154496.66231813727,
          154499.93241467726,
          154500.27737991224,
          154500.27655906894,
          154495.76943016305,
          154504.8615984661,
          154498.49510878144,
          154517.65190542353,
          154508.01932229046,
          154512.3708442543,
          154519.29915548122,
          154499.41615732457,
          154500.46367977382,
          154499.9191366565,
          154508.21872233393,
          154497.98686240378,
          154512.7362031264,
          154501.75487298588,
          154502.37234719322,
          154516.88243745136,
          154513.82341786302,
          154502.63906702452,
          154521.43524718238,
          154509.39034702702,
          154497.9786208148,
          154503.71368346392,
          154501.6188307026,
          154500.99526678992,
          154509.9030463327,
          154506.5739567151,
          154504.19357918223,
          154500.15416578655,
          154499.87529517768,
          154498.94237113587,
          154496.98316141998,
          154520.5663090459,
          154498.07019170802,
          154493.87049583974,
          154496.05571633764,
          154701.19223097924,
          154721.540160196,
          154704.08860714297,
          154715.0977308222,
          154714.14283530755,
          154702.2100551815,
          154710.41712494814,
          154699.24254340224,
          154720.6385375741,
          154701.19352145036,
          154710.72107991073,
          154709.6413679654,
          154720.23990572483,
          154720.27981927627,
          154717.29499724522,
          154700.7049529369,
          154694.3720795958,
          154714.26335114264,
          154715.4134139079,
          154700.55472237722,
          154719.95049449193,
          154705.49782259463,
          154720.84447924743,
          154698.4276458879,
          154714.34711995616,
          154701.95019144216,
          154701.767005507,
          154701.69523595154,
          154705.62129096387,
          154715.93893258058,
          154701.4763151855,
          154699.2191326537,
          154699.2533590963,
          154705.23736438475,
          154703.7047312972,
          154701.74594386222,
          154698.29041796218,
          154702.84605407328,
          154701.99269787676,
          154701.89019377442,
          154698.33036352193,
          154700.46894350066,
          154717.462667245,
          154700.2103809034,
          154718.63934999658,
          154702.50713580212,
          154695.2633619702,
          154701.35840969192,
          154713.89707000405,
          154716.44530148312,
          154714.5243379633,
          154704.49092426844,
          154721.5529837471,
          154697.35822511368,
          154700.62416302515,
          154702.33535861902,
          154719.04790941658,
          154701.76150774595,
          153943.17974093676,
          153955.97418045066,
          153941.36232731375,
          153952.39135662297,
          153948.14633876196,
          153943.24527515355,
          153943.6129301648,
          153942.45996159143,
          153966.1185865716,
          153942.89643943598,
          153958.84636349662,
          153963.06493072264,
          153961.46400966452,
          153941.70205062474,
          153942.98301591474,
          153939.9232620677,
          153944.51814102064,
          153943.60901667087,
          153959.25409191274,
          153946.95495307026,
          153952.57000616138,
          153942.55619165866,
          153953.05738955937,
          153942.3953799507,
          153945.40746407388,
          153951.965096029,
          153940.95248619435,
          153965.6155398496,
          153961.85387888626,
          153947.30371110092,
          153965.0930163571,
          153942.98176663686,
          153944.12268726187,
          153942.16734085238,
          153958.91315130552,
          153948.58192289024,
          153940.7991509548,
          153949.0490325441,
          153944.27858622017,
          153961.71973007408,
          153957.1243814166,
          153945.01639435822,
          153944.0737953882,
          153943.49882417897,
          153944.28411589126,
          153958.09413902432,
          153952.35101148087,
          153938.01556417756,
          153959.57138466247,
          153942.43090758278,
          153940.6436475837,
          153938.46556337105,
          153948.37774154457,
          153942.98673580133,
          153941.31819046306,
          153958.08377332074,
          153944.00583851087,
          153944.40086515655,
          153711.89003254197,
          153693.38215372738,
          153713.19331854457,
          153701.28429047047,
          153705.46088017197,
          153696.86244594617,
          153692.63529108738,
          153693.8033372919,
          153693.35677640673,
          153703.68445425134,
          153702.46297673642,
          153691.80054118205,
          153695.62612652482,
          153701.1705396944,
          153696.26570345662,
          153690.06565853197,
          153699.48120438115,
          153706.79125830415,
          153691.8945047228,
          153689.3770075631,
          153694.85195923684,
          153696.32741561637,
          153688.1441468743,
          153693.32520338162,
          153710.37969270087,
          153717.31051656418,
          153713.41322899354,
          153699.7268598176,
          153692.39457232034,
          153702.84406729805,
          153707.93879175163,
          153710.0236343944,
          153700.44397465824,
          153707.3488775488,
          153691.83134326368,
          153705.797891684,
          153710.6538988806,
          153703.33896259224,
          153716.16021567167,
          153692.79758302934,
          153692.0045482828,
          153691.72580959916,
          153704.04904550937,
          153708.3375433824,
          153694.9754008945,
          153692.20556886058,
          153714.749990038,
          153691.53218218658,
          153708.55683542427,
          153692.64397288524,
          153715.28779245724,
          153697.37069353744,
          153714.6083854424,
          153692.7647881802,
          153706.60472460548,
          153706.12692610838,
          153692.091045529,
          153690.74013227198
         ]
        },
        {
         "marker": {
          "opacity": 0.5,
          "size": 8
         },
         "mode": "markers",
         "name": "MLPRegressor",
         "type": "scatter",
         "x": [
          154500,
          325000,
          115000,
          159000,
          315500,
          75500,
          311500,
          146000,
          84500,
          135500,
          145000,
          130000,
          81000,
          214000,
          181000,
          134500,
          183500,
          135000,
          118400,
          226000,
          155000,
          210000,
          173500,
          129000,
          192000,
          153900,
          181134,
          141000,
          181000,
          208900,
          127000,
          284000,
          200500,
          135750,
          255000,
          140000,
          138000,
          219500,
          310000,
          97000,
          114500,
          205000,
          119500,
          253293,
          128500,
          117500,
          115000,
          127000,
          451950,
          144000,
          119000,
          196000,
          115000,
          287000,
          144500,
          260000,
          213000,
          175000,
          107000,
          107500,
          68500,
          154000,
          317000,
          264132,
          283463,
          243000,
          109000,
          305000,
          93500,
          176000,
          118858,
          134000,
          109008,
          93500,
          611657,
          173000,
          348000,
          341000,
          141000,
          124900,
          118000,
          67000,
          113000,
          91300,
          149500,
          133000,
          266000,
          190000,
          155900,
          155835,
          153500,
          152000,
          124500,
          301000,
          136500,
          169990,
          205000,
          183900,
          204900,
          260000,
          163500,
          224900,
          244000,
          132000,
          194000,
          156500,
          156000,
          275000,
          145000,
          135000,
          60000,
          124000,
          127000,
          137500,
          213500,
          119000,
          107900,
          123000,
          112000,
          284000,
          133000,
          149000,
          169000,
          207000,
          175000,
          137000,
          236000,
          79500,
          144000,
          162900,
          185900,
          369900,
          197900,
          104000,
          35311,
          337500,
          367294,
          130250,
          230000,
          755000,
          403000,
          132000,
          178000,
          136500,
          145000,
          123000,
          250000,
          187100,
          133900,
          67000,
          137500,
          155000,
          200624,
          154300,
          91000,
          136000,
          108959,
          140000,
          86000,
          131400,
          179900,
          144000,
          293077,
          144500,
          118500,
          141000,
          239000,
          276000,
          556581,
          244400,
          360000,
          103200,
          102000,
          151000,
          285000,
          134432,
          113000,
          187500,
          125500,
          177500,
          179900,
          55993,
          132500,
          135000,
          255000,
          140000,
          271000,
          246578,
          202500,
          75000,
          122500,
          108480,
          160000,
          171000,
          196000,
          225000,
          197000,
          40000,
          172500,
          154900,
          280000,
          175000,
          147000,
          315000,
          185000,
          135500,
          239500,
          139000,
          140000,
          110000,
          225000,
          143500,
          128950,
          172500,
          241500,
          262500,
          194201,
          143000,
          130000,
          126000,
          142500,
          254000,
          217500,
          66500,
          201000,
          155000,
          68400,
          64500,
          173000,
          102776,
          84900,
          165600,
          120000,
          135000,
          220000,
          153575,
          195400,
          147000,
          277000,
          143000,
          105900,
          242000,
          194500,
          438780,
          185000,
          107500,
          165000,
          176000,
          129900,
          115000,
          192140,
          160000,
          145000,
          86000,
          158000,
          127500,
          115000,
          119500,
          175900,
          240000,
          395000,
          165000,
          128200,
          275000,
          311872,
          214000,
          153500,
          144000,
          115000,
          180000,
          465000,
          180000,
          253000,
          85000,
          101800,
          148500,
          137500,
          318061,
          143000,
          140000,
          192500,
          92000,
          197000,
          109500,
          297000,
          185750,
          230000,
          89471,
          260000,
          189000,
          108000,
          124500
         ],
         "y": [
          65.17948797850873,
          306.3293367136871,
          66.75194906679165,
          56.35624076601953,
          411.72964257030156,
          79.9974744205444,
          34.971517181646426,
          42.621485980355374,
          61.502228662690065,
          46.77483653799283,
          49.62922230850566,
          5.035877107395248,
          11.629808255934448,
          35.28002268680097,
          14.356714562737762,
          27.04304793204012,
          32.08266252102666,
          0.8611368547125504,
          115.02691139236133,
          89.42353365450163,
          58.882906414999916,
          30.793958025191774,
          53.197703973924085,
          39.126863275450255,
          68.76472903007534,
          161.4830118191882,
          129.31981489207422,
          27.95366624702823,
          8.219734220736099,
          94.31417545326964,
          223.91531480005193,
          85.30037460505329,
          191.1649629258449,
          32.254793091443474,
          36.686774470650924,
          60.319358492243374,
          71.75325673477415,
          40.64157878987803,
          190.31560856720728,
          166.21000368729415,
          4.776695324643882,
          136.66438331866954,
          31.804845198253137,
          205.87577981381037,
          63.833438167437706,
          37.55218317361541,
          42.190039692478486,
          48.37879939345982,
          148.67104332436034,
          6.237464660796627,
          31.97504912024606,
          322.33605613283896,
          40.074847195062915,
          508.06755161301095,
          118.84329093811719,
          120.83174931366163,
          252.91898304365515,
          10.582402080127366,
          139.75990697057114,
          94.35661825233547,
          91.98095828557905,
          59.37964237477163,
          181.4559219940745,
          94.03822632246138,
          496.9130411311666,
          26.4149939670019,
          46.65099819116816,
          448.4601173158313,
          31.001260407946496,
          135.50013596351138,
          412.0863225788914,
          62.60025667648916,
          68.510208312666,
          143.9208370165957,
          420.95059840649543,
          304.10142274715605,
          320.50756263046065,
          408.55398391780153,
          125.103380732028,
          37.11514626602252,
          35.80327671217355,
          28.350529213874704,
          109.35686583076598,
          26.34735133528232,
          88.27134226537815,
          31.067374044866618,
          99.5307246452498,
          370.8342481687953,
          136.7269876513474,
          134.92024432375217,
          24.966553060150737,
          81.46408108885285,
          119.43703112716744,
          197.18514640078516,
          78.56527806380497,
          153.2801016981201,
          16.436617689924926,
          70.01321712002013,
          122.57541714264363,
          213.42467708674687,
          62.53121950302296,
          200.73218355359327,
          200.6650790622672,
          1.6195370825811062,
          29.804779199794297,
          115.83373303805308,
          85.3086197492783,
          411.2190798123521,
          78.22041273698747,
          215.1187743050961,
          28.45922090446866,
          190.6657567375984,
          35.47833433406169,
          110.61132349602087,
          156.58844372967505,
          17.565510344302616,
          36.24134878325515,
          19.03015860696236,
          99.05994257924343,
          243.27166238518896,
          56.335002619696915,
          171.05514596406894,
          160.97323123569126,
          120.8573431843503,
          215.14878677046084,
          78.38313667930441,
          85.98959813952777,
          162.29648624809033,
          50.94182630396649,
          21.910354006998055,
          170.54367682762597,
          450.24660152958376,
          59.35995282513129,
          12.60872454191283,
          101.51226621244655,
          197.62700432037292,
          258.80590833811243,
          90.35596488522765,
          131.52432455723763,
          418.6551355542301,
          198.86784049338715,
          45.39207616017425,
          261.86695100850835,
          51.43441638512378,
          34.077124236891024,
          18.78581724648702,
          170.52813277339172,
          27.2746444379287,
          63.329833304205444,
          10.523706648494649,
          33.209535634502714,
          33.437407968651,
          94.74472427675323,
          30.84813639901533,
          11.835022745545334,
          7.380865486984069,
          122.19214572831561,
          68.11270748360474,
          27.92151168165791,
          9.022565677862918,
          67.18058523083924,
          36.736681087077905,
          567.9370702764571,
          42.01754023272483,
          84.9273121506233,
          27.912922150142727,
          139.21642134428797,
          141.7892209721976,
          240.9203655308202,
          159.54092980305288,
          250.94979883252435,
          55.63718942516033,
          12.768213150422534,
          114.94197129473085,
          210.07284324529584,
          208.86583216786232,
          7.125904359054559,
          112.29359640655295,
          4.842692663509676,
          21.515958663867067,
          108.52553757997427,
          41.40588783669456,
          27.419356819721507,
          82.28537536620635,
          188.052299655193,
          143.80965444301296,
          204.90324235612687,
          202.0076904325098,
          155.22055629422178,
          80.65604909786408,
          11.447940134682895,
          15.456783631142615,
          37.73755637517376,
          3.703541647136749,
          78.12558660482641,
          54.64826832026675,
          62.16622460813619,
          53.02895852797366,
          53.66795588545662,
          41.847464038340746,
          767.1694326353962,
          134.93565249486753,
          9.500664051145185,
          357.98777739522063,
          139.04164236075312,
          31.42928954106167,
          269.1389625036819,
          8.361415679316538,
          38.86672601300975,
          12.515303925709867,
          238.10377491418242,
          27.05252147872153,
          55.0761424231257,
          22.44218113560535,
          141.00506470770782,
          89.98244331340038,
          204.32105137656058,
          132.97030143935777,
          133.03166939207586,
          218.92011824656785,
          72.6693031878385,
          103.62177944908298,
          94.63615871563178,
          14.652743042334388,
          324.10644209733,
          15.003874694019613,
          18.89061078237792,
          54.70139040632899,
          39.657768370005286,
          33.85569767142407,
          122.83935277195668,
          40.110515642608846,
          16.449527747708682,
          12.653244865294022,
          371.0737640922116,
          13.258413222046762,
          105.1588873384213,
          163.2311470942136,
          416.71610424399074,
          100.6933543303681,
          18.965300887658305,
          77.04843062778286,
          6.325789242162793,
          194.8059672014139,
          129.7916664194517,
          148.32449410437314,
          122.5066963119034,
          229.86610429396367,
          59.59272061874911,
          75.93573035454921,
          1.7426001516397145,
          56.16367475610584,
          197.35772171742482,
          13.411638030971043,
          65.96235924026348,
          16.329600489998015,
          66.56871607269937,
          52.97144687833648,
          98.63530267312058,
          205.81246240193573,
          184.16834153020827,
          80.90709752018132,
          47.246953799676284,
          356.0569448655118,
          194.63806309603294,
          29.234165085880694,
          2.6803032350736338,
          50.62833054303354,
          68.88620581638419,
          14.301666809589575,
          330.17653195875073,
          258.67386890852987,
          172.91913108151218,
          136.80339043254537,
          188.02961605118938,
          31.898395639301143,
          11.866347037041605,
          135.1773996710989,
          337.57064887407824,
          155.09111796393947,
          134.48676470280841,
          99.32089799000856,
          29.976129300656087,
          33.40185701734019,
          269.8545935747073,
          55.54268269400585,
          153.31205862983217,
          53.48362811229633,
          245.71325060735916,
          138.31434510748326,
          35.820343666824954,
          36.295130147527594
         ]
        },
        {
         "marker": {
          "opacity": 0.5,
          "size": 8
         },
         "mode": "markers",
         "name": "XGBRegressor",
         "type": "scatter",
         "x": [
          154500,
          325000,
          115000,
          159000,
          315500,
          75500,
          311500,
          146000,
          84500,
          135500,
          145000,
          130000,
          81000,
          214000,
          181000,
          134500,
          183500,
          135000,
          118400,
          226000,
          155000,
          210000,
          173500,
          129000,
          192000,
          153900,
          181134,
          141000,
          181000,
          208900,
          127000,
          284000,
          200500,
          135750,
          255000,
          140000,
          138000,
          219500,
          310000,
          97000,
          114500,
          205000,
          119500,
          253293,
          128500,
          117500,
          115000,
          127000,
          451950,
          144000,
          119000,
          196000,
          115000,
          287000,
          144500,
          260000,
          213000,
          175000,
          107000,
          107500,
          68500,
          154000,
          317000,
          264132,
          283463,
          243000,
          109000,
          305000,
          93500,
          176000,
          118858,
          134000,
          109008,
          93500,
          611657,
          173000,
          348000,
          341000,
          141000,
          124900,
          118000,
          67000,
          113000,
          91300,
          149500,
          133000,
          266000,
          190000,
          155900,
          155835,
          153500,
          152000,
          124500,
          301000,
          136500,
          169990,
          205000,
          183900,
          204900,
          260000,
          163500,
          224900,
          244000,
          132000,
          194000,
          156500,
          156000,
          275000,
          145000,
          135000,
          60000,
          124000,
          127000,
          137500,
          213500,
          119000,
          107900,
          123000,
          112000,
          284000,
          133000,
          149000,
          169000,
          207000,
          175000,
          137000,
          236000,
          79500,
          144000,
          162900,
          185900,
          369900,
          197900,
          104000,
          35311,
          337500,
          367294,
          130250,
          230000,
          755000,
          403000,
          132000,
          178000,
          136500,
          145000,
          123000,
          250000,
          187100,
          133900,
          67000,
          137500,
          155000,
          200624,
          154300,
          91000,
          136000,
          108959,
          140000,
          86000,
          131400,
          179900,
          144000,
          293077,
          144500,
          118500,
          141000,
          239000,
          276000,
          556581,
          244400,
          360000,
          103200,
          102000,
          151000,
          285000,
          134432,
          113000,
          187500,
          125500,
          177500,
          179900,
          55993,
          132500,
          135000,
          255000,
          140000,
          271000,
          246578,
          202500,
          75000,
          122500,
          108480,
          160000,
          171000,
          196000,
          225000,
          197000,
          40000,
          172500,
          154900,
          280000,
          175000,
          147000,
          315000,
          185000,
          135500,
          239500,
          139000,
          140000,
          110000,
          225000,
          143500,
          128950,
          172500,
          241500,
          262500,
          194201,
          143000,
          130000,
          126000,
          142500,
          254000,
          217500,
          66500,
          201000,
          155000,
          68400,
          64500,
          173000,
          102776,
          84900,
          165600,
          120000,
          135000,
          220000,
          153575,
          195400,
          147000,
          277000,
          143000,
          105900,
          242000,
          194500,
          438780,
          185000,
          107500,
          165000,
          176000,
          129900,
          115000,
          192140,
          160000,
          145000,
          86000,
          158000,
          127500,
          115000,
          119500,
          175900,
          240000,
          395000,
          165000,
          128200,
          275000,
          311872,
          214000,
          153500,
          144000,
          115000,
          180000,
          465000,
          180000,
          253000,
          85000,
          101800,
          148500,
          137500,
          318061,
          143000,
          140000,
          192500,
          92000,
          197000,
          109500,
          297000,
          185750,
          230000,
          89471,
          260000,
          189000,
          108000,
          124500
         ],
         "y": [
          135064.484375,
          294199.375,
          132012.03125,
          146891.46875,
          297531.9375,
          53856.56640625,
          197598.765625,
          151531.546875,
          50185.66015625,
          130986.3515625,
          136185.234375,
          116375.9921875,
          116366.2109375,
          205898.53125,
          190175.203125,
          134535.953125,
          212769.859375,
          124311.390625,
          126527.6796875,
          212941.109375,
          154956.703125,
          204754,
          205142.484375,
          121581.7109375,
          222953.734375,
          169946.15625,
          181720.71875,
          118912.2265625,
          176045.390625,
          178994.421875,
          121197.03125,
          383445.40625,
          146002.734375,
          127088.90625,
          296688.25,
          144207.34375,
          141047.890625,
          204121.40625,
          243514.515625,
          90069.875,
          140636.828125,
          226387.046875,
          132250.921875,
          339129.6875,
          129349.375,
          134345.640625,
          133822.828125,
          130573.796875,
          351998.75,
          133663.59375,
          129445.2890625,
          165762.234375,
          128588.765625,
          223399.984375,
          184766.75,
          225697.359375,
          211580.015625,
          158024.375,
          136952.53125,
          115906.03125,
          108651.828125,
          144692.96875,
          287825.875,
          237562.28125,
          248347.640625,
          156676.71875,
          120277.1640625,
          292951.75,
          85312.4609375,
          170047.6875,
          119788.9921875,
          136045.203125,
          135152,
          79606.3828125,
          316054.5625,
          189263.5,
          296482.6875,
          367097.28125,
          129555.125,
          126702.9921875,
          142830.59375,
          57851.796875,
          140697.921875,
          105264.7734375,
          144713.40625,
          129353.25,
          276182.0625,
          202829.421875,
          149739.6875,
          197750.90625,
          141320.234375,
          161834.453125,
          118840.4453125,
          230558.0625,
          123023.15625,
          201616.53125,
          144764.0625,
          173210.96875,
          202530.234375,
          247202.421875,
          176058.5,
          213979.234375,
          240420.125,
          126423.2734375,
          192373.140625,
          146986.6875,
          141419.421875,
          225362.65625,
          157035.09375,
          205531.953125,
          102877.796875,
          136289.78125,
          136888.25,
          92690.6796875,
          217201,
          129894.0078125,
          114937.46875,
          128553.8203125,
          129572.2421875,
          329355.03125,
          152124.390625,
          151210.265625,
          193133.15625,
          154683.359375,
          166532.0625,
          137864.03125,
          238573.734375,
          108559.7890625,
          173009.15625,
          201032.25,
          198523.515625,
          327094.6875,
          188773.171875,
          106879.3828125,
          90534.96875,
          307124.71875,
          288357.46875,
          140070.9375,
          205312.625,
          439293.40625,
          347354.40625,
          130014.890625,
          201069.09375,
          169885.59375,
          130143.234375,
          133637.3125,
          215605.921875,
          194138.578125,
          131156.484375,
          82420.9921875,
          105140.375,
          154256.5,
          214182.734375,
          141128.921875,
          90818.7578125,
          134923.5625,
          125169.296875,
          144858.140625,
          95589.34375,
          116907.65625,
          178604.609375,
          146821.65625,
          317009.78125,
          162078.25,
          122098.9140625,
          131358.09375,
          237778.734375,
          309632.09375,
          405959.625,
          203047.578125,
          322621.28125,
          99565.6796875,
          120055.453125,
          158003.234375,
          269115.8125,
          126790.125,
          140629.828125,
          225313.921875,
          125570.765625,
          163793.9375,
          176215.453125,
          104722.734375,
          133650.40625,
          189884.15625,
          290961.09375,
          135020.875,
          372015.53125,
          356865.5625,
          309120.34375,
          100453.453125,
          122462.7890625,
          118179.5546875,
          170453.03125,
          201531.96875,
          205564.671875,
          166310.28125,
          170053.46875,
          121467.09375,
          167010.875,
          169505.625,
          162498.484375,
          166452.703125,
          117302.9140625,
          359437.09375,
          174956.046875,
          150478.4375,
          229112.53125,
          131785.1875,
          140648.296875,
          128564.2421875,
          281769.03125,
          164208.703125,
          124565.4765625,
          163534.015625,
          174381,
          267252.1875,
          208599.265625,
          144084.71875,
          155343.765625,
          128537.3984375,
          144021.140625,
          225603.390625,
          190795.5,
          117983.171875,
          227566.015625,
          144241.34375,
          115998.9609375,
          121380.75,
          169142.953125,
          128200.03125,
          106937.171875,
          195543.859375,
          130867.8359375,
          135447.625,
          223615.8125,
          138790.046875,
          215535.859375,
          165365.65625,
          272840.8125,
          141244.53125,
          119838.984375,
          399371.96875,
          216379.578125,
          537455.625,
          225952.890625,
          103912.5,
          222957.90625,
          170928.359375,
          146008.890625,
          118644.859375,
          211916.65625,
          178281.890625,
          115511.421875,
          84648.7109375,
          149584.046875,
          152479.65625,
          90351.703125,
          121260.4375,
          194921.375,
          241516.3125,
          270062.125,
          171637.234375,
          131354.703125,
          217796.03125,
          320601.3125,
          241891.125,
          180857.53125,
          166642.90625,
          120238.8203125,
          172169.421875,
          237353.703125,
          197060.421875,
          207451.46875,
          94454.2109375,
          86156.9375,
          131110.515625,
          179369.75,
          243420.953125,
          257501.96875,
          142844.703125,
          198149.546875,
          76779.7109375,
          208171.859375,
          122351.5546875,
          361695.15625,
          248275.625,
          206476.5625,
          131272.5,
          258001.484375,
          177046.953125,
          97762.90625,
          123828.0859375
         ]
        },
        {
         "line": {
          "color": "red",
          "dash": "dash"
         },
         "mode": "lines",
         "name": "Best fit line",
         "type": "scatter",
         "x": [
          35311,
          755000
         ],
         "y": [
          35311,
          755000
         ]
        }
       ],
       "layout": {
        "hovermode": "closest",
        "showlegend": true,
        "template": {
         "data": {
          "bar": [
           {
            "error_x": {
             "color": "#2a3f5f"
            },
            "error_y": {
             "color": "#2a3f5f"
            },
            "marker": {
             "line": {
              "color": "#E5ECF6",
              "width": 0.5
             },
             "pattern": {
              "fillmode": "overlay",
              "size": 10,
              "solidity": 0.2
             }
            },
            "type": "bar"
           }
          ],
          "barpolar": [
           {
            "marker": {
             "line": {
              "color": "#E5ECF6",
              "width": 0.5
             },
             "pattern": {
              "fillmode": "overlay",
              "size": 10,
              "solidity": 0.2
             }
            },
            "type": "barpolar"
           }
          ],
          "carpet": [
           {
            "aaxis": {
             "endlinecolor": "#2a3f5f",
             "gridcolor": "white",
             "linecolor": "white",
             "minorgridcolor": "white",
             "startlinecolor": "#2a3f5f"
            },
            "baxis": {
             "endlinecolor": "#2a3f5f",
             "gridcolor": "white",
             "linecolor": "white",
             "minorgridcolor": "white",
             "startlinecolor": "#2a3f5f"
            },
            "type": "carpet"
           }
          ],
          "choropleth": [
           {
            "colorbar": {
             "outlinewidth": 0,
             "ticks": ""
            },
            "type": "choropleth"
           }
          ],
          "contour": [
           {
            "colorbar": {
             "outlinewidth": 0,
             "ticks": ""
            },
            "colorscale": [
             [
              0,
              "#0d0887"
             ],
             [
              0.1111111111111111,
              "#46039f"
             ],
             [
              0.2222222222222222,
              "#7201a8"
             ],
             [
              0.3333333333333333,
              "#9c179e"
             ],
             [
              0.4444444444444444,
              "#bd3786"
             ],
             [
              0.5555555555555556,
              "#d8576b"
             ],
             [
              0.6666666666666666,
              "#ed7953"
             ],
             [
              0.7777777777777778,
              "#fb9f3a"
             ],
             [
              0.8888888888888888,
              "#fdca26"
             ],
             [
              1,
              "#f0f921"
             ]
            ],
            "type": "contour"
           }
          ],
          "contourcarpet": [
           {
            "colorbar": {
             "outlinewidth": 0,
             "ticks": ""
            },
            "type": "contourcarpet"
           }
          ],
          "heatmap": [
           {
            "colorbar": {
             "outlinewidth": 0,
             "ticks": ""
            },
            "colorscale": [
             [
              0,
              "#0d0887"
             ],
             [
              0.1111111111111111,
              "#46039f"
             ],
             [
              0.2222222222222222,
              "#7201a8"
             ],
             [
              0.3333333333333333,
              "#9c179e"
             ],
             [
              0.4444444444444444,
              "#bd3786"
             ],
             [
              0.5555555555555556,
              "#d8576b"
             ],
             [
              0.6666666666666666,
              "#ed7953"
             ],
             [
              0.7777777777777778,
              "#fb9f3a"
             ],
             [
              0.8888888888888888,
              "#fdca26"
             ],
             [
              1,
              "#f0f921"
             ]
            ],
            "type": "heatmap"
           }
          ],
          "heatmapgl": [
           {
            "colorbar": {
             "outlinewidth": 0,
             "ticks": ""
            },
            "colorscale": [
             [
              0,
              "#0d0887"
             ],
             [
              0.1111111111111111,
              "#46039f"
             ],
             [
              0.2222222222222222,
              "#7201a8"
             ],
             [
              0.3333333333333333,
              "#9c179e"
             ],
             [
              0.4444444444444444,
              "#bd3786"
             ],
             [
              0.5555555555555556,
              "#d8576b"
             ],
             [
              0.6666666666666666,
              "#ed7953"
             ],
             [
              0.7777777777777778,
              "#fb9f3a"
             ],
             [
              0.8888888888888888,
              "#fdca26"
             ],
             [
              1,
              "#f0f921"
             ]
            ],
            "type": "heatmapgl"
           }
          ],
          "histogram": [
           {
            "marker": {
             "pattern": {
              "fillmode": "overlay",
              "size": 10,
              "solidity": 0.2
             }
            },
            "type": "histogram"
           }
          ],
          "histogram2d": [
           {
            "colorbar": {
             "outlinewidth": 0,
             "ticks": ""
            },
            "colorscale": [
             [
              0,
              "#0d0887"
             ],
             [
              0.1111111111111111,
              "#46039f"
             ],
             [
              0.2222222222222222,
              "#7201a8"
             ],
             [
              0.3333333333333333,
              "#9c179e"
             ],
             [
              0.4444444444444444,
              "#bd3786"
             ],
             [
              0.5555555555555556,
              "#d8576b"
             ],
             [
              0.6666666666666666,
              "#ed7953"
             ],
             [
              0.7777777777777778,
              "#fb9f3a"
             ],
             [
              0.8888888888888888,
              "#fdca26"
             ],
             [
              1,
              "#f0f921"
             ]
            ],
            "type": "histogram2d"
           }
          ],
          "histogram2dcontour": [
           {
            "colorbar": {
             "outlinewidth": 0,
             "ticks": ""
            },
            "colorscale": [
             [
              0,
              "#0d0887"
             ],
             [
              0.1111111111111111,
              "#46039f"
             ],
             [
              0.2222222222222222,
              "#7201a8"
             ],
             [
              0.3333333333333333,
              "#9c179e"
             ],
             [
              0.4444444444444444,
              "#bd3786"
             ],
             [
              0.5555555555555556,
              "#d8576b"
             ],
             [
              0.6666666666666666,
              "#ed7953"
             ],
             [
              0.7777777777777778,
              "#fb9f3a"
             ],
             [
              0.8888888888888888,
              "#fdca26"
             ],
             [
              1,
              "#f0f921"
             ]
            ],
            "type": "histogram2dcontour"
           }
          ],
          "mesh3d": [
           {
            "colorbar": {
             "outlinewidth": 0,
             "ticks": ""
            },
            "type": "mesh3d"
           }
          ],
          "parcoords": [
           {
            "line": {
             "colorbar": {
              "outlinewidth": 0,
              "ticks": ""
             }
            },
            "type": "parcoords"
           }
          ],
          "pie": [
           {
            "automargin": true,
            "type": "pie"
           }
          ],
          "scatter": [
           {
            "fillpattern": {
             "fillmode": "overlay",
             "size": 10,
             "solidity": 0.2
            },
            "type": "scatter"
           }
          ],
          "scatter3d": [
           {
            "line": {
             "colorbar": {
              "outlinewidth": 0,
              "ticks": ""
             }
            },
            "marker": {
             "colorbar": {
              "outlinewidth": 0,
              "ticks": ""
             }
            },
            "type": "scatter3d"
           }
          ],
          "scattercarpet": [
           {
            "marker": {
             "colorbar": {
              "outlinewidth": 0,
              "ticks": ""
             }
            },
            "type": "scattercarpet"
           }
          ],
          "scattergeo": [
           {
            "marker": {
             "colorbar": {
              "outlinewidth": 0,
              "ticks": ""
             }
            },
            "type": "scattergeo"
           }
          ],
          "scattergl": [
           {
            "marker": {
             "colorbar": {
              "outlinewidth": 0,
              "ticks": ""
             }
            },
            "type": "scattergl"
           }
          ],
          "scattermapbox": [
           {
            "marker": {
             "colorbar": {
              "outlinewidth": 0,
              "ticks": ""
             }
            },
            "type": "scattermapbox"
           }
          ],
          "scatterpolar": [
           {
            "marker": {
             "colorbar": {
              "outlinewidth": 0,
              "ticks": ""
             }
            },
            "type": "scatterpolar"
           }
          ],
          "scatterpolargl": [
           {
            "marker": {
             "colorbar": {
              "outlinewidth": 0,
              "ticks": ""
             }
            },
            "type": "scatterpolargl"
           }
          ],
          "scatterternary": [
           {
            "marker": {
             "colorbar": {
              "outlinewidth": 0,
              "ticks": ""
             }
            },
            "type": "scatterternary"
           }
          ],
          "surface": [
           {
            "colorbar": {
             "outlinewidth": 0,
             "ticks": ""
            },
            "colorscale": [
             [
              0,
              "#0d0887"
             ],
             [
              0.1111111111111111,
              "#46039f"
             ],
             [
              0.2222222222222222,
              "#7201a8"
             ],
             [
              0.3333333333333333,
              "#9c179e"
             ],
             [
              0.4444444444444444,
              "#bd3786"
             ],
             [
              0.5555555555555556,
              "#d8576b"
             ],
             [
              0.6666666666666666,
              "#ed7953"
             ],
             [
              0.7777777777777778,
              "#fb9f3a"
             ],
             [
              0.8888888888888888,
              "#fdca26"
             ],
             [
              1,
              "#f0f921"
             ]
            ],
            "type": "surface"
           }
          ],
          "table": [
           {
            "cells": {
             "fill": {
              "color": "#EBF0F8"
             },
             "line": {
              "color": "white"
             }
            },
            "header": {
             "fill": {
              "color": "#C8D4E3"
             },
             "line": {
              "color": "white"
             }
            },
            "type": "table"
           }
          ]
         },
         "layout": {
          "annotationdefaults": {
           "arrowcolor": "#2a3f5f",
           "arrowhead": 0,
           "arrowwidth": 1
          },
          "autotypenumbers": "strict",
          "coloraxis": {
           "colorbar": {
            "outlinewidth": 0,
            "ticks": ""
           }
          },
          "colorscale": {
           "diverging": [
            [
             0,
             "#8e0152"
            ],
            [
             0.1,
             "#c51b7d"
            ],
            [
             0.2,
             "#de77ae"
            ],
            [
             0.3,
             "#f1b6da"
            ],
            [
             0.4,
             "#fde0ef"
            ],
            [
             0.5,
             "#f7f7f7"
            ],
            [
             0.6,
             "#e6f5d0"
            ],
            [
             0.7,
             "#b8e186"
            ],
            [
             0.8,
             "#7fbc41"
            ],
            [
             0.9,
             "#4d9221"
            ],
            [
             1,
             "#276419"
            ]
           ],
           "sequential": [
            [
             0,
             "#0d0887"
            ],
            [
             0.1111111111111111,
             "#46039f"
            ],
            [
             0.2222222222222222,
             "#7201a8"
            ],
            [
             0.3333333333333333,
             "#9c179e"
            ],
            [
             0.4444444444444444,
             "#bd3786"
            ],
            [
             0.5555555555555556,
             "#d8576b"
            ],
            [
             0.6666666666666666,
             "#ed7953"
            ],
            [
             0.7777777777777778,
             "#fb9f3a"
            ],
            [
             0.8888888888888888,
             "#fdca26"
            ],
            [
             1,
             "#f0f921"
            ]
           ],
           "sequentialminus": [
            [
             0,
             "#0d0887"
            ],
            [
             0.1111111111111111,
             "#46039f"
            ],
            [
             0.2222222222222222,
             "#7201a8"
            ],
            [
             0.3333333333333333,
             "#9c179e"
            ],
            [
             0.4444444444444444,
             "#bd3786"
            ],
            [
             0.5555555555555556,
             "#d8576b"
            ],
            [
             0.6666666666666666,
             "#ed7953"
            ],
            [
             0.7777777777777778,
             "#fb9f3a"
            ],
            [
             0.8888888888888888,
             "#fdca26"
            ],
            [
             1,
             "#f0f921"
            ]
           ]
          },
          "colorway": [
           "#636efa",
           "#EF553B",
           "#00cc96",
           "#ab63fa",
           "#FFA15A",
           "#19d3f3",
           "#FF6692",
           "#B6E880",
           "#FF97FF",
           "#FECB52"
          ],
          "font": {
           "color": "#2a3f5f"
          },
          "geo": {
           "bgcolor": "white",
           "lakecolor": "white",
           "landcolor": "#E5ECF6",
           "showlakes": true,
           "showland": true,
           "subunitcolor": "white"
          },
          "hoverlabel": {
           "align": "left"
          },
          "hovermode": "closest",
          "mapbox": {
           "style": "light"
          },
          "paper_bgcolor": "white",
          "plot_bgcolor": "#E5ECF6",
          "polar": {
           "angularaxis": {
            "gridcolor": "white",
            "linecolor": "white",
            "ticks": ""
           },
           "bgcolor": "#E5ECF6",
           "radialaxis": {
            "gridcolor": "white",
            "linecolor": "white",
            "ticks": ""
           }
          },
          "scene": {
           "xaxis": {
            "backgroundcolor": "#E5ECF6",
            "gridcolor": "white",
            "gridwidth": 2,
            "linecolor": "white",
            "showbackground": true,
            "ticks": "",
            "zerolinecolor": "white"
           },
           "yaxis": {
            "backgroundcolor": "#E5ECF6",
            "gridcolor": "white",
            "gridwidth": 2,
            "linecolor": "white",
            "showbackground": true,
            "ticks": "",
            "zerolinecolor": "white"
           },
           "zaxis": {
            "backgroundcolor": "#E5ECF6",
            "gridcolor": "white",
            "gridwidth": 2,
            "linecolor": "white",
            "showbackground": true,
            "ticks": "",
            "zerolinecolor": "white"
           }
          },
          "shapedefaults": {
           "line": {
            "color": "#2a3f5f"
           }
          },
          "ternary": {
           "aaxis": {
            "gridcolor": "white",
            "linecolor": "white",
            "ticks": ""
           },
           "baxis": {
            "gridcolor": "white",
            "linecolor": "white",
            "ticks": ""
           },
           "bgcolor": "#E5ECF6",
           "caxis": {
            "gridcolor": "white",
            "linecolor": "white",
            "ticks": ""
           }
          },
          "title": {
           "x": 0.05
          },
          "xaxis": {
           "automargin": true,
           "gridcolor": "white",
           "linecolor": "white",
           "ticks": "",
           "title": {
            "standoff": 15
           },
           "zerolinecolor": "white",
           "zerolinewidth": 2
          },
          "yaxis": {
           "automargin": true,
           "gridcolor": "white",
           "linecolor": "white",
           "ticks": "",
           "title": {
            "standoff": 15
           },
           "zerolinecolor": "white",
           "zerolinewidth": 2
          }
         }
        },
        "title": {
         "text": "Model Performance"
        },
        "xaxis": {
         "title": {
          "text": "True Values"
         }
        },
        "yaxis": {
         "title": {
          "text": "Predicted Values"
         }
        }
       }
      }
     },
     "metadata": {},
     "output_type": "display_data"
    }
   ],
   "source": [
    "# Initialize lists to store the predictions\n",
    "predictions = []\n",
    "\n",
    "# Perform cross-validation and collect the predictions for each model\n",
    "for model in models:\n",
    "    y_pred = cross_val_predict(model, X_test, y_test, cv=5)\n",
    "    predictions.append(y_pred)\n",
    "\n",
    "# Plotting the model performance\n",
    "fig = go.Figure()\n",
    "\n",
    "for i, model in enumerate(models):\n",
    "    # Add scatter plot for each model's predicted values\n",
    "    fig.add_trace(go.Scatter(\n",
    "        x=y_test,\n",
    "        y=predictions[i],\n",
    "        mode='markers',\n",
    "        name=type(model).__name__,\n",
    "        marker=dict(size=8, opacity=0.5)\n",
    "    ))\n",
    "\n",
    "# Add a best fit line for each model\n",
    "fig.add_trace(go.Scatter(\n",
    "    x=[y_test.min(), y_test.max()],\n",
    "    y=[y_test.min(), y_test.max()],\n",
    "    mode='lines',\n",
    "    name='Best fit line',\n",
    "    line=dict(color='red', dash='dash')\n",
    "))\n",
    "\n",
    "# Customize the layout\n",
    "fig.update_layout(\n",
    "    xaxis=dict(title='True Values'),\n",
    "    yaxis=dict(title='Predicted Values'),\n",
    "    title='Model Performance',\n",
    "    hovermode='closest',\n",
    "    showlegend=True\n",
    ")\n",
    "\n",
    "# Show the interactive plot\n",
    "fig.show()"
   ]
  },
  {
   "attachments": {},
   "cell_type": "markdown",
   "id": "a1b2fb87",
   "metadata": {},
   "source": [
    "### <span style='color:aqua; font-weight:bold;'>Cross-Validation</span> "
   ]
  },
  {
   "cell_type": "code",
   "execution_count": 76,
   "id": "4f3f7685",
   "metadata": {},
   "outputs": [
    {
     "data": {
      "application/vnd.plotly.v1+json": {
       "config": {
        "plotlyServerURL": "https://plot.ly"
       },
       "data": [
        {
         "mode": "lines+markers",
         "name": "LinearRegression",
         "type": "scatter",
         "x": [
          1,
          2,
          3,
          4,
          5,
          6,
          7,
          8,
          9,
          10
         ],
         "y": [
          0.7973340051162151,
          0.7239905444329112,
          0.8140106028378133,
          0.32369301084631374,
          0.16044913098588498,
          -0.04343845825811288,
          0.6560588148437649,
          -0.0630676155268417,
          0.3684011442470875,
          0.8376025994109272
         ]
        }
       ],
       "layout": {
        "height": 250,
        "hovermode": "closest",
        "plot_bgcolor": "white",
        "template": {
         "data": {
          "bar": [
           {
            "error_x": {
             "color": "#2a3f5f"
            },
            "error_y": {
             "color": "#2a3f5f"
            },
            "marker": {
             "line": {
              "color": "#E5ECF6",
              "width": 0.5
             },
             "pattern": {
              "fillmode": "overlay",
              "size": 10,
              "solidity": 0.2
             }
            },
            "type": "bar"
           }
          ],
          "barpolar": [
           {
            "marker": {
             "line": {
              "color": "#E5ECF6",
              "width": 0.5
             },
             "pattern": {
              "fillmode": "overlay",
              "size": 10,
              "solidity": 0.2
             }
            },
            "type": "barpolar"
           }
          ],
          "carpet": [
           {
            "aaxis": {
             "endlinecolor": "#2a3f5f",
             "gridcolor": "white",
             "linecolor": "white",
             "minorgridcolor": "white",
             "startlinecolor": "#2a3f5f"
            },
            "baxis": {
             "endlinecolor": "#2a3f5f",
             "gridcolor": "white",
             "linecolor": "white",
             "minorgridcolor": "white",
             "startlinecolor": "#2a3f5f"
            },
            "type": "carpet"
           }
          ],
          "choropleth": [
           {
            "colorbar": {
             "outlinewidth": 0,
             "ticks": ""
            },
            "type": "choropleth"
           }
          ],
          "contour": [
           {
            "colorbar": {
             "outlinewidth": 0,
             "ticks": ""
            },
            "colorscale": [
             [
              0,
              "#0d0887"
             ],
             [
              0.1111111111111111,
              "#46039f"
             ],
             [
              0.2222222222222222,
              "#7201a8"
             ],
             [
              0.3333333333333333,
              "#9c179e"
             ],
             [
              0.4444444444444444,
              "#bd3786"
             ],
             [
              0.5555555555555556,
              "#d8576b"
             ],
             [
              0.6666666666666666,
              "#ed7953"
             ],
             [
              0.7777777777777778,
              "#fb9f3a"
             ],
             [
              0.8888888888888888,
              "#fdca26"
             ],
             [
              1,
              "#f0f921"
             ]
            ],
            "type": "contour"
           }
          ],
          "contourcarpet": [
           {
            "colorbar": {
             "outlinewidth": 0,
             "ticks": ""
            },
            "type": "contourcarpet"
           }
          ],
          "heatmap": [
           {
            "colorbar": {
             "outlinewidth": 0,
             "ticks": ""
            },
            "colorscale": [
             [
              0,
              "#0d0887"
             ],
             [
              0.1111111111111111,
              "#46039f"
             ],
             [
              0.2222222222222222,
              "#7201a8"
             ],
             [
              0.3333333333333333,
              "#9c179e"
             ],
             [
              0.4444444444444444,
              "#bd3786"
             ],
             [
              0.5555555555555556,
              "#d8576b"
             ],
             [
              0.6666666666666666,
              "#ed7953"
             ],
             [
              0.7777777777777778,
              "#fb9f3a"
             ],
             [
              0.8888888888888888,
              "#fdca26"
             ],
             [
              1,
              "#f0f921"
             ]
            ],
            "type": "heatmap"
           }
          ],
          "heatmapgl": [
           {
            "colorbar": {
             "outlinewidth": 0,
             "ticks": ""
            },
            "colorscale": [
             [
              0,
              "#0d0887"
             ],
             [
              0.1111111111111111,
              "#46039f"
             ],
             [
              0.2222222222222222,
              "#7201a8"
             ],
             [
              0.3333333333333333,
              "#9c179e"
             ],
             [
              0.4444444444444444,
              "#bd3786"
             ],
             [
              0.5555555555555556,
              "#d8576b"
             ],
             [
              0.6666666666666666,
              "#ed7953"
             ],
             [
              0.7777777777777778,
              "#fb9f3a"
             ],
             [
              0.8888888888888888,
              "#fdca26"
             ],
             [
              1,
              "#f0f921"
             ]
            ],
            "type": "heatmapgl"
           }
          ],
          "histogram": [
           {
            "marker": {
             "pattern": {
              "fillmode": "overlay",
              "size": 10,
              "solidity": 0.2
             }
            },
            "type": "histogram"
           }
          ],
          "histogram2d": [
           {
            "colorbar": {
             "outlinewidth": 0,
             "ticks": ""
            },
            "colorscale": [
             [
              0,
              "#0d0887"
             ],
             [
              0.1111111111111111,
              "#46039f"
             ],
             [
              0.2222222222222222,
              "#7201a8"
             ],
             [
              0.3333333333333333,
              "#9c179e"
             ],
             [
              0.4444444444444444,
              "#bd3786"
             ],
             [
              0.5555555555555556,
              "#d8576b"
             ],
             [
              0.6666666666666666,
              "#ed7953"
             ],
             [
              0.7777777777777778,
              "#fb9f3a"
             ],
             [
              0.8888888888888888,
              "#fdca26"
             ],
             [
              1,
              "#f0f921"
             ]
            ],
            "type": "histogram2d"
           }
          ],
          "histogram2dcontour": [
           {
            "colorbar": {
             "outlinewidth": 0,
             "ticks": ""
            },
            "colorscale": [
             [
              0,
              "#0d0887"
             ],
             [
              0.1111111111111111,
              "#46039f"
             ],
             [
              0.2222222222222222,
              "#7201a8"
             ],
             [
              0.3333333333333333,
              "#9c179e"
             ],
             [
              0.4444444444444444,
              "#bd3786"
             ],
             [
              0.5555555555555556,
              "#d8576b"
             ],
             [
              0.6666666666666666,
              "#ed7953"
             ],
             [
              0.7777777777777778,
              "#fb9f3a"
             ],
             [
              0.8888888888888888,
              "#fdca26"
             ],
             [
              1,
              "#f0f921"
             ]
            ],
            "type": "histogram2dcontour"
           }
          ],
          "mesh3d": [
           {
            "colorbar": {
             "outlinewidth": 0,
             "ticks": ""
            },
            "type": "mesh3d"
           }
          ],
          "parcoords": [
           {
            "line": {
             "colorbar": {
              "outlinewidth": 0,
              "ticks": ""
             }
            },
            "type": "parcoords"
           }
          ],
          "pie": [
           {
            "automargin": true,
            "type": "pie"
           }
          ],
          "scatter": [
           {
            "fillpattern": {
             "fillmode": "overlay",
             "size": 10,
             "solidity": 0.2
            },
            "type": "scatter"
           }
          ],
          "scatter3d": [
           {
            "line": {
             "colorbar": {
              "outlinewidth": 0,
              "ticks": ""
             }
            },
            "marker": {
             "colorbar": {
              "outlinewidth": 0,
              "ticks": ""
             }
            },
            "type": "scatter3d"
           }
          ],
          "scattercarpet": [
           {
            "marker": {
             "colorbar": {
              "outlinewidth": 0,
              "ticks": ""
             }
            },
            "type": "scattercarpet"
           }
          ],
          "scattergeo": [
           {
            "marker": {
             "colorbar": {
              "outlinewidth": 0,
              "ticks": ""
             }
            },
            "type": "scattergeo"
           }
          ],
          "scattergl": [
           {
            "marker": {
             "colorbar": {
              "outlinewidth": 0,
              "ticks": ""
             }
            },
            "type": "scattergl"
           }
          ],
          "scattermapbox": [
           {
            "marker": {
             "colorbar": {
              "outlinewidth": 0,
              "ticks": ""
             }
            },
            "type": "scattermapbox"
           }
          ],
          "scatterpolar": [
           {
            "marker": {
             "colorbar": {
              "outlinewidth": 0,
              "ticks": ""
             }
            },
            "type": "scatterpolar"
           }
          ],
          "scatterpolargl": [
           {
            "marker": {
             "colorbar": {
              "outlinewidth": 0,
              "ticks": ""
             }
            },
            "type": "scatterpolargl"
           }
          ],
          "scatterternary": [
           {
            "marker": {
             "colorbar": {
              "outlinewidth": 0,
              "ticks": ""
             }
            },
            "type": "scatterternary"
           }
          ],
          "surface": [
           {
            "colorbar": {
             "outlinewidth": 0,
             "ticks": ""
            },
            "colorscale": [
             [
              0,
              "#0d0887"
             ],
             [
              0.1111111111111111,
              "#46039f"
             ],
             [
              0.2222222222222222,
              "#7201a8"
             ],
             [
              0.3333333333333333,
              "#9c179e"
             ],
             [
              0.4444444444444444,
              "#bd3786"
             ],
             [
              0.5555555555555556,
              "#d8576b"
             ],
             [
              0.6666666666666666,
              "#ed7953"
             ],
             [
              0.7777777777777778,
              "#fb9f3a"
             ],
             [
              0.8888888888888888,
              "#fdca26"
             ],
             [
              1,
              "#f0f921"
             ]
            ],
            "type": "surface"
           }
          ],
          "table": [
           {
            "cells": {
             "fill": {
              "color": "#EBF0F8"
             },
             "line": {
              "color": "white"
             }
            },
            "header": {
             "fill": {
              "color": "#C8D4E3"
             },
             "line": {
              "color": "white"
             }
            },
            "type": "table"
           }
          ]
         },
         "layout": {
          "annotationdefaults": {
           "arrowcolor": "#2a3f5f",
           "arrowhead": 0,
           "arrowwidth": 1
          },
          "autotypenumbers": "strict",
          "coloraxis": {
           "colorbar": {
            "outlinewidth": 0,
            "ticks": ""
           }
          },
          "colorscale": {
           "diverging": [
            [
             0,
             "#8e0152"
            ],
            [
             0.1,
             "#c51b7d"
            ],
            [
             0.2,
             "#de77ae"
            ],
            [
             0.3,
             "#f1b6da"
            ],
            [
             0.4,
             "#fde0ef"
            ],
            [
             0.5,
             "#f7f7f7"
            ],
            [
             0.6,
             "#e6f5d0"
            ],
            [
             0.7,
             "#b8e186"
            ],
            [
             0.8,
             "#7fbc41"
            ],
            [
             0.9,
             "#4d9221"
            ],
            [
             1,
             "#276419"
            ]
           ],
           "sequential": [
            [
             0,
             "#0d0887"
            ],
            [
             0.1111111111111111,
             "#46039f"
            ],
            [
             0.2222222222222222,
             "#7201a8"
            ],
            [
             0.3333333333333333,
             "#9c179e"
            ],
            [
             0.4444444444444444,
             "#bd3786"
            ],
            [
             0.5555555555555556,
             "#d8576b"
            ],
            [
             0.6666666666666666,
             "#ed7953"
            ],
            [
             0.7777777777777778,
             "#fb9f3a"
            ],
            [
             0.8888888888888888,
             "#fdca26"
            ],
            [
             1,
             "#f0f921"
            ]
           ],
           "sequentialminus": [
            [
             0,
             "#0d0887"
            ],
            [
             0.1111111111111111,
             "#46039f"
            ],
            [
             0.2222222222222222,
             "#7201a8"
            ],
            [
             0.3333333333333333,
             "#9c179e"
            ],
            [
             0.4444444444444444,
             "#bd3786"
            ],
            [
             0.5555555555555556,
             "#d8576b"
            ],
            [
             0.6666666666666666,
             "#ed7953"
            ],
            [
             0.7777777777777778,
             "#fb9f3a"
            ],
            [
             0.8888888888888888,
             "#fdca26"
            ],
            [
             1,
             "#f0f921"
            ]
           ]
          },
          "colorway": [
           "#636efa",
           "#EF553B",
           "#00cc96",
           "#ab63fa",
           "#FFA15A",
           "#19d3f3",
           "#FF6692",
           "#B6E880",
           "#FF97FF",
           "#FECB52"
          ],
          "font": {
           "color": "#2a3f5f"
          },
          "geo": {
           "bgcolor": "white",
           "lakecolor": "white",
           "landcolor": "#E5ECF6",
           "showlakes": true,
           "showland": true,
           "subunitcolor": "white"
          },
          "hoverlabel": {
           "align": "left"
          },
          "hovermode": "closest",
          "mapbox": {
           "style": "light"
          },
          "paper_bgcolor": "white",
          "plot_bgcolor": "#E5ECF6",
          "polar": {
           "angularaxis": {
            "gridcolor": "white",
            "linecolor": "white",
            "ticks": ""
           },
           "bgcolor": "#E5ECF6",
           "radialaxis": {
            "gridcolor": "white",
            "linecolor": "white",
            "ticks": ""
           }
          },
          "scene": {
           "xaxis": {
            "backgroundcolor": "#E5ECF6",
            "gridcolor": "white",
            "gridwidth": 2,
            "linecolor": "white",
            "showbackground": true,
            "ticks": "",
            "zerolinecolor": "white"
           },
           "yaxis": {
            "backgroundcolor": "#E5ECF6",
            "gridcolor": "white",
            "gridwidth": 2,
            "linecolor": "white",
            "showbackground": true,
            "ticks": "",
            "zerolinecolor": "white"
           },
           "zaxis": {
            "backgroundcolor": "#E5ECF6",
            "gridcolor": "white",
            "gridwidth": 2,
            "linecolor": "white",
            "showbackground": true,
            "ticks": "",
            "zerolinecolor": "white"
           }
          },
          "shapedefaults": {
           "line": {
            "color": "#2a3f5f"
           }
          },
          "ternary": {
           "aaxis": {
            "gridcolor": "white",
            "linecolor": "white",
            "ticks": ""
           },
           "baxis": {
            "gridcolor": "white",
            "linecolor": "white",
            "ticks": ""
           },
           "bgcolor": "#E5ECF6",
           "caxis": {
            "gridcolor": "white",
            "linecolor": "white",
            "ticks": ""
           }
          },
          "title": {
           "x": 0.05
          },
          "xaxis": {
           "automargin": true,
           "gridcolor": "white",
           "linecolor": "white",
           "ticks": "",
           "title": {
            "standoff": 15
           },
           "zerolinecolor": "white",
           "zerolinewidth": 2
          },
          "yaxis": {
           "automargin": true,
           "gridcolor": "white",
           "linecolor": "white",
           "ticks": "",
           "title": {
            "standoff": 15
           },
           "zerolinecolor": "white",
           "zerolinewidth": 2
          }
         }
        },
        "title": {
         "text": "Cross-Validation Scores for LinearRegression"
        },
        "xaxis": {
         "title": {
          "text": "Fold"
         }
        },
        "yaxis": {
         "title": {
          "text": "CV Score (R-squared)"
         }
        }
       }
      }
     },
     "metadata": {},
     "output_type": "display_data"
    },
    {
     "data": {
      "application/vnd.plotly.v1+json": {
       "config": {
        "plotlyServerURL": "https://plot.ly"
       },
       "data": [
        {
         "mode": "lines+markers",
         "name": "DecisionTreeRegressor",
         "type": "scatter",
         "x": [
          1,
          2,
          3,
          4,
          5,
          6,
          7,
          8,
          9,
          10
         ],
         "y": [
          0.7074797031992701,
          0.5989780819466963,
          0.6405470489569108,
          0.333173842026936,
          0.6533021412398359,
          0.7778767533058908,
          0.6551031691025814,
          0.6699954283088543,
          0.42307350375984554,
          0.7778098547955298
         ]
        }
       ],
       "layout": {
        "height": 250,
        "hovermode": "closest",
        "plot_bgcolor": "white",
        "template": {
         "data": {
          "bar": [
           {
            "error_x": {
             "color": "#2a3f5f"
            },
            "error_y": {
             "color": "#2a3f5f"
            },
            "marker": {
             "line": {
              "color": "#E5ECF6",
              "width": 0.5
             },
             "pattern": {
              "fillmode": "overlay",
              "size": 10,
              "solidity": 0.2
             }
            },
            "type": "bar"
           }
          ],
          "barpolar": [
           {
            "marker": {
             "line": {
              "color": "#E5ECF6",
              "width": 0.5
             },
             "pattern": {
              "fillmode": "overlay",
              "size": 10,
              "solidity": 0.2
             }
            },
            "type": "barpolar"
           }
          ],
          "carpet": [
           {
            "aaxis": {
             "endlinecolor": "#2a3f5f",
             "gridcolor": "white",
             "linecolor": "white",
             "minorgridcolor": "white",
             "startlinecolor": "#2a3f5f"
            },
            "baxis": {
             "endlinecolor": "#2a3f5f",
             "gridcolor": "white",
             "linecolor": "white",
             "minorgridcolor": "white",
             "startlinecolor": "#2a3f5f"
            },
            "type": "carpet"
           }
          ],
          "choropleth": [
           {
            "colorbar": {
             "outlinewidth": 0,
             "ticks": ""
            },
            "type": "choropleth"
           }
          ],
          "contour": [
           {
            "colorbar": {
             "outlinewidth": 0,
             "ticks": ""
            },
            "colorscale": [
             [
              0,
              "#0d0887"
             ],
             [
              0.1111111111111111,
              "#46039f"
             ],
             [
              0.2222222222222222,
              "#7201a8"
             ],
             [
              0.3333333333333333,
              "#9c179e"
             ],
             [
              0.4444444444444444,
              "#bd3786"
             ],
             [
              0.5555555555555556,
              "#d8576b"
             ],
             [
              0.6666666666666666,
              "#ed7953"
             ],
             [
              0.7777777777777778,
              "#fb9f3a"
             ],
             [
              0.8888888888888888,
              "#fdca26"
             ],
             [
              1,
              "#f0f921"
             ]
            ],
            "type": "contour"
           }
          ],
          "contourcarpet": [
           {
            "colorbar": {
             "outlinewidth": 0,
             "ticks": ""
            },
            "type": "contourcarpet"
           }
          ],
          "heatmap": [
           {
            "colorbar": {
             "outlinewidth": 0,
             "ticks": ""
            },
            "colorscale": [
             [
              0,
              "#0d0887"
             ],
             [
              0.1111111111111111,
              "#46039f"
             ],
             [
              0.2222222222222222,
              "#7201a8"
             ],
             [
              0.3333333333333333,
              "#9c179e"
             ],
             [
              0.4444444444444444,
              "#bd3786"
             ],
             [
              0.5555555555555556,
              "#d8576b"
             ],
             [
              0.6666666666666666,
              "#ed7953"
             ],
             [
              0.7777777777777778,
              "#fb9f3a"
             ],
             [
              0.8888888888888888,
              "#fdca26"
             ],
             [
              1,
              "#f0f921"
             ]
            ],
            "type": "heatmap"
           }
          ],
          "heatmapgl": [
           {
            "colorbar": {
             "outlinewidth": 0,
             "ticks": ""
            },
            "colorscale": [
             [
              0,
              "#0d0887"
             ],
             [
              0.1111111111111111,
              "#46039f"
             ],
             [
              0.2222222222222222,
              "#7201a8"
             ],
             [
              0.3333333333333333,
              "#9c179e"
             ],
             [
              0.4444444444444444,
              "#bd3786"
             ],
             [
              0.5555555555555556,
              "#d8576b"
             ],
             [
              0.6666666666666666,
              "#ed7953"
             ],
             [
              0.7777777777777778,
              "#fb9f3a"
             ],
             [
              0.8888888888888888,
              "#fdca26"
             ],
             [
              1,
              "#f0f921"
             ]
            ],
            "type": "heatmapgl"
           }
          ],
          "histogram": [
           {
            "marker": {
             "pattern": {
              "fillmode": "overlay",
              "size": 10,
              "solidity": 0.2
             }
            },
            "type": "histogram"
           }
          ],
          "histogram2d": [
           {
            "colorbar": {
             "outlinewidth": 0,
             "ticks": ""
            },
            "colorscale": [
             [
              0,
              "#0d0887"
             ],
             [
              0.1111111111111111,
              "#46039f"
             ],
             [
              0.2222222222222222,
              "#7201a8"
             ],
             [
              0.3333333333333333,
              "#9c179e"
             ],
             [
              0.4444444444444444,
              "#bd3786"
             ],
             [
              0.5555555555555556,
              "#d8576b"
             ],
             [
              0.6666666666666666,
              "#ed7953"
             ],
             [
              0.7777777777777778,
              "#fb9f3a"
             ],
             [
              0.8888888888888888,
              "#fdca26"
             ],
             [
              1,
              "#f0f921"
             ]
            ],
            "type": "histogram2d"
           }
          ],
          "histogram2dcontour": [
           {
            "colorbar": {
             "outlinewidth": 0,
             "ticks": ""
            },
            "colorscale": [
             [
              0,
              "#0d0887"
             ],
             [
              0.1111111111111111,
              "#46039f"
             ],
             [
              0.2222222222222222,
              "#7201a8"
             ],
             [
              0.3333333333333333,
              "#9c179e"
             ],
             [
              0.4444444444444444,
              "#bd3786"
             ],
             [
              0.5555555555555556,
              "#d8576b"
             ],
             [
              0.6666666666666666,
              "#ed7953"
             ],
             [
              0.7777777777777778,
              "#fb9f3a"
             ],
             [
              0.8888888888888888,
              "#fdca26"
             ],
             [
              1,
              "#f0f921"
             ]
            ],
            "type": "histogram2dcontour"
           }
          ],
          "mesh3d": [
           {
            "colorbar": {
             "outlinewidth": 0,
             "ticks": ""
            },
            "type": "mesh3d"
           }
          ],
          "parcoords": [
           {
            "line": {
             "colorbar": {
              "outlinewidth": 0,
              "ticks": ""
             }
            },
            "type": "parcoords"
           }
          ],
          "pie": [
           {
            "automargin": true,
            "type": "pie"
           }
          ],
          "scatter": [
           {
            "fillpattern": {
             "fillmode": "overlay",
             "size": 10,
             "solidity": 0.2
            },
            "type": "scatter"
           }
          ],
          "scatter3d": [
           {
            "line": {
             "colorbar": {
              "outlinewidth": 0,
              "ticks": ""
             }
            },
            "marker": {
             "colorbar": {
              "outlinewidth": 0,
              "ticks": ""
             }
            },
            "type": "scatter3d"
           }
          ],
          "scattercarpet": [
           {
            "marker": {
             "colorbar": {
              "outlinewidth": 0,
              "ticks": ""
             }
            },
            "type": "scattercarpet"
           }
          ],
          "scattergeo": [
           {
            "marker": {
             "colorbar": {
              "outlinewidth": 0,
              "ticks": ""
             }
            },
            "type": "scattergeo"
           }
          ],
          "scattergl": [
           {
            "marker": {
             "colorbar": {
              "outlinewidth": 0,
              "ticks": ""
             }
            },
            "type": "scattergl"
           }
          ],
          "scattermapbox": [
           {
            "marker": {
             "colorbar": {
              "outlinewidth": 0,
              "ticks": ""
             }
            },
            "type": "scattermapbox"
           }
          ],
          "scatterpolar": [
           {
            "marker": {
             "colorbar": {
              "outlinewidth": 0,
              "ticks": ""
             }
            },
            "type": "scatterpolar"
           }
          ],
          "scatterpolargl": [
           {
            "marker": {
             "colorbar": {
              "outlinewidth": 0,
              "ticks": ""
             }
            },
            "type": "scatterpolargl"
           }
          ],
          "scatterternary": [
           {
            "marker": {
             "colorbar": {
              "outlinewidth": 0,
              "ticks": ""
             }
            },
            "type": "scatterternary"
           }
          ],
          "surface": [
           {
            "colorbar": {
             "outlinewidth": 0,
             "ticks": ""
            },
            "colorscale": [
             [
              0,
              "#0d0887"
             ],
             [
              0.1111111111111111,
              "#46039f"
             ],
             [
              0.2222222222222222,
              "#7201a8"
             ],
             [
              0.3333333333333333,
              "#9c179e"
             ],
             [
              0.4444444444444444,
              "#bd3786"
             ],
             [
              0.5555555555555556,
              "#d8576b"
             ],
             [
              0.6666666666666666,
              "#ed7953"
             ],
             [
              0.7777777777777778,
              "#fb9f3a"
             ],
             [
              0.8888888888888888,
              "#fdca26"
             ],
             [
              1,
              "#f0f921"
             ]
            ],
            "type": "surface"
           }
          ],
          "table": [
           {
            "cells": {
             "fill": {
              "color": "#EBF0F8"
             },
             "line": {
              "color": "white"
             }
            },
            "header": {
             "fill": {
              "color": "#C8D4E3"
             },
             "line": {
              "color": "white"
             }
            },
            "type": "table"
           }
          ]
         },
         "layout": {
          "annotationdefaults": {
           "arrowcolor": "#2a3f5f",
           "arrowhead": 0,
           "arrowwidth": 1
          },
          "autotypenumbers": "strict",
          "coloraxis": {
           "colorbar": {
            "outlinewidth": 0,
            "ticks": ""
           }
          },
          "colorscale": {
           "diverging": [
            [
             0,
             "#8e0152"
            ],
            [
             0.1,
             "#c51b7d"
            ],
            [
             0.2,
             "#de77ae"
            ],
            [
             0.3,
             "#f1b6da"
            ],
            [
             0.4,
             "#fde0ef"
            ],
            [
             0.5,
             "#f7f7f7"
            ],
            [
             0.6,
             "#e6f5d0"
            ],
            [
             0.7,
             "#b8e186"
            ],
            [
             0.8,
             "#7fbc41"
            ],
            [
             0.9,
             "#4d9221"
            ],
            [
             1,
             "#276419"
            ]
           ],
           "sequential": [
            [
             0,
             "#0d0887"
            ],
            [
             0.1111111111111111,
             "#46039f"
            ],
            [
             0.2222222222222222,
             "#7201a8"
            ],
            [
             0.3333333333333333,
             "#9c179e"
            ],
            [
             0.4444444444444444,
             "#bd3786"
            ],
            [
             0.5555555555555556,
             "#d8576b"
            ],
            [
             0.6666666666666666,
             "#ed7953"
            ],
            [
             0.7777777777777778,
             "#fb9f3a"
            ],
            [
             0.8888888888888888,
             "#fdca26"
            ],
            [
             1,
             "#f0f921"
            ]
           ],
           "sequentialminus": [
            [
             0,
             "#0d0887"
            ],
            [
             0.1111111111111111,
             "#46039f"
            ],
            [
             0.2222222222222222,
             "#7201a8"
            ],
            [
             0.3333333333333333,
             "#9c179e"
            ],
            [
             0.4444444444444444,
             "#bd3786"
            ],
            [
             0.5555555555555556,
             "#d8576b"
            ],
            [
             0.6666666666666666,
             "#ed7953"
            ],
            [
             0.7777777777777778,
             "#fb9f3a"
            ],
            [
             0.8888888888888888,
             "#fdca26"
            ],
            [
             1,
             "#f0f921"
            ]
           ]
          },
          "colorway": [
           "#636efa",
           "#EF553B",
           "#00cc96",
           "#ab63fa",
           "#FFA15A",
           "#19d3f3",
           "#FF6692",
           "#B6E880",
           "#FF97FF",
           "#FECB52"
          ],
          "font": {
           "color": "#2a3f5f"
          },
          "geo": {
           "bgcolor": "white",
           "lakecolor": "white",
           "landcolor": "#E5ECF6",
           "showlakes": true,
           "showland": true,
           "subunitcolor": "white"
          },
          "hoverlabel": {
           "align": "left"
          },
          "hovermode": "closest",
          "mapbox": {
           "style": "light"
          },
          "paper_bgcolor": "white",
          "plot_bgcolor": "#E5ECF6",
          "polar": {
           "angularaxis": {
            "gridcolor": "white",
            "linecolor": "white",
            "ticks": ""
           },
           "bgcolor": "#E5ECF6",
           "radialaxis": {
            "gridcolor": "white",
            "linecolor": "white",
            "ticks": ""
           }
          },
          "scene": {
           "xaxis": {
            "backgroundcolor": "#E5ECF6",
            "gridcolor": "white",
            "gridwidth": 2,
            "linecolor": "white",
            "showbackground": true,
            "ticks": "",
            "zerolinecolor": "white"
           },
           "yaxis": {
            "backgroundcolor": "#E5ECF6",
            "gridcolor": "white",
            "gridwidth": 2,
            "linecolor": "white",
            "showbackground": true,
            "ticks": "",
            "zerolinecolor": "white"
           },
           "zaxis": {
            "backgroundcolor": "#E5ECF6",
            "gridcolor": "white",
            "gridwidth": 2,
            "linecolor": "white",
            "showbackground": true,
            "ticks": "",
            "zerolinecolor": "white"
           }
          },
          "shapedefaults": {
           "line": {
            "color": "#2a3f5f"
           }
          },
          "ternary": {
           "aaxis": {
            "gridcolor": "white",
            "linecolor": "white",
            "ticks": ""
           },
           "baxis": {
            "gridcolor": "white",
            "linecolor": "white",
            "ticks": ""
           },
           "bgcolor": "#E5ECF6",
           "caxis": {
            "gridcolor": "white",
            "linecolor": "white",
            "ticks": ""
           }
          },
          "title": {
           "x": 0.05
          },
          "xaxis": {
           "automargin": true,
           "gridcolor": "white",
           "linecolor": "white",
           "ticks": "",
           "title": {
            "standoff": 15
           },
           "zerolinecolor": "white",
           "zerolinewidth": 2
          },
          "yaxis": {
           "automargin": true,
           "gridcolor": "white",
           "linecolor": "white",
           "ticks": "",
           "title": {
            "standoff": 15
           },
           "zerolinecolor": "white",
           "zerolinewidth": 2
          }
         }
        },
        "title": {
         "text": "Cross-Validation Scores for DecisionTreeRegressor"
        },
        "xaxis": {
         "title": {
          "text": "Fold"
         }
        },
        "yaxis": {
         "title": {
          "text": "CV Score (R-squared)"
         }
        }
       }
      }
     },
     "metadata": {},
     "output_type": "display_data"
    },
    {
     "data": {
      "application/vnd.plotly.v1+json": {
       "config": {
        "plotlyServerURL": "https://plot.ly"
       },
       "data": [
        {
         "mode": "lines+markers",
         "name": "RandomForestRegressor",
         "type": "scatter",
         "x": [
          1,
          2,
          3,
          4,
          5,
          6,
          7,
          8,
          9,
          10
         ],
         "y": [
          0.8785663579094791,
          0.7228435595112408,
          0.8321623823371787,
          0.7124103751308559,
          0.7719188199704199,
          0.8109326361838876,
          0.7746111985103754,
          0.8590993598446927,
          0.8448470048788572,
          0.8766664779916916
         ]
        }
       ],
       "layout": {
        "height": 250,
        "hovermode": "closest",
        "plot_bgcolor": "white",
        "template": {
         "data": {
          "bar": [
           {
            "error_x": {
             "color": "#2a3f5f"
            },
            "error_y": {
             "color": "#2a3f5f"
            },
            "marker": {
             "line": {
              "color": "#E5ECF6",
              "width": 0.5
             },
             "pattern": {
              "fillmode": "overlay",
              "size": 10,
              "solidity": 0.2
             }
            },
            "type": "bar"
           }
          ],
          "barpolar": [
           {
            "marker": {
             "line": {
              "color": "#E5ECF6",
              "width": 0.5
             },
             "pattern": {
              "fillmode": "overlay",
              "size": 10,
              "solidity": 0.2
             }
            },
            "type": "barpolar"
           }
          ],
          "carpet": [
           {
            "aaxis": {
             "endlinecolor": "#2a3f5f",
             "gridcolor": "white",
             "linecolor": "white",
             "minorgridcolor": "white",
             "startlinecolor": "#2a3f5f"
            },
            "baxis": {
             "endlinecolor": "#2a3f5f",
             "gridcolor": "white",
             "linecolor": "white",
             "minorgridcolor": "white",
             "startlinecolor": "#2a3f5f"
            },
            "type": "carpet"
           }
          ],
          "choropleth": [
           {
            "colorbar": {
             "outlinewidth": 0,
             "ticks": ""
            },
            "type": "choropleth"
           }
          ],
          "contour": [
           {
            "colorbar": {
             "outlinewidth": 0,
             "ticks": ""
            },
            "colorscale": [
             [
              0,
              "#0d0887"
             ],
             [
              0.1111111111111111,
              "#46039f"
             ],
             [
              0.2222222222222222,
              "#7201a8"
             ],
             [
              0.3333333333333333,
              "#9c179e"
             ],
             [
              0.4444444444444444,
              "#bd3786"
             ],
             [
              0.5555555555555556,
              "#d8576b"
             ],
             [
              0.6666666666666666,
              "#ed7953"
             ],
             [
              0.7777777777777778,
              "#fb9f3a"
             ],
             [
              0.8888888888888888,
              "#fdca26"
             ],
             [
              1,
              "#f0f921"
             ]
            ],
            "type": "contour"
           }
          ],
          "contourcarpet": [
           {
            "colorbar": {
             "outlinewidth": 0,
             "ticks": ""
            },
            "type": "contourcarpet"
           }
          ],
          "heatmap": [
           {
            "colorbar": {
             "outlinewidth": 0,
             "ticks": ""
            },
            "colorscale": [
             [
              0,
              "#0d0887"
             ],
             [
              0.1111111111111111,
              "#46039f"
             ],
             [
              0.2222222222222222,
              "#7201a8"
             ],
             [
              0.3333333333333333,
              "#9c179e"
             ],
             [
              0.4444444444444444,
              "#bd3786"
             ],
             [
              0.5555555555555556,
              "#d8576b"
             ],
             [
              0.6666666666666666,
              "#ed7953"
             ],
             [
              0.7777777777777778,
              "#fb9f3a"
             ],
             [
              0.8888888888888888,
              "#fdca26"
             ],
             [
              1,
              "#f0f921"
             ]
            ],
            "type": "heatmap"
           }
          ],
          "heatmapgl": [
           {
            "colorbar": {
             "outlinewidth": 0,
             "ticks": ""
            },
            "colorscale": [
             [
              0,
              "#0d0887"
             ],
             [
              0.1111111111111111,
              "#46039f"
             ],
             [
              0.2222222222222222,
              "#7201a8"
             ],
             [
              0.3333333333333333,
              "#9c179e"
             ],
             [
              0.4444444444444444,
              "#bd3786"
             ],
             [
              0.5555555555555556,
              "#d8576b"
             ],
             [
              0.6666666666666666,
              "#ed7953"
             ],
             [
              0.7777777777777778,
              "#fb9f3a"
             ],
             [
              0.8888888888888888,
              "#fdca26"
             ],
             [
              1,
              "#f0f921"
             ]
            ],
            "type": "heatmapgl"
           }
          ],
          "histogram": [
           {
            "marker": {
             "pattern": {
              "fillmode": "overlay",
              "size": 10,
              "solidity": 0.2
             }
            },
            "type": "histogram"
           }
          ],
          "histogram2d": [
           {
            "colorbar": {
             "outlinewidth": 0,
             "ticks": ""
            },
            "colorscale": [
             [
              0,
              "#0d0887"
             ],
             [
              0.1111111111111111,
              "#46039f"
             ],
             [
              0.2222222222222222,
              "#7201a8"
             ],
             [
              0.3333333333333333,
              "#9c179e"
             ],
             [
              0.4444444444444444,
              "#bd3786"
             ],
             [
              0.5555555555555556,
              "#d8576b"
             ],
             [
              0.6666666666666666,
              "#ed7953"
             ],
             [
              0.7777777777777778,
              "#fb9f3a"
             ],
             [
              0.8888888888888888,
              "#fdca26"
             ],
             [
              1,
              "#f0f921"
             ]
            ],
            "type": "histogram2d"
           }
          ],
          "histogram2dcontour": [
           {
            "colorbar": {
             "outlinewidth": 0,
             "ticks": ""
            },
            "colorscale": [
             [
              0,
              "#0d0887"
             ],
             [
              0.1111111111111111,
              "#46039f"
             ],
             [
              0.2222222222222222,
              "#7201a8"
             ],
             [
              0.3333333333333333,
              "#9c179e"
             ],
             [
              0.4444444444444444,
              "#bd3786"
             ],
             [
              0.5555555555555556,
              "#d8576b"
             ],
             [
              0.6666666666666666,
              "#ed7953"
             ],
             [
              0.7777777777777778,
              "#fb9f3a"
             ],
             [
              0.8888888888888888,
              "#fdca26"
             ],
             [
              1,
              "#f0f921"
             ]
            ],
            "type": "histogram2dcontour"
           }
          ],
          "mesh3d": [
           {
            "colorbar": {
             "outlinewidth": 0,
             "ticks": ""
            },
            "type": "mesh3d"
           }
          ],
          "parcoords": [
           {
            "line": {
             "colorbar": {
              "outlinewidth": 0,
              "ticks": ""
             }
            },
            "type": "parcoords"
           }
          ],
          "pie": [
           {
            "automargin": true,
            "type": "pie"
           }
          ],
          "scatter": [
           {
            "fillpattern": {
             "fillmode": "overlay",
             "size": 10,
             "solidity": 0.2
            },
            "type": "scatter"
           }
          ],
          "scatter3d": [
           {
            "line": {
             "colorbar": {
              "outlinewidth": 0,
              "ticks": ""
             }
            },
            "marker": {
             "colorbar": {
              "outlinewidth": 0,
              "ticks": ""
             }
            },
            "type": "scatter3d"
           }
          ],
          "scattercarpet": [
           {
            "marker": {
             "colorbar": {
              "outlinewidth": 0,
              "ticks": ""
             }
            },
            "type": "scattercarpet"
           }
          ],
          "scattergeo": [
           {
            "marker": {
             "colorbar": {
              "outlinewidth": 0,
              "ticks": ""
             }
            },
            "type": "scattergeo"
           }
          ],
          "scattergl": [
           {
            "marker": {
             "colorbar": {
              "outlinewidth": 0,
              "ticks": ""
             }
            },
            "type": "scattergl"
           }
          ],
          "scattermapbox": [
           {
            "marker": {
             "colorbar": {
              "outlinewidth": 0,
              "ticks": ""
             }
            },
            "type": "scattermapbox"
           }
          ],
          "scatterpolar": [
           {
            "marker": {
             "colorbar": {
              "outlinewidth": 0,
              "ticks": ""
             }
            },
            "type": "scatterpolar"
           }
          ],
          "scatterpolargl": [
           {
            "marker": {
             "colorbar": {
              "outlinewidth": 0,
              "ticks": ""
             }
            },
            "type": "scatterpolargl"
           }
          ],
          "scatterternary": [
           {
            "marker": {
             "colorbar": {
              "outlinewidth": 0,
              "ticks": ""
             }
            },
            "type": "scatterternary"
           }
          ],
          "surface": [
           {
            "colorbar": {
             "outlinewidth": 0,
             "ticks": ""
            },
            "colorscale": [
             [
              0,
              "#0d0887"
             ],
             [
              0.1111111111111111,
              "#46039f"
             ],
             [
              0.2222222222222222,
              "#7201a8"
             ],
             [
              0.3333333333333333,
              "#9c179e"
             ],
             [
              0.4444444444444444,
              "#bd3786"
             ],
             [
              0.5555555555555556,
              "#d8576b"
             ],
             [
              0.6666666666666666,
              "#ed7953"
             ],
             [
              0.7777777777777778,
              "#fb9f3a"
             ],
             [
              0.8888888888888888,
              "#fdca26"
             ],
             [
              1,
              "#f0f921"
             ]
            ],
            "type": "surface"
           }
          ],
          "table": [
           {
            "cells": {
             "fill": {
              "color": "#EBF0F8"
             },
             "line": {
              "color": "white"
             }
            },
            "header": {
             "fill": {
              "color": "#C8D4E3"
             },
             "line": {
              "color": "white"
             }
            },
            "type": "table"
           }
          ]
         },
         "layout": {
          "annotationdefaults": {
           "arrowcolor": "#2a3f5f",
           "arrowhead": 0,
           "arrowwidth": 1
          },
          "autotypenumbers": "strict",
          "coloraxis": {
           "colorbar": {
            "outlinewidth": 0,
            "ticks": ""
           }
          },
          "colorscale": {
           "diverging": [
            [
             0,
             "#8e0152"
            ],
            [
             0.1,
             "#c51b7d"
            ],
            [
             0.2,
             "#de77ae"
            ],
            [
             0.3,
             "#f1b6da"
            ],
            [
             0.4,
             "#fde0ef"
            ],
            [
             0.5,
             "#f7f7f7"
            ],
            [
             0.6,
             "#e6f5d0"
            ],
            [
             0.7,
             "#b8e186"
            ],
            [
             0.8,
             "#7fbc41"
            ],
            [
             0.9,
             "#4d9221"
            ],
            [
             1,
             "#276419"
            ]
           ],
           "sequential": [
            [
             0,
             "#0d0887"
            ],
            [
             0.1111111111111111,
             "#46039f"
            ],
            [
             0.2222222222222222,
             "#7201a8"
            ],
            [
             0.3333333333333333,
             "#9c179e"
            ],
            [
             0.4444444444444444,
             "#bd3786"
            ],
            [
             0.5555555555555556,
             "#d8576b"
            ],
            [
             0.6666666666666666,
             "#ed7953"
            ],
            [
             0.7777777777777778,
             "#fb9f3a"
            ],
            [
             0.8888888888888888,
             "#fdca26"
            ],
            [
             1,
             "#f0f921"
            ]
           ],
           "sequentialminus": [
            [
             0,
             "#0d0887"
            ],
            [
             0.1111111111111111,
             "#46039f"
            ],
            [
             0.2222222222222222,
             "#7201a8"
            ],
            [
             0.3333333333333333,
             "#9c179e"
            ],
            [
             0.4444444444444444,
             "#bd3786"
            ],
            [
             0.5555555555555556,
             "#d8576b"
            ],
            [
             0.6666666666666666,
             "#ed7953"
            ],
            [
             0.7777777777777778,
             "#fb9f3a"
            ],
            [
             0.8888888888888888,
             "#fdca26"
            ],
            [
             1,
             "#f0f921"
            ]
           ]
          },
          "colorway": [
           "#636efa",
           "#EF553B",
           "#00cc96",
           "#ab63fa",
           "#FFA15A",
           "#19d3f3",
           "#FF6692",
           "#B6E880",
           "#FF97FF",
           "#FECB52"
          ],
          "font": {
           "color": "#2a3f5f"
          },
          "geo": {
           "bgcolor": "white",
           "lakecolor": "white",
           "landcolor": "#E5ECF6",
           "showlakes": true,
           "showland": true,
           "subunitcolor": "white"
          },
          "hoverlabel": {
           "align": "left"
          },
          "hovermode": "closest",
          "mapbox": {
           "style": "light"
          },
          "paper_bgcolor": "white",
          "plot_bgcolor": "#E5ECF6",
          "polar": {
           "angularaxis": {
            "gridcolor": "white",
            "linecolor": "white",
            "ticks": ""
           },
           "bgcolor": "#E5ECF6",
           "radialaxis": {
            "gridcolor": "white",
            "linecolor": "white",
            "ticks": ""
           }
          },
          "scene": {
           "xaxis": {
            "backgroundcolor": "#E5ECF6",
            "gridcolor": "white",
            "gridwidth": 2,
            "linecolor": "white",
            "showbackground": true,
            "ticks": "",
            "zerolinecolor": "white"
           },
           "yaxis": {
            "backgroundcolor": "#E5ECF6",
            "gridcolor": "white",
            "gridwidth": 2,
            "linecolor": "white",
            "showbackground": true,
            "ticks": "",
            "zerolinecolor": "white"
           },
           "zaxis": {
            "backgroundcolor": "#E5ECF6",
            "gridcolor": "white",
            "gridwidth": 2,
            "linecolor": "white",
            "showbackground": true,
            "ticks": "",
            "zerolinecolor": "white"
           }
          },
          "shapedefaults": {
           "line": {
            "color": "#2a3f5f"
           }
          },
          "ternary": {
           "aaxis": {
            "gridcolor": "white",
            "linecolor": "white",
            "ticks": ""
           },
           "baxis": {
            "gridcolor": "white",
            "linecolor": "white",
            "ticks": ""
           },
           "bgcolor": "#E5ECF6",
           "caxis": {
            "gridcolor": "white",
            "linecolor": "white",
            "ticks": ""
           }
          },
          "title": {
           "x": 0.05
          },
          "xaxis": {
           "automargin": true,
           "gridcolor": "white",
           "linecolor": "white",
           "ticks": "",
           "title": {
            "standoff": 15
           },
           "zerolinecolor": "white",
           "zerolinewidth": 2
          },
          "yaxis": {
           "automargin": true,
           "gridcolor": "white",
           "linecolor": "white",
           "ticks": "",
           "title": {
            "standoff": 15
           },
           "zerolinecolor": "white",
           "zerolinewidth": 2
          }
         }
        },
        "title": {
         "text": "Cross-Validation Scores for RandomForestRegressor"
        },
        "xaxis": {
         "title": {
          "text": "Fold"
         }
        },
        "yaxis": {
         "title": {
          "text": "CV Score (R-squared)"
         }
        }
       }
      }
     },
     "metadata": {},
     "output_type": "display_data"
    },
    {
     "data": {
      "application/vnd.plotly.v1+json": {
       "config": {
        "plotlyServerURL": "https://plot.ly"
       },
       "data": [
        {
         "mode": "lines+markers",
         "name": "SVR",
         "type": "scatter",
         "x": [
          1,
          2,
          3,
          4,
          5,
          6,
          7,
          8,
          9,
          10
         ],
         "y": [
          -0.025975720637274602,
          -0.06725998855933724,
          -0.13390952923178867,
          -0.07452321968281295,
          -0.012764722928246153,
          -0.02578428765944807,
          -0.024909604997837675,
          -0.03968356546370355,
          -0.03910182002861373,
          -0.0702096040624598
         ]
        }
       ],
       "layout": {
        "height": 250,
        "hovermode": "closest",
        "plot_bgcolor": "white",
        "template": {
         "data": {
          "bar": [
           {
            "error_x": {
             "color": "#2a3f5f"
            },
            "error_y": {
             "color": "#2a3f5f"
            },
            "marker": {
             "line": {
              "color": "#E5ECF6",
              "width": 0.5
             },
             "pattern": {
              "fillmode": "overlay",
              "size": 10,
              "solidity": 0.2
             }
            },
            "type": "bar"
           }
          ],
          "barpolar": [
           {
            "marker": {
             "line": {
              "color": "#E5ECF6",
              "width": 0.5
             },
             "pattern": {
              "fillmode": "overlay",
              "size": 10,
              "solidity": 0.2
             }
            },
            "type": "barpolar"
           }
          ],
          "carpet": [
           {
            "aaxis": {
             "endlinecolor": "#2a3f5f",
             "gridcolor": "white",
             "linecolor": "white",
             "minorgridcolor": "white",
             "startlinecolor": "#2a3f5f"
            },
            "baxis": {
             "endlinecolor": "#2a3f5f",
             "gridcolor": "white",
             "linecolor": "white",
             "minorgridcolor": "white",
             "startlinecolor": "#2a3f5f"
            },
            "type": "carpet"
           }
          ],
          "choropleth": [
           {
            "colorbar": {
             "outlinewidth": 0,
             "ticks": ""
            },
            "type": "choropleth"
           }
          ],
          "contour": [
           {
            "colorbar": {
             "outlinewidth": 0,
             "ticks": ""
            },
            "colorscale": [
             [
              0,
              "#0d0887"
             ],
             [
              0.1111111111111111,
              "#46039f"
             ],
             [
              0.2222222222222222,
              "#7201a8"
             ],
             [
              0.3333333333333333,
              "#9c179e"
             ],
             [
              0.4444444444444444,
              "#bd3786"
             ],
             [
              0.5555555555555556,
              "#d8576b"
             ],
             [
              0.6666666666666666,
              "#ed7953"
             ],
             [
              0.7777777777777778,
              "#fb9f3a"
             ],
             [
              0.8888888888888888,
              "#fdca26"
             ],
             [
              1,
              "#f0f921"
             ]
            ],
            "type": "contour"
           }
          ],
          "contourcarpet": [
           {
            "colorbar": {
             "outlinewidth": 0,
             "ticks": ""
            },
            "type": "contourcarpet"
           }
          ],
          "heatmap": [
           {
            "colorbar": {
             "outlinewidth": 0,
             "ticks": ""
            },
            "colorscale": [
             [
              0,
              "#0d0887"
             ],
             [
              0.1111111111111111,
              "#46039f"
             ],
             [
              0.2222222222222222,
              "#7201a8"
             ],
             [
              0.3333333333333333,
              "#9c179e"
             ],
             [
              0.4444444444444444,
              "#bd3786"
             ],
             [
              0.5555555555555556,
              "#d8576b"
             ],
             [
              0.6666666666666666,
              "#ed7953"
             ],
             [
              0.7777777777777778,
              "#fb9f3a"
             ],
             [
              0.8888888888888888,
              "#fdca26"
             ],
             [
              1,
              "#f0f921"
             ]
            ],
            "type": "heatmap"
           }
          ],
          "heatmapgl": [
           {
            "colorbar": {
             "outlinewidth": 0,
             "ticks": ""
            },
            "colorscale": [
             [
              0,
              "#0d0887"
             ],
             [
              0.1111111111111111,
              "#46039f"
             ],
             [
              0.2222222222222222,
              "#7201a8"
             ],
             [
              0.3333333333333333,
              "#9c179e"
             ],
             [
              0.4444444444444444,
              "#bd3786"
             ],
             [
              0.5555555555555556,
              "#d8576b"
             ],
             [
              0.6666666666666666,
              "#ed7953"
             ],
             [
              0.7777777777777778,
              "#fb9f3a"
             ],
             [
              0.8888888888888888,
              "#fdca26"
             ],
             [
              1,
              "#f0f921"
             ]
            ],
            "type": "heatmapgl"
           }
          ],
          "histogram": [
           {
            "marker": {
             "pattern": {
              "fillmode": "overlay",
              "size": 10,
              "solidity": 0.2
             }
            },
            "type": "histogram"
           }
          ],
          "histogram2d": [
           {
            "colorbar": {
             "outlinewidth": 0,
             "ticks": ""
            },
            "colorscale": [
             [
              0,
              "#0d0887"
             ],
             [
              0.1111111111111111,
              "#46039f"
             ],
             [
              0.2222222222222222,
              "#7201a8"
             ],
             [
              0.3333333333333333,
              "#9c179e"
             ],
             [
              0.4444444444444444,
              "#bd3786"
             ],
             [
              0.5555555555555556,
              "#d8576b"
             ],
             [
              0.6666666666666666,
              "#ed7953"
             ],
             [
              0.7777777777777778,
              "#fb9f3a"
             ],
             [
              0.8888888888888888,
              "#fdca26"
             ],
             [
              1,
              "#f0f921"
             ]
            ],
            "type": "histogram2d"
           }
          ],
          "histogram2dcontour": [
           {
            "colorbar": {
             "outlinewidth": 0,
             "ticks": ""
            },
            "colorscale": [
             [
              0,
              "#0d0887"
             ],
             [
              0.1111111111111111,
              "#46039f"
             ],
             [
              0.2222222222222222,
              "#7201a8"
             ],
             [
              0.3333333333333333,
              "#9c179e"
             ],
             [
              0.4444444444444444,
              "#bd3786"
             ],
             [
              0.5555555555555556,
              "#d8576b"
             ],
             [
              0.6666666666666666,
              "#ed7953"
             ],
             [
              0.7777777777777778,
              "#fb9f3a"
             ],
             [
              0.8888888888888888,
              "#fdca26"
             ],
             [
              1,
              "#f0f921"
             ]
            ],
            "type": "histogram2dcontour"
           }
          ],
          "mesh3d": [
           {
            "colorbar": {
             "outlinewidth": 0,
             "ticks": ""
            },
            "type": "mesh3d"
           }
          ],
          "parcoords": [
           {
            "line": {
             "colorbar": {
              "outlinewidth": 0,
              "ticks": ""
             }
            },
            "type": "parcoords"
           }
          ],
          "pie": [
           {
            "automargin": true,
            "type": "pie"
           }
          ],
          "scatter": [
           {
            "fillpattern": {
             "fillmode": "overlay",
             "size": 10,
             "solidity": 0.2
            },
            "type": "scatter"
           }
          ],
          "scatter3d": [
           {
            "line": {
             "colorbar": {
              "outlinewidth": 0,
              "ticks": ""
             }
            },
            "marker": {
             "colorbar": {
              "outlinewidth": 0,
              "ticks": ""
             }
            },
            "type": "scatter3d"
           }
          ],
          "scattercarpet": [
           {
            "marker": {
             "colorbar": {
              "outlinewidth": 0,
              "ticks": ""
             }
            },
            "type": "scattercarpet"
           }
          ],
          "scattergeo": [
           {
            "marker": {
             "colorbar": {
              "outlinewidth": 0,
              "ticks": ""
             }
            },
            "type": "scattergeo"
           }
          ],
          "scattergl": [
           {
            "marker": {
             "colorbar": {
              "outlinewidth": 0,
              "ticks": ""
             }
            },
            "type": "scattergl"
           }
          ],
          "scattermapbox": [
           {
            "marker": {
             "colorbar": {
              "outlinewidth": 0,
              "ticks": ""
             }
            },
            "type": "scattermapbox"
           }
          ],
          "scatterpolar": [
           {
            "marker": {
             "colorbar": {
              "outlinewidth": 0,
              "ticks": ""
             }
            },
            "type": "scatterpolar"
           }
          ],
          "scatterpolargl": [
           {
            "marker": {
             "colorbar": {
              "outlinewidth": 0,
              "ticks": ""
             }
            },
            "type": "scatterpolargl"
           }
          ],
          "scatterternary": [
           {
            "marker": {
             "colorbar": {
              "outlinewidth": 0,
              "ticks": ""
             }
            },
            "type": "scatterternary"
           }
          ],
          "surface": [
           {
            "colorbar": {
             "outlinewidth": 0,
             "ticks": ""
            },
            "colorscale": [
             [
              0,
              "#0d0887"
             ],
             [
              0.1111111111111111,
              "#46039f"
             ],
             [
              0.2222222222222222,
              "#7201a8"
             ],
             [
              0.3333333333333333,
              "#9c179e"
             ],
             [
              0.4444444444444444,
              "#bd3786"
             ],
             [
              0.5555555555555556,
              "#d8576b"
             ],
             [
              0.6666666666666666,
              "#ed7953"
             ],
             [
              0.7777777777777778,
              "#fb9f3a"
             ],
             [
              0.8888888888888888,
              "#fdca26"
             ],
             [
              1,
              "#f0f921"
             ]
            ],
            "type": "surface"
           }
          ],
          "table": [
           {
            "cells": {
             "fill": {
              "color": "#EBF0F8"
             },
             "line": {
              "color": "white"
             }
            },
            "header": {
             "fill": {
              "color": "#C8D4E3"
             },
             "line": {
              "color": "white"
             }
            },
            "type": "table"
           }
          ]
         },
         "layout": {
          "annotationdefaults": {
           "arrowcolor": "#2a3f5f",
           "arrowhead": 0,
           "arrowwidth": 1
          },
          "autotypenumbers": "strict",
          "coloraxis": {
           "colorbar": {
            "outlinewidth": 0,
            "ticks": ""
           }
          },
          "colorscale": {
           "diverging": [
            [
             0,
             "#8e0152"
            ],
            [
             0.1,
             "#c51b7d"
            ],
            [
             0.2,
             "#de77ae"
            ],
            [
             0.3,
             "#f1b6da"
            ],
            [
             0.4,
             "#fde0ef"
            ],
            [
             0.5,
             "#f7f7f7"
            ],
            [
             0.6,
             "#e6f5d0"
            ],
            [
             0.7,
             "#b8e186"
            ],
            [
             0.8,
             "#7fbc41"
            ],
            [
             0.9,
             "#4d9221"
            ],
            [
             1,
             "#276419"
            ]
           ],
           "sequential": [
            [
             0,
             "#0d0887"
            ],
            [
             0.1111111111111111,
             "#46039f"
            ],
            [
             0.2222222222222222,
             "#7201a8"
            ],
            [
             0.3333333333333333,
             "#9c179e"
            ],
            [
             0.4444444444444444,
             "#bd3786"
            ],
            [
             0.5555555555555556,
             "#d8576b"
            ],
            [
             0.6666666666666666,
             "#ed7953"
            ],
            [
             0.7777777777777778,
             "#fb9f3a"
            ],
            [
             0.8888888888888888,
             "#fdca26"
            ],
            [
             1,
             "#f0f921"
            ]
           ],
           "sequentialminus": [
            [
             0,
             "#0d0887"
            ],
            [
             0.1111111111111111,
             "#46039f"
            ],
            [
             0.2222222222222222,
             "#7201a8"
            ],
            [
             0.3333333333333333,
             "#9c179e"
            ],
            [
             0.4444444444444444,
             "#bd3786"
            ],
            [
             0.5555555555555556,
             "#d8576b"
            ],
            [
             0.6666666666666666,
             "#ed7953"
            ],
            [
             0.7777777777777778,
             "#fb9f3a"
            ],
            [
             0.8888888888888888,
             "#fdca26"
            ],
            [
             1,
             "#f0f921"
            ]
           ]
          },
          "colorway": [
           "#636efa",
           "#EF553B",
           "#00cc96",
           "#ab63fa",
           "#FFA15A",
           "#19d3f3",
           "#FF6692",
           "#B6E880",
           "#FF97FF",
           "#FECB52"
          ],
          "font": {
           "color": "#2a3f5f"
          },
          "geo": {
           "bgcolor": "white",
           "lakecolor": "white",
           "landcolor": "#E5ECF6",
           "showlakes": true,
           "showland": true,
           "subunitcolor": "white"
          },
          "hoverlabel": {
           "align": "left"
          },
          "hovermode": "closest",
          "mapbox": {
           "style": "light"
          },
          "paper_bgcolor": "white",
          "plot_bgcolor": "#E5ECF6",
          "polar": {
           "angularaxis": {
            "gridcolor": "white",
            "linecolor": "white",
            "ticks": ""
           },
           "bgcolor": "#E5ECF6",
           "radialaxis": {
            "gridcolor": "white",
            "linecolor": "white",
            "ticks": ""
           }
          },
          "scene": {
           "xaxis": {
            "backgroundcolor": "#E5ECF6",
            "gridcolor": "white",
            "gridwidth": 2,
            "linecolor": "white",
            "showbackground": true,
            "ticks": "",
            "zerolinecolor": "white"
           },
           "yaxis": {
            "backgroundcolor": "#E5ECF6",
            "gridcolor": "white",
            "gridwidth": 2,
            "linecolor": "white",
            "showbackground": true,
            "ticks": "",
            "zerolinecolor": "white"
           },
           "zaxis": {
            "backgroundcolor": "#E5ECF6",
            "gridcolor": "white",
            "gridwidth": 2,
            "linecolor": "white",
            "showbackground": true,
            "ticks": "",
            "zerolinecolor": "white"
           }
          },
          "shapedefaults": {
           "line": {
            "color": "#2a3f5f"
           }
          },
          "ternary": {
           "aaxis": {
            "gridcolor": "white",
            "linecolor": "white",
            "ticks": ""
           },
           "baxis": {
            "gridcolor": "white",
            "linecolor": "white",
            "ticks": ""
           },
           "bgcolor": "#E5ECF6",
           "caxis": {
            "gridcolor": "white",
            "linecolor": "white",
            "ticks": ""
           }
          },
          "title": {
           "x": 0.05
          },
          "xaxis": {
           "automargin": true,
           "gridcolor": "white",
           "linecolor": "white",
           "ticks": "",
           "title": {
            "standoff": 15
           },
           "zerolinecolor": "white",
           "zerolinewidth": 2
          },
          "yaxis": {
           "automargin": true,
           "gridcolor": "white",
           "linecolor": "white",
           "ticks": "",
           "title": {
            "standoff": 15
           },
           "zerolinecolor": "white",
           "zerolinewidth": 2
          }
         }
        },
        "title": {
         "text": "Cross-Validation Scores for SVR"
        },
        "xaxis": {
         "title": {
          "text": "Fold"
         }
        },
        "yaxis": {
         "title": {
          "text": "CV Score (R-squared)"
         }
        }
       }
      }
     },
     "metadata": {},
     "output_type": "display_data"
    },
    {
     "data": {
      "application/vnd.plotly.v1+json": {
       "config": {
        "plotlyServerURL": "https://plot.ly"
       },
       "data": [
        {
         "mode": "lines+markers",
         "name": "MLPRegressor",
         "type": "scatter",
         "x": [
          1,
          2,
          3,
          4,
          5,
          6,
          7,
          8,
          9,
          10
         ],
         "y": [
          -6.502229801340578,
          -3.9988136930317895,
          -6.771312139460652,
          -6.393396717828921,
          -4.568557534138192,
          -3.9929793892250034,
          -5.8718528850888365,
          -5.8781842848706845,
          -7.317909796874725,
          -5.8567637381171105
         ]
        }
       ],
       "layout": {
        "height": 250,
        "hovermode": "closest",
        "plot_bgcolor": "white",
        "template": {
         "data": {
          "bar": [
           {
            "error_x": {
             "color": "#2a3f5f"
            },
            "error_y": {
             "color": "#2a3f5f"
            },
            "marker": {
             "line": {
              "color": "#E5ECF6",
              "width": 0.5
             },
             "pattern": {
              "fillmode": "overlay",
              "size": 10,
              "solidity": 0.2
             }
            },
            "type": "bar"
           }
          ],
          "barpolar": [
           {
            "marker": {
             "line": {
              "color": "#E5ECF6",
              "width": 0.5
             },
             "pattern": {
              "fillmode": "overlay",
              "size": 10,
              "solidity": 0.2
             }
            },
            "type": "barpolar"
           }
          ],
          "carpet": [
           {
            "aaxis": {
             "endlinecolor": "#2a3f5f",
             "gridcolor": "white",
             "linecolor": "white",
             "minorgridcolor": "white",
             "startlinecolor": "#2a3f5f"
            },
            "baxis": {
             "endlinecolor": "#2a3f5f",
             "gridcolor": "white",
             "linecolor": "white",
             "minorgridcolor": "white",
             "startlinecolor": "#2a3f5f"
            },
            "type": "carpet"
           }
          ],
          "choropleth": [
           {
            "colorbar": {
             "outlinewidth": 0,
             "ticks": ""
            },
            "type": "choropleth"
           }
          ],
          "contour": [
           {
            "colorbar": {
             "outlinewidth": 0,
             "ticks": ""
            },
            "colorscale": [
             [
              0,
              "#0d0887"
             ],
             [
              0.1111111111111111,
              "#46039f"
             ],
             [
              0.2222222222222222,
              "#7201a8"
             ],
             [
              0.3333333333333333,
              "#9c179e"
             ],
             [
              0.4444444444444444,
              "#bd3786"
             ],
             [
              0.5555555555555556,
              "#d8576b"
             ],
             [
              0.6666666666666666,
              "#ed7953"
             ],
             [
              0.7777777777777778,
              "#fb9f3a"
             ],
             [
              0.8888888888888888,
              "#fdca26"
             ],
             [
              1,
              "#f0f921"
             ]
            ],
            "type": "contour"
           }
          ],
          "contourcarpet": [
           {
            "colorbar": {
             "outlinewidth": 0,
             "ticks": ""
            },
            "type": "contourcarpet"
           }
          ],
          "heatmap": [
           {
            "colorbar": {
             "outlinewidth": 0,
             "ticks": ""
            },
            "colorscale": [
             [
              0,
              "#0d0887"
             ],
             [
              0.1111111111111111,
              "#46039f"
             ],
             [
              0.2222222222222222,
              "#7201a8"
             ],
             [
              0.3333333333333333,
              "#9c179e"
             ],
             [
              0.4444444444444444,
              "#bd3786"
             ],
             [
              0.5555555555555556,
              "#d8576b"
             ],
             [
              0.6666666666666666,
              "#ed7953"
             ],
             [
              0.7777777777777778,
              "#fb9f3a"
             ],
             [
              0.8888888888888888,
              "#fdca26"
             ],
             [
              1,
              "#f0f921"
             ]
            ],
            "type": "heatmap"
           }
          ],
          "heatmapgl": [
           {
            "colorbar": {
             "outlinewidth": 0,
             "ticks": ""
            },
            "colorscale": [
             [
              0,
              "#0d0887"
             ],
             [
              0.1111111111111111,
              "#46039f"
             ],
             [
              0.2222222222222222,
              "#7201a8"
             ],
             [
              0.3333333333333333,
              "#9c179e"
             ],
             [
              0.4444444444444444,
              "#bd3786"
             ],
             [
              0.5555555555555556,
              "#d8576b"
             ],
             [
              0.6666666666666666,
              "#ed7953"
             ],
             [
              0.7777777777777778,
              "#fb9f3a"
             ],
             [
              0.8888888888888888,
              "#fdca26"
             ],
             [
              1,
              "#f0f921"
             ]
            ],
            "type": "heatmapgl"
           }
          ],
          "histogram": [
           {
            "marker": {
             "pattern": {
              "fillmode": "overlay",
              "size": 10,
              "solidity": 0.2
             }
            },
            "type": "histogram"
           }
          ],
          "histogram2d": [
           {
            "colorbar": {
             "outlinewidth": 0,
             "ticks": ""
            },
            "colorscale": [
             [
              0,
              "#0d0887"
             ],
             [
              0.1111111111111111,
              "#46039f"
             ],
             [
              0.2222222222222222,
              "#7201a8"
             ],
             [
              0.3333333333333333,
              "#9c179e"
             ],
             [
              0.4444444444444444,
              "#bd3786"
             ],
             [
              0.5555555555555556,
              "#d8576b"
             ],
             [
              0.6666666666666666,
              "#ed7953"
             ],
             [
              0.7777777777777778,
              "#fb9f3a"
             ],
             [
              0.8888888888888888,
              "#fdca26"
             ],
             [
              1,
              "#f0f921"
             ]
            ],
            "type": "histogram2d"
           }
          ],
          "histogram2dcontour": [
           {
            "colorbar": {
             "outlinewidth": 0,
             "ticks": ""
            },
            "colorscale": [
             [
              0,
              "#0d0887"
             ],
             [
              0.1111111111111111,
              "#46039f"
             ],
             [
              0.2222222222222222,
              "#7201a8"
             ],
             [
              0.3333333333333333,
              "#9c179e"
             ],
             [
              0.4444444444444444,
              "#bd3786"
             ],
             [
              0.5555555555555556,
              "#d8576b"
             ],
             [
              0.6666666666666666,
              "#ed7953"
             ],
             [
              0.7777777777777778,
              "#fb9f3a"
             ],
             [
              0.8888888888888888,
              "#fdca26"
             ],
             [
              1,
              "#f0f921"
             ]
            ],
            "type": "histogram2dcontour"
           }
          ],
          "mesh3d": [
           {
            "colorbar": {
             "outlinewidth": 0,
             "ticks": ""
            },
            "type": "mesh3d"
           }
          ],
          "parcoords": [
           {
            "line": {
             "colorbar": {
              "outlinewidth": 0,
              "ticks": ""
             }
            },
            "type": "parcoords"
           }
          ],
          "pie": [
           {
            "automargin": true,
            "type": "pie"
           }
          ],
          "scatter": [
           {
            "fillpattern": {
             "fillmode": "overlay",
             "size": 10,
             "solidity": 0.2
            },
            "type": "scatter"
           }
          ],
          "scatter3d": [
           {
            "line": {
             "colorbar": {
              "outlinewidth": 0,
              "ticks": ""
             }
            },
            "marker": {
             "colorbar": {
              "outlinewidth": 0,
              "ticks": ""
             }
            },
            "type": "scatter3d"
           }
          ],
          "scattercarpet": [
           {
            "marker": {
             "colorbar": {
              "outlinewidth": 0,
              "ticks": ""
             }
            },
            "type": "scattercarpet"
           }
          ],
          "scattergeo": [
           {
            "marker": {
             "colorbar": {
              "outlinewidth": 0,
              "ticks": ""
             }
            },
            "type": "scattergeo"
           }
          ],
          "scattergl": [
           {
            "marker": {
             "colorbar": {
              "outlinewidth": 0,
              "ticks": ""
             }
            },
            "type": "scattergl"
           }
          ],
          "scattermapbox": [
           {
            "marker": {
             "colorbar": {
              "outlinewidth": 0,
              "ticks": ""
             }
            },
            "type": "scattermapbox"
           }
          ],
          "scatterpolar": [
           {
            "marker": {
             "colorbar": {
              "outlinewidth": 0,
              "ticks": ""
             }
            },
            "type": "scatterpolar"
           }
          ],
          "scatterpolargl": [
           {
            "marker": {
             "colorbar": {
              "outlinewidth": 0,
              "ticks": ""
             }
            },
            "type": "scatterpolargl"
           }
          ],
          "scatterternary": [
           {
            "marker": {
             "colorbar": {
              "outlinewidth": 0,
              "ticks": ""
             }
            },
            "type": "scatterternary"
           }
          ],
          "surface": [
           {
            "colorbar": {
             "outlinewidth": 0,
             "ticks": ""
            },
            "colorscale": [
             [
              0,
              "#0d0887"
             ],
             [
              0.1111111111111111,
              "#46039f"
             ],
             [
              0.2222222222222222,
              "#7201a8"
             ],
             [
              0.3333333333333333,
              "#9c179e"
             ],
             [
              0.4444444444444444,
              "#bd3786"
             ],
             [
              0.5555555555555556,
              "#d8576b"
             ],
             [
              0.6666666666666666,
              "#ed7953"
             ],
             [
              0.7777777777777778,
              "#fb9f3a"
             ],
             [
              0.8888888888888888,
              "#fdca26"
             ],
             [
              1,
              "#f0f921"
             ]
            ],
            "type": "surface"
           }
          ],
          "table": [
           {
            "cells": {
             "fill": {
              "color": "#EBF0F8"
             },
             "line": {
              "color": "white"
             }
            },
            "header": {
             "fill": {
              "color": "#C8D4E3"
             },
             "line": {
              "color": "white"
             }
            },
            "type": "table"
           }
          ]
         },
         "layout": {
          "annotationdefaults": {
           "arrowcolor": "#2a3f5f",
           "arrowhead": 0,
           "arrowwidth": 1
          },
          "autotypenumbers": "strict",
          "coloraxis": {
           "colorbar": {
            "outlinewidth": 0,
            "ticks": ""
           }
          },
          "colorscale": {
           "diverging": [
            [
             0,
             "#8e0152"
            ],
            [
             0.1,
             "#c51b7d"
            ],
            [
             0.2,
             "#de77ae"
            ],
            [
             0.3,
             "#f1b6da"
            ],
            [
             0.4,
             "#fde0ef"
            ],
            [
             0.5,
             "#f7f7f7"
            ],
            [
             0.6,
             "#e6f5d0"
            ],
            [
             0.7,
             "#b8e186"
            ],
            [
             0.8,
             "#7fbc41"
            ],
            [
             0.9,
             "#4d9221"
            ],
            [
             1,
             "#276419"
            ]
           ],
           "sequential": [
            [
             0,
             "#0d0887"
            ],
            [
             0.1111111111111111,
             "#46039f"
            ],
            [
             0.2222222222222222,
             "#7201a8"
            ],
            [
             0.3333333333333333,
             "#9c179e"
            ],
            [
             0.4444444444444444,
             "#bd3786"
            ],
            [
             0.5555555555555556,
             "#d8576b"
            ],
            [
             0.6666666666666666,
             "#ed7953"
            ],
            [
             0.7777777777777778,
             "#fb9f3a"
            ],
            [
             0.8888888888888888,
             "#fdca26"
            ],
            [
             1,
             "#f0f921"
            ]
           ],
           "sequentialminus": [
            [
             0,
             "#0d0887"
            ],
            [
             0.1111111111111111,
             "#46039f"
            ],
            [
             0.2222222222222222,
             "#7201a8"
            ],
            [
             0.3333333333333333,
             "#9c179e"
            ],
            [
             0.4444444444444444,
             "#bd3786"
            ],
            [
             0.5555555555555556,
             "#d8576b"
            ],
            [
             0.6666666666666666,
             "#ed7953"
            ],
            [
             0.7777777777777778,
             "#fb9f3a"
            ],
            [
             0.8888888888888888,
             "#fdca26"
            ],
            [
             1,
             "#f0f921"
            ]
           ]
          },
          "colorway": [
           "#636efa",
           "#EF553B",
           "#00cc96",
           "#ab63fa",
           "#FFA15A",
           "#19d3f3",
           "#FF6692",
           "#B6E880",
           "#FF97FF",
           "#FECB52"
          ],
          "font": {
           "color": "#2a3f5f"
          },
          "geo": {
           "bgcolor": "white",
           "lakecolor": "white",
           "landcolor": "#E5ECF6",
           "showlakes": true,
           "showland": true,
           "subunitcolor": "white"
          },
          "hoverlabel": {
           "align": "left"
          },
          "hovermode": "closest",
          "mapbox": {
           "style": "light"
          },
          "paper_bgcolor": "white",
          "plot_bgcolor": "#E5ECF6",
          "polar": {
           "angularaxis": {
            "gridcolor": "white",
            "linecolor": "white",
            "ticks": ""
           },
           "bgcolor": "#E5ECF6",
           "radialaxis": {
            "gridcolor": "white",
            "linecolor": "white",
            "ticks": ""
           }
          },
          "scene": {
           "xaxis": {
            "backgroundcolor": "#E5ECF6",
            "gridcolor": "white",
            "gridwidth": 2,
            "linecolor": "white",
            "showbackground": true,
            "ticks": "",
            "zerolinecolor": "white"
           },
           "yaxis": {
            "backgroundcolor": "#E5ECF6",
            "gridcolor": "white",
            "gridwidth": 2,
            "linecolor": "white",
            "showbackground": true,
            "ticks": "",
            "zerolinecolor": "white"
           },
           "zaxis": {
            "backgroundcolor": "#E5ECF6",
            "gridcolor": "white",
            "gridwidth": 2,
            "linecolor": "white",
            "showbackground": true,
            "ticks": "",
            "zerolinecolor": "white"
           }
          },
          "shapedefaults": {
           "line": {
            "color": "#2a3f5f"
           }
          },
          "ternary": {
           "aaxis": {
            "gridcolor": "white",
            "linecolor": "white",
            "ticks": ""
           },
           "baxis": {
            "gridcolor": "white",
            "linecolor": "white",
            "ticks": ""
           },
           "bgcolor": "#E5ECF6",
           "caxis": {
            "gridcolor": "white",
            "linecolor": "white",
            "ticks": ""
           }
          },
          "title": {
           "x": 0.05
          },
          "xaxis": {
           "automargin": true,
           "gridcolor": "white",
           "linecolor": "white",
           "ticks": "",
           "title": {
            "standoff": 15
           },
           "zerolinecolor": "white",
           "zerolinewidth": 2
          },
          "yaxis": {
           "automargin": true,
           "gridcolor": "white",
           "linecolor": "white",
           "ticks": "",
           "title": {
            "standoff": 15
           },
           "zerolinecolor": "white",
           "zerolinewidth": 2
          }
         }
        },
        "title": {
         "text": "Cross-Validation Scores for MLPRegressor"
        },
        "xaxis": {
         "title": {
          "text": "Fold"
         }
        },
        "yaxis": {
         "title": {
          "text": "CV Score (R-squared)"
         }
        }
       }
      }
     },
     "metadata": {},
     "output_type": "display_data"
    },
    {
     "data": {
      "application/vnd.plotly.v1+json": {
       "config": {
        "plotlyServerURL": "https://plot.ly"
       },
       "data": [
        {
         "mode": "lines+markers",
         "name": "XGBRegressor",
         "type": "scatter",
         "x": [
          1,
          2,
          3,
          4,
          5,
          6,
          7,
          8,
          9,
          10
         ],
         "y": [
          0.8581346537437213,
          0.7422920766968542,
          0.8312244372904674,
          0.7225641009961641,
          0.8094487126065111,
          0.7726613998157388,
          0.7965909144915512,
          0.8487588950263512,
          0.7560325226287345,
          0.8607678317754872
         ]
        }
       ],
       "layout": {
        "height": 250,
        "hovermode": "closest",
        "plot_bgcolor": "white",
        "template": {
         "data": {
          "bar": [
           {
            "error_x": {
             "color": "#2a3f5f"
            },
            "error_y": {
             "color": "#2a3f5f"
            },
            "marker": {
             "line": {
              "color": "#E5ECF6",
              "width": 0.5
             },
             "pattern": {
              "fillmode": "overlay",
              "size": 10,
              "solidity": 0.2
             }
            },
            "type": "bar"
           }
          ],
          "barpolar": [
           {
            "marker": {
             "line": {
              "color": "#E5ECF6",
              "width": 0.5
             },
             "pattern": {
              "fillmode": "overlay",
              "size": 10,
              "solidity": 0.2
             }
            },
            "type": "barpolar"
           }
          ],
          "carpet": [
           {
            "aaxis": {
             "endlinecolor": "#2a3f5f",
             "gridcolor": "white",
             "linecolor": "white",
             "minorgridcolor": "white",
             "startlinecolor": "#2a3f5f"
            },
            "baxis": {
             "endlinecolor": "#2a3f5f",
             "gridcolor": "white",
             "linecolor": "white",
             "minorgridcolor": "white",
             "startlinecolor": "#2a3f5f"
            },
            "type": "carpet"
           }
          ],
          "choropleth": [
           {
            "colorbar": {
             "outlinewidth": 0,
             "ticks": ""
            },
            "type": "choropleth"
           }
          ],
          "contour": [
           {
            "colorbar": {
             "outlinewidth": 0,
             "ticks": ""
            },
            "colorscale": [
             [
              0,
              "#0d0887"
             ],
             [
              0.1111111111111111,
              "#46039f"
             ],
             [
              0.2222222222222222,
              "#7201a8"
             ],
             [
              0.3333333333333333,
              "#9c179e"
             ],
             [
              0.4444444444444444,
              "#bd3786"
             ],
             [
              0.5555555555555556,
              "#d8576b"
             ],
             [
              0.6666666666666666,
              "#ed7953"
             ],
             [
              0.7777777777777778,
              "#fb9f3a"
             ],
             [
              0.8888888888888888,
              "#fdca26"
             ],
             [
              1,
              "#f0f921"
             ]
            ],
            "type": "contour"
           }
          ],
          "contourcarpet": [
           {
            "colorbar": {
             "outlinewidth": 0,
             "ticks": ""
            },
            "type": "contourcarpet"
           }
          ],
          "heatmap": [
           {
            "colorbar": {
             "outlinewidth": 0,
             "ticks": ""
            },
            "colorscale": [
             [
              0,
              "#0d0887"
             ],
             [
              0.1111111111111111,
              "#46039f"
             ],
             [
              0.2222222222222222,
              "#7201a8"
             ],
             [
              0.3333333333333333,
              "#9c179e"
             ],
             [
              0.4444444444444444,
              "#bd3786"
             ],
             [
              0.5555555555555556,
              "#d8576b"
             ],
             [
              0.6666666666666666,
              "#ed7953"
             ],
             [
              0.7777777777777778,
              "#fb9f3a"
             ],
             [
              0.8888888888888888,
              "#fdca26"
             ],
             [
              1,
              "#f0f921"
             ]
            ],
            "type": "heatmap"
           }
          ],
          "heatmapgl": [
           {
            "colorbar": {
             "outlinewidth": 0,
             "ticks": ""
            },
            "colorscale": [
             [
              0,
              "#0d0887"
             ],
             [
              0.1111111111111111,
              "#46039f"
             ],
             [
              0.2222222222222222,
              "#7201a8"
             ],
             [
              0.3333333333333333,
              "#9c179e"
             ],
             [
              0.4444444444444444,
              "#bd3786"
             ],
             [
              0.5555555555555556,
              "#d8576b"
             ],
             [
              0.6666666666666666,
              "#ed7953"
             ],
             [
              0.7777777777777778,
              "#fb9f3a"
             ],
             [
              0.8888888888888888,
              "#fdca26"
             ],
             [
              1,
              "#f0f921"
             ]
            ],
            "type": "heatmapgl"
           }
          ],
          "histogram": [
           {
            "marker": {
             "pattern": {
              "fillmode": "overlay",
              "size": 10,
              "solidity": 0.2
             }
            },
            "type": "histogram"
           }
          ],
          "histogram2d": [
           {
            "colorbar": {
             "outlinewidth": 0,
             "ticks": ""
            },
            "colorscale": [
             [
              0,
              "#0d0887"
             ],
             [
              0.1111111111111111,
              "#46039f"
             ],
             [
              0.2222222222222222,
              "#7201a8"
             ],
             [
              0.3333333333333333,
              "#9c179e"
             ],
             [
              0.4444444444444444,
              "#bd3786"
             ],
             [
              0.5555555555555556,
              "#d8576b"
             ],
             [
              0.6666666666666666,
              "#ed7953"
             ],
             [
              0.7777777777777778,
              "#fb9f3a"
             ],
             [
              0.8888888888888888,
              "#fdca26"
             ],
             [
              1,
              "#f0f921"
             ]
            ],
            "type": "histogram2d"
           }
          ],
          "histogram2dcontour": [
           {
            "colorbar": {
             "outlinewidth": 0,
             "ticks": ""
            },
            "colorscale": [
             [
              0,
              "#0d0887"
             ],
             [
              0.1111111111111111,
              "#46039f"
             ],
             [
              0.2222222222222222,
              "#7201a8"
             ],
             [
              0.3333333333333333,
              "#9c179e"
             ],
             [
              0.4444444444444444,
              "#bd3786"
             ],
             [
              0.5555555555555556,
              "#d8576b"
             ],
             [
              0.6666666666666666,
              "#ed7953"
             ],
             [
              0.7777777777777778,
              "#fb9f3a"
             ],
             [
              0.8888888888888888,
              "#fdca26"
             ],
             [
              1,
              "#f0f921"
             ]
            ],
            "type": "histogram2dcontour"
           }
          ],
          "mesh3d": [
           {
            "colorbar": {
             "outlinewidth": 0,
             "ticks": ""
            },
            "type": "mesh3d"
           }
          ],
          "parcoords": [
           {
            "line": {
             "colorbar": {
              "outlinewidth": 0,
              "ticks": ""
             }
            },
            "type": "parcoords"
           }
          ],
          "pie": [
           {
            "automargin": true,
            "type": "pie"
           }
          ],
          "scatter": [
           {
            "fillpattern": {
             "fillmode": "overlay",
             "size": 10,
             "solidity": 0.2
            },
            "type": "scatter"
           }
          ],
          "scatter3d": [
           {
            "line": {
             "colorbar": {
              "outlinewidth": 0,
              "ticks": ""
             }
            },
            "marker": {
             "colorbar": {
              "outlinewidth": 0,
              "ticks": ""
             }
            },
            "type": "scatter3d"
           }
          ],
          "scattercarpet": [
           {
            "marker": {
             "colorbar": {
              "outlinewidth": 0,
              "ticks": ""
             }
            },
            "type": "scattercarpet"
           }
          ],
          "scattergeo": [
           {
            "marker": {
             "colorbar": {
              "outlinewidth": 0,
              "ticks": ""
             }
            },
            "type": "scattergeo"
           }
          ],
          "scattergl": [
           {
            "marker": {
             "colorbar": {
              "outlinewidth": 0,
              "ticks": ""
             }
            },
            "type": "scattergl"
           }
          ],
          "scattermapbox": [
           {
            "marker": {
             "colorbar": {
              "outlinewidth": 0,
              "ticks": ""
             }
            },
            "type": "scattermapbox"
           }
          ],
          "scatterpolar": [
           {
            "marker": {
             "colorbar": {
              "outlinewidth": 0,
              "ticks": ""
             }
            },
            "type": "scatterpolar"
           }
          ],
          "scatterpolargl": [
           {
            "marker": {
             "colorbar": {
              "outlinewidth": 0,
              "ticks": ""
             }
            },
            "type": "scatterpolargl"
           }
          ],
          "scatterternary": [
           {
            "marker": {
             "colorbar": {
              "outlinewidth": 0,
              "ticks": ""
             }
            },
            "type": "scatterternary"
           }
          ],
          "surface": [
           {
            "colorbar": {
             "outlinewidth": 0,
             "ticks": ""
            },
            "colorscale": [
             [
              0,
              "#0d0887"
             ],
             [
              0.1111111111111111,
              "#46039f"
             ],
             [
              0.2222222222222222,
              "#7201a8"
             ],
             [
              0.3333333333333333,
              "#9c179e"
             ],
             [
              0.4444444444444444,
              "#bd3786"
             ],
             [
              0.5555555555555556,
              "#d8576b"
             ],
             [
              0.6666666666666666,
              "#ed7953"
             ],
             [
              0.7777777777777778,
              "#fb9f3a"
             ],
             [
              0.8888888888888888,
              "#fdca26"
             ],
             [
              1,
              "#f0f921"
             ]
            ],
            "type": "surface"
           }
          ],
          "table": [
           {
            "cells": {
             "fill": {
              "color": "#EBF0F8"
             },
             "line": {
              "color": "white"
             }
            },
            "header": {
             "fill": {
              "color": "#C8D4E3"
             },
             "line": {
              "color": "white"
             }
            },
            "type": "table"
           }
          ]
         },
         "layout": {
          "annotationdefaults": {
           "arrowcolor": "#2a3f5f",
           "arrowhead": 0,
           "arrowwidth": 1
          },
          "autotypenumbers": "strict",
          "coloraxis": {
           "colorbar": {
            "outlinewidth": 0,
            "ticks": ""
           }
          },
          "colorscale": {
           "diverging": [
            [
             0,
             "#8e0152"
            ],
            [
             0.1,
             "#c51b7d"
            ],
            [
             0.2,
             "#de77ae"
            ],
            [
             0.3,
             "#f1b6da"
            ],
            [
             0.4,
             "#fde0ef"
            ],
            [
             0.5,
             "#f7f7f7"
            ],
            [
             0.6,
             "#e6f5d0"
            ],
            [
             0.7,
             "#b8e186"
            ],
            [
             0.8,
             "#7fbc41"
            ],
            [
             0.9,
             "#4d9221"
            ],
            [
             1,
             "#276419"
            ]
           ],
           "sequential": [
            [
             0,
             "#0d0887"
            ],
            [
             0.1111111111111111,
             "#46039f"
            ],
            [
             0.2222222222222222,
             "#7201a8"
            ],
            [
             0.3333333333333333,
             "#9c179e"
            ],
            [
             0.4444444444444444,
             "#bd3786"
            ],
            [
             0.5555555555555556,
             "#d8576b"
            ],
            [
             0.6666666666666666,
             "#ed7953"
            ],
            [
             0.7777777777777778,
             "#fb9f3a"
            ],
            [
             0.8888888888888888,
             "#fdca26"
            ],
            [
             1,
             "#f0f921"
            ]
           ],
           "sequentialminus": [
            [
             0,
             "#0d0887"
            ],
            [
             0.1111111111111111,
             "#46039f"
            ],
            [
             0.2222222222222222,
             "#7201a8"
            ],
            [
             0.3333333333333333,
             "#9c179e"
            ],
            [
             0.4444444444444444,
             "#bd3786"
            ],
            [
             0.5555555555555556,
             "#d8576b"
            ],
            [
             0.6666666666666666,
             "#ed7953"
            ],
            [
             0.7777777777777778,
             "#fb9f3a"
            ],
            [
             0.8888888888888888,
             "#fdca26"
            ],
            [
             1,
             "#f0f921"
            ]
           ]
          },
          "colorway": [
           "#636efa",
           "#EF553B",
           "#00cc96",
           "#ab63fa",
           "#FFA15A",
           "#19d3f3",
           "#FF6692",
           "#B6E880",
           "#FF97FF",
           "#FECB52"
          ],
          "font": {
           "color": "#2a3f5f"
          },
          "geo": {
           "bgcolor": "white",
           "lakecolor": "white",
           "landcolor": "#E5ECF6",
           "showlakes": true,
           "showland": true,
           "subunitcolor": "white"
          },
          "hoverlabel": {
           "align": "left"
          },
          "hovermode": "closest",
          "mapbox": {
           "style": "light"
          },
          "paper_bgcolor": "white",
          "plot_bgcolor": "#E5ECF6",
          "polar": {
           "angularaxis": {
            "gridcolor": "white",
            "linecolor": "white",
            "ticks": ""
           },
           "bgcolor": "#E5ECF6",
           "radialaxis": {
            "gridcolor": "white",
            "linecolor": "white",
            "ticks": ""
           }
          },
          "scene": {
           "xaxis": {
            "backgroundcolor": "#E5ECF6",
            "gridcolor": "white",
            "gridwidth": 2,
            "linecolor": "white",
            "showbackground": true,
            "ticks": "",
            "zerolinecolor": "white"
           },
           "yaxis": {
            "backgroundcolor": "#E5ECF6",
            "gridcolor": "white",
            "gridwidth": 2,
            "linecolor": "white",
            "showbackground": true,
            "ticks": "",
            "zerolinecolor": "white"
           },
           "zaxis": {
            "backgroundcolor": "#E5ECF6",
            "gridcolor": "white",
            "gridwidth": 2,
            "linecolor": "white",
            "showbackground": true,
            "ticks": "",
            "zerolinecolor": "white"
           }
          },
          "shapedefaults": {
           "line": {
            "color": "#2a3f5f"
           }
          },
          "ternary": {
           "aaxis": {
            "gridcolor": "white",
            "linecolor": "white",
            "ticks": ""
           },
           "baxis": {
            "gridcolor": "white",
            "linecolor": "white",
            "ticks": ""
           },
           "bgcolor": "#E5ECF6",
           "caxis": {
            "gridcolor": "white",
            "linecolor": "white",
            "ticks": ""
           }
          },
          "title": {
           "x": 0.05
          },
          "xaxis": {
           "automargin": true,
           "gridcolor": "white",
           "linecolor": "white",
           "ticks": "",
           "title": {
            "standoff": 15
           },
           "zerolinecolor": "white",
           "zerolinewidth": 2
          },
          "yaxis": {
           "automargin": true,
           "gridcolor": "white",
           "linecolor": "white",
           "ticks": "",
           "title": {
            "standoff": 15
           },
           "zerolinecolor": "white",
           "zerolinewidth": 2
          }
         }
        },
        "title": {
         "text": "Cross-Validation Scores for XGBRegressor"
        },
        "xaxis": {
         "title": {
          "text": "Fold"
         }
        },
        "yaxis": {
         "title": {
          "text": "CV Score (R-squared)"
         }
        }
       }
      }
     },
     "metadata": {},
     "output_type": "display_data"
    }
   ],
   "source": [
    "# Iterate over each model in the models list and perform cross-validation\n",
    "for model in models:\n",
    "    model_name = type(model).__name__\n",
    "    scores = cross_val_score(model, X_train, y_train, cv=10, scoring='r2')\n",
    "\n",
    "    # Create a new figure for each model\n",
    "    fig = go.Figure()\n",
    "\n",
    "    # Add the cross-validation scores as a line plot to the figure\n",
    "    fig.add_trace(go.Scatter(x=np.arange(1, 11), y=scores, mode='lines+markers', name=model_name))\n",
    "\n",
    "    # Customize the layout of the figure for each model\n",
    "    fig.update_layout(\n",
    "        xaxis=dict(title='Fold'),\n",
    "        yaxis=dict(title='CV Score (R-squared)'),\n",
    "        height = 250,\n",
    "        title=f'Cross-Validation Scores for {model_name}',\n",
    "        hovermode='closest',\n",
    "        plot_bgcolor='white'\n",
    "    )\n",
    "\n",
    "    # Show the interactive plot for each model\n",
    "    fig.show()"
   ]
  },
  {
   "attachments": {},
   "cell_type": "markdown",
   "id": "ff50dbd7",
   "metadata": {
    "papermill": {
     "duration": 0.036852,
     "end_time": "2023-05-23T22:30:17.256826",
     "exception": false,
     "start_time": "2023-05-23T22:30:17.219974",
     "status": "completed"
    },
    "tags": []
   },
   "source": [
    "# <span style='color:dodgerblue; font-weight:bold;'>Conclusion</span>\n",
    "\n",
    "In this analysis, we explored a comprehensive dataset containing 79 explanatory variables describing residential homes in Ames, Iowa. Through various exploratory data analysis (EDA) techniques, we gained insights into the dataset and identified important features related to the sale price of houses.\n",
    "\n",
    "During the EDA process, we examined the dataset's characteristics, such as the number of instances and features, data types, and descriptive statistics. By visualizing the correlations between variables using a heatmap, we discovered significant positive relationships between SalePrice and features like OverallQual, GrLivArea, and TotalBsmtSF.\n",
    "\n",
    "Data cleaning was performed to handle missing values in the dataset. We identified the top three features with missing values as PoolQC, MiscFeature, and Alley. For features with missing values that could be replaced by a mean value, we imputed them accordingly. For other features, we used appropriate imputation techniques such as the most frequent value for categorical variables and the mean value for numerical variables. Data redundancy was not observed, indicating unique instances in the dataset.\n",
    "\n",
    "To prepare the data for machine learning, we performed preprocessing steps. This involved extracting the features (X) and the target variable (y) from the dataset. We then normalized the features using StandardScaler and applied dimensionality reduction using PCA. The data was split into training and validation sets, with a test size of 20% and a training size of 80%.\n",
    "\n",
    "Model selection was conducted using various regression models, including LinearRegression, DecisionTreeRegressor, RandomForestRegressor, SVR, MLPRegressor, and XGBRegressor. Evaluation metrics such as R-squared, Mean Absolute Error (MAE), and Root Mean Squared Error (RMSE) were used to assess the models' performance. Based on these metrics, the Random Forest Regressor and XGBoost Regressor showed relatively higher R-squared values, indicating better ability to explain the variance in the target variable. The Random Forest Regressor also exhibited lower MAE and RMSE values compared to the XGBoost Regressor. Therefore, the Random Forest Regressor may be considered the best model for this specific task. However, further analysis and validation using additional metrics and techniques are recommended to make a more comprehensive conclusion.\n",
    "\n",
    "Additionally, cross-validation was performed to assess the models' generalization performance. The cross-validation scores for all models were plotted, providing an overview of their performance across different folds.\n",
    "\n",
    "Overall, this analysis provides insights into the dataset, performs data cleaning and preprocessing, conducts model selection, and evaluates the models using various metrics. By combining these steps, we can make informed decisions and develop robust models for predicting house prices."
   ]
  }
 ],
 "metadata": {
  "kernelspec": {
   "display_name": "Python 3 (ipykernel)",
   "language": "python",
   "name": "python3"
  },
  "language_info": {
   "codemirror_mode": {
    "name": "ipython",
    "version": 3
   },
   "file_extension": ".py",
   "mimetype": "text/x-python",
   "name": "python",
   "nbconvert_exporter": "python",
   "pygments_lexer": "ipython3",
   "version": "3.9.13"
  },
  "papermill": {
   "default_parameters": {},
   "duration": 76.999631,
   "end_time": "2023-05-23T22:30:18.321777",
   "environment_variables": {},
   "exception": null,
   "input_path": "__notebook__.ipynb",
   "output_path": "__notebook__.ipynb",
   "parameters": {},
   "start_time": "2023-05-23T22:29:01.322146",
   "version": "2.4.0"
  }
 },
 "nbformat": 4,
 "nbformat_minor": 5
}
